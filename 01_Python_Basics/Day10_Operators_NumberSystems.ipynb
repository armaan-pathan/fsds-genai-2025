{
 "cells": [
  {
   "cell_type": "markdown",
   "id": "fe543990",
   "metadata": {},
   "source": [
    "# Day 10 – Operators and Number Systems in Python\n",
    "---\n",
    "Understand Python's core operator categories and learn to work with binary, octal, and hexadecimal number systems."
   ]
  },
  {
   "cell_type": "markdown",
   "id": "1dfe6008",
   "metadata": {},
   "source": [
    "## Python Operators\n",
    "Python provides several types of operators used for performing different types of operations."
   ]
  },
  {
   "cell_type": "markdown",
   "id": "bdaf386e",
   "metadata": {},
   "source": [
    "### 1. Arithmetic Operators"
   ]
  },
  {
   "cell_type": "markdown",
   "id": "391cbf0d",
   "metadata": {},
   "source": [
    "Used to perform basic mathematical operations like addition, subtraction, multiplication, etc.\n",
    "- `+` Addition\n",
    "- `-` Subtraction\n",
    "- `*` Multiplication\n",
    "- `/` Division (returns float)\n",
    "- `%` Modulus (remainder)\n",
    "- `//` Floor Division (returns integer)\n",
    "- `**` Exponentiation (power)"
   ]
  },
  {
   "cell_type": "code",
   "execution_count": 2,
   "id": "c1d05cf5-b8f3-4600-bcc0-8224a12d98bb",
   "metadata": {},
   "outputs": [
    {
     "name": "stdout",
     "output_type": "stream",
     "text": [
      "Addition: 13\n",
      "Subtraction: 7\n",
      "Multiplication: 30\n",
      "Division: 3.3333333333333335\n",
      "Modulus: 1\n",
      "Floor Division: 3\n",
      "Exponentiation: 1000\n"
     ]
    }
   ],
   "source": [
    "a = 10\n",
    "b = 3\n",
    "print('Addition:', a + b)\n",
    "print('Subtraction:', a - b)\n",
    "print('Multiplication:', a * b)\n",
    "print('Division:', a / b)\n",
    "print('Modulus:', a % b)\n",
    "print('Floor Division:', a // b)\n",
    "print('Exponentiation:', a ** b)"
   ]
  },
  {
   "cell_type": "markdown",
   "id": "a9194917",
   "metadata": {},
   "source": [
    "### 2. Comparison (Relational) Operators"
   ]
  },
  {
   "cell_type": "markdown",
   "id": "3bfd49a2",
   "metadata": {},
   "source": [
    "Used to compare two values and return a boolean result (True or False).\n",
    "- `==` Equal\n",
    "- `!=` Not Equal\n",
    "- `>` Greater Than\n",
    "- `<` Less Than\n",
    "- `>=` Greater Than or Equal To\n",
    "- `<=` Less Than or Equal To"
   ]
  },
  {
   "cell_type": "code",
   "execution_count": 3,
   "id": "d12c1b5a",
   "metadata": {},
   "outputs": [
    {
     "name": "stdout",
     "output_type": "stream",
     "text": [
      "Equal: False\n",
      "Not Equal: True\n",
      "Greater Than: True\n",
      "Less Than: False\n",
      "Greater or Equal: True\n",
      "Less or Equal: False\n"
     ]
    }
   ],
   "source": [
    "print('Equal:', a == b)\n",
    "print('Not Equal:', a != b)\n",
    "print('Greater Than:', a > b)\n",
    "print('Less Than:', a < b)\n",
    "print('Greater or Equal:', a >= b)\n",
    "print('Less or Equal:', a <= b)"
   ]
  },
  {
   "cell_type": "markdown",
   "id": "118682d2",
   "metadata": {},
   "source": [
    "### 3. Logical Operators\n",
    "Used to combine multiple conditions:\n",
    "- `and`: True if both operands are true\n",
    "- `or`: True if at least one operand is true\n",
    "- `not`: Inverts the truth value"
   ]
  },
  {
   "cell_type": "code",
   "execution_count": 4,
   "id": "a627c3d4-7cba-4699-a25c-657178f2ca6b",
   "metadata": {},
   "outputs": [
    {
     "name": "stdout",
     "output_type": "stream",
     "text": [
      "True\n",
      "False\n",
      "True\n",
      "False\n",
      "True\n"
     ]
    }
   ],
   "source": [
    "# Logical operations with comments\n",
    "\n",
    "x = 5\n",
    "y = 10\n",
    "\n",
    "print(x > 2 and y > 5)   # ➤ True (both conditions are True)\n",
    "print(x > 6 and y > 5)   # ➤ False (x > 6 is False)\n",
    "\n",
    "print(x > 6 or y > 5)    # ➤ True (one condition is True)\n",
    "print(x > 6 or y < 5)    # ➤ False (both conditions are False)\n",
    "\n",
    "print(not (x > 6))       # ➤ True (x > 6 is False, not makes it True)"
   ]
  },
  {
   "cell_type": "markdown",
   "id": "197d95ce",
   "metadata": {},
   "source": [
    "### 4. Identity Operators\n",
    "Check whether two variables point to the same object in memory:\n",
    "- `is`: True if both refer to the same object\n",
    "- `is not`: True if they do not refer to the same object"
   ]
  },
  {
   "cell_type": "code",
   "execution_count": 5,
   "id": "10cb82df",
   "metadata": {},
   "outputs": [
    {
     "name": "stdout",
     "output_type": "stream",
     "text": [
      "True\n",
      "False\n",
      "True\n",
      "True\n"
     ]
    }
   ],
   "source": [
    "# Identity operator examples\n",
    "\n",
    "a = [1, 2, 3]\n",
    "b = [1, 2, 3]\n",
    "c = a\n",
    "\n",
    "print(a is c)       # ➤ True (c refers to same object as a)\n",
    "print(a is b)       # ➤ False (b is a different object with same content)\n",
    "print(a == b)       # ➤ True (values are the same)\n",
    "print(a is not b)   # ➤ True (different objects)"
   ]
  },
  {
   "cell_type": "markdown",
   "id": "76c8b6f6",
   "metadata": {},
   "source": [
    "### 5. Membership Operators\n",
    "Used to test if a value is in a sequence:\n",
    "- `in`: True if value exists\n",
    "- `not in`: True if value does not exist"
   ]
  },
  {
   "cell_type": "code",
   "execution_count": 6,
   "id": "f17d99c5-42a2-412e-aa5d-c867bed5eda9",
   "metadata": {},
   "outputs": [
    {
     "name": "stdout",
     "output_type": "stream",
     "text": [
      "True\n",
      "False\n",
      "True\n",
      "True\n",
      "True\n"
     ]
    }
   ],
   "source": [
    "# Membership operator examples\n",
    "\n",
    "fruits = ['apple', 'banana', 'mango']\n",
    "\n",
    "print('apple' in fruits)      # ➤ True\n",
    "print('grape' in fruits)      # ➤ False\n",
    "print('grape' not in fruits)  # ➤ True\n",
    "\n",
    "name = \"Mubasshir\"\n",
    "print('a' in name)            # ➤ True\n",
    "print('f' not in name)        # ➤ True"
   ]
  },
  {
   "cell_type": "markdown",
   "id": "99a5ed5a",
   "metadata": {},
   "source": [
    "### 6. Bitwise Operators\n",
    "Bitwise operators work on bits and perform bit-by-bit operations.\n",
    "They are mainly used in low-level programming, binary calculations, and performance tuning.\n",
    "Used to compare (binary) bits:\n",
    "#### 6.1. `&` : AND - 1 only if both bits are 1\n",
    "#### Rule: 1 & 1 = 1, 1 & 0 = 0, 0 & 1 = 0, 0 & 0 = 0 \n",
    "\n",
    "#### 6.2. `|` : OR - 1 if at least one bit is 1\n",
    "#### Rule: 1 | 1 = 1, 1 | 0 = 1, 0 | 1 = 1, 0 | 0 = 0 \n",
    "\n",
    "#### 6.3. `^` : XOR - 1 if bits are different\n",
    "#### Rule: 1 ^ 1 = 0, 1 ^ 0 = 1, 0 ^ 1 = 1, 0 ^ 0 = 0 \n",
    "\n",
    "#### 6.4. `~` : NOT - flips all bits (inverts 1→0 and 0→1), result is negative in Python\n",
    "\n",
    "#### 6.5. `<<` : Left Shift -  shifts bits left, like multiplying by 2\n",
    "\n",
    "#### 6.6. `>>` : Right Shift -  shifts bits right, like dividing by 2"
   ]
  },
  {
   "cell_type": "code",
   "execution_count": 8,
   "id": "20d2777d",
   "metadata": {},
   "outputs": [
    {
     "name": "stdout",
     "output_type": "stream",
     "text": [
      "Bitwise AND: 1\n",
      "Bitwise OR: 7\n",
      "Bitwise XOR: 6\n",
      "Bitwise NOT a: -6\n",
      "Left Shift a: 10\n",
      "Right Shift b: 1\n"
     ]
    }
   ],
   "source": [
    "a = 5  # 0b0101\n",
    "b = 3  # 0b0011\n",
    "print('Bitwise AND:', a & b)\n",
    "print('Bitwise OR:', a | b)\n",
    "print('Bitwise XOR:', a ^ b)\n",
    "print('Bitwise NOT a:', ~a)\n",
    "print('Left Shift a:', a << 1)\n",
    "print('Right Shift b:', b >> 1)"
   ]
  },
  {
   "cell_type": "markdown",
   "id": "d0baad83",
   "metadata": {},
   "source": [
    "## Number Systems in Python\n",
    "Python can handle numbers in various bases like binary, octal, and hexadecimal."
   ]
  },
  {
   "cell_type": "markdown",
   "id": "076bd743-3437-4300-a6d4-1b7914759e0c",
   "metadata": {},
   "source": [
    "Python supports conversions between different number systems:\n",
    "- `bin()`: Convert to binary string\n",
    "- `oct()`: Convert to octal string\n",
    "- `hex()`: Convert to hexadecimal string\n",
    "- `int(str, base)`: Convert from string with base to decimal integer"
   ]
  },
  {
   "cell_type": "code",
   "execution_count": 10,
   "id": "5125c88c",
   "metadata": {},
   "outputs": [
    {
     "name": "stdout",
     "output_type": "stream",
     "text": [
      "Binary: 0b11001\n",
      "Octal: 0o31\n",
      "Hexadecimal: 0x19\n"
     ]
    }
   ],
   "source": [
    "num = 25\n",
    "print('Binary:', bin(num))     # 0b11001\n",
    "print('Octal:', oct(num))     # 0o31\n",
    "print('Hexadecimal:', hex(num)) # 0x19"
   ]
  },
  {
   "cell_type": "code",
   "execution_count": 12,
   "id": "7d867af8",
   "metadata": {},
   "outputs": [
    {
     "name": "stdout",
     "output_type": "stream",
     "text": [
      "Binary to Decimal: 25\n",
      "Octal to Decimal: 25\n",
      "Hex to Decimal: 25\n"
     ]
    }
   ],
   "source": [
    "# Conversion from Strings with Base\n",
    "print('Binary to Decimal:', int('11001', 2))\n",
    "print('Octal to Decimal:', int('31', 8))\n",
    "print('Hex to Decimal:', int('19', 16))"
   ]
  }
 ],
 "metadata": {
  "kernelspec": {
   "display_name": "Python 3 (ipykernel)",
   "language": "python",
   "name": "python3"
  },
  "language_info": {
   "codemirror_mode": {
    "name": "ipython",
    "version": 3
   },
   "file_extension": ".py",
   "mimetype": "text/x-python",
   "name": "python",
   "nbconvert_exporter": "python",
   "pygments_lexer": "ipython3",
   "version": "3.13.5"
  }
 },
 "nbformat": 4,
 "nbformat_minor": 5
}
