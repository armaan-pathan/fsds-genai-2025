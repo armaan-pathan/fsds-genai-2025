{
 "cells": [
  {
   "cell_type": "markdown",
   "id": "638e92d2",
   "metadata": {},
   "source": [
    "# Day 09 – `range()` in Python\n",
    "---\n",
    "Understand how Python's `range()` function works with one, two, and three arguments, and its key properties."
   ]
  },
  {
   "cell_type": "markdown",
   "id": "c121ddf0",
   "metadata": {},
   "source": [
    "## What is `range()` in Python?\n",
    "The `range()` function is used to generate a sequence of numbers. It is commonly used in loops, especially `for` loops.\n",
    "\n",
    "**Key Properties:**\n",
    "- Immutable and memory efficient (lazy evaluation)\n",
    "- Can take 1, 2, or 3 arguments\n",
    "- Commonly used with `for` loops\n",
    "- Returns a `range` object, which can be converted to a list if needed\n",
    "- **Does NOT support floats** — only integers are allowed"
   ]
  },
  {
   "cell_type": "markdown",
   "id": "4eca9ff5",
   "metadata": {},
   "source": [
    "## 1. `range(stop)` – One Argument"
   ]
  },
  {
   "cell_type": "code",
   "execution_count": 1,
   "id": "7b4238db",
   "metadata": {},
   "outputs": [
    {
     "name": "stdout",
     "output_type": "stream",
     "text": [
      "0\n",
      "1\n",
      "2\n",
      "3\n",
      "4\n"
     ]
    }
   ],
   "source": [
    "for i in range(5):\n",
    "    print(i)  # Prints 0 to 4"
   ]
  },
  {
   "cell_type": "markdown",
   "id": "106e3797",
   "metadata": {},
   "source": [
    "## 2️. `range(start, stop)` – Two Arguments"
   ]
  },
  {
   "cell_type": "code",
   "execution_count": 2,
   "id": "fb8fd794",
   "metadata": {},
   "outputs": [
    {
     "name": "stdout",
     "output_type": "stream",
     "text": [
      "2\n",
      "3\n",
      "4\n",
      "5\n",
      "6\n"
     ]
    }
   ],
   "source": [
    "for i in range(2, 7):\n",
    "    print(i)  # Prints 2 to 6"
   ]
  },
  {
   "cell_type": "markdown",
   "id": "fc6fe816",
   "metadata": {},
   "source": [
    "## 3️. `range(start, stop, step)` – Three Arguments"
   ]
  },
  {
   "cell_type": "code",
   "execution_count": null,
   "id": "39876161",
   "metadata": {},
   "outputs": [],
   "source": [
    "for i in range(1, 10, 2):\n",
    "    print(i)  # Prints 1, 3, 5, 7, 9"
   ]
  },
  {
   "cell_type": "markdown",
   "id": "71f74305",
   "metadata": {},
   "source": [
    "## 🎁 Bonus: Convert range to list"
   ]
  },
  {
   "cell_type": "code",
   "execution_count": null,
   "id": "78efd6cf",
   "metadata": {},
   "outputs": [],
   "source": [
    "r = range(5)\n",
    "print(list(r))  # [0, 1, 2, 3, 4]"
   ]
  },
  {
   "cell_type": "markdown",
   "id": "7e3076e0",
   "metadata": {},
   "source": [
    "## ⚠️ Note: range() does NOT support floats"
   ]
  },
  {
   "cell_type": "code",
   "execution_count": null,
   "id": "bbddfe34",
   "metadata": {},
   "outputs": [],
   "source": [
    "# This will raise an error\n",
    "# range(0.5, 5.5, 0.5)\n",
    "# TypeError: 'float' object cannot be interpreted as an integer"
   ]
  }
 ],
 "metadata": {
  "kernelspec": {
   "display_name": "Python 3 (ipykernel)",
   "language": "python",
   "name": "python3"
  },
  "language_info": {
   "codemirror_mode": {
    "name": "ipython",
    "version": 3
   },
   "file_extension": ".py",
   "mimetype": "text/x-python",
   "name": "python",
   "nbconvert_exporter": "python",
   "pygments_lexer": "ipython3",
   "version": "3.13.5"
  }
 },
 "nbformat": 4,
 "nbformat_minor": 5
}
