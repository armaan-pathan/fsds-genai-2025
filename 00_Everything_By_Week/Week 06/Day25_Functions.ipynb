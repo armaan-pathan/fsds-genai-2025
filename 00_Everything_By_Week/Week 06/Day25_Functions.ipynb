{
 "cells": [
  {
   "cell_type": "markdown",
   "id": "5b5dc389-1f18-4ab4-bad8-d698db4d1594",
   "metadata": {},
   "source": [
    "# Day 25 - Functions in Python\n",
    "\n",
    "Functions are reusable blocks of code that perform a specific task. They help make code **modular**, **organized**, and **easy to debug**.\n",
    "\n",
    "We use functions to avoid repetition and improve clarity in large programs.\n",
    "\n",
    "In this notebook, I explored how to:\n",
    "- Define and call functions\n",
    "- Pass arguments to functions\n",
    "- Return values from functions"
   ]
  },
  {
   "cell_type": "code",
   "execution_count": 1,
   "id": "3c026116-247b-40ba-bcb5-2963810a769a",
   "metadata": {},
   "outputs": [],
   "source": [
    "def greet():\n",
    " print('Hello')\n",
    " print('Good Morning Team')"
   ]
  },
  {
   "cell_type": "code",
   "execution_count": 2,
   "id": "f539bfa7-5e9c-4af0-b8a5-3a67df2d918b",
   "metadata": {},
   "outputs": [
    {
     "name": "stdout",
     "output_type": "stream",
     "text": [
      "Hello\n",
      "Good Morning Team\n"
     ]
    }
   ],
   "source": [
    "def greet():\n",
    " print(\"Hello\")\n",
    " print(\"Good Morning Team\")\n",
    "greet() "
   ]
  },
  {
   "cell_type": "code",
   "execution_count": 3,
   "id": "2bfcd6de-5847-485d-814d-6995761a8744",
   "metadata": {},
   "outputs": [
    {
     "name": "stdout",
     "output_type": "stream",
     "text": [
      "Hello\n",
      "Good Morning Team\n",
      "Hello\n",
      "Good Morning Team\n"
     ]
    }
   ],
   "source": [
    "def greet():\n",
    " print(\"Hello\")\n",
    " print(\"Good Morning Team\")\n",
    "greet()\n",
    "def greet():\n",
    " print(\"Hello\")\n",
    " print(\"Good Morning Team\")\n",
    "greet()"
   ]
  },
  {
   "cell_type": "code",
   "execution_count": 4,
   "id": "5ee86476-55f7-47c0-ad66-143e0fdeed5d",
   "metadata": {},
   "outputs": [
    {
     "name": "stdout",
     "output_type": "stream",
     "text": [
      "Hello\n",
      "Good Morning Team\n",
      "\n",
      "Hello\n",
      "Good Morning Team\n"
     ]
    }
   ],
   "source": [
    "def greet():\n",
    " print(\"Hello\")\n",
    " print(\"Good Morning Team\")\n",
    "greet()\n",
    "\n",
    "print()\n",
    "\n",
    "def greet():\n",
    " print(\"Hello\")\n",
    " print(\"Good Morning Team\")\n",
    "greet() "
   ]
  },
  {
   "cell_type": "code",
   "execution_count": 5,
   "id": "700c3ff0-400c-46d0-8404-606dff4f8f2a",
   "metadata": {},
   "outputs": [
    {
     "name": "stdout",
     "output_type": "stream",
     "text": [
      "Hello\n",
      "Good Morning Team\n",
      "\n",
      "Hello\n",
      "Good Morning Team\n",
      "\n",
      "Hello\n",
      "Good Morning Team\n",
      "\n",
      "Hello\n",
      "Good Morning Team\n"
     ]
    }
   ],
   "source": [
    "def greet():\n",
    " print(\"Hello\")\n",
    " print(\"Good Morning Team\")\n",
    "greet()\n",
    "print()\n",
    "\n",
    "def greet():\n",
    " print(\"Hello\")\n",
    " print(\"Good Morning Team\")\n",
    "greet()\n",
    "print()\n",
    "\n",
    "def greet():\n",
    " print(\"Hello\")\n",
    " print(\"Good Morning Team\")\n",
    "greet()\n",
    "print()\n",
    "\n",
    "def greet():\n",
    " print(\"Hello\")\n",
    " print(\"Good Morning Team\")\n",
    "greet() "
   ]
  },
  {
   "cell_type": "markdown",
   "id": "48c429b9-70da-42d1-9465-d0aeff6232c4",
   "metadata": {},
   "source": [
    "## Function Without Arguments\n",
    "\n",
    "These are the simplest functions — they don’t take any input from the user.\n",
    "\n",
    "The function is defined with `def`, and its code runs only when you call it."
   ]
  },
  {
   "cell_type": "code",
   "execution_count": 6,
   "id": "8cfde6ab-ada1-40ee-9353-a0c9ca51ac71",
   "metadata": {},
   "outputs": [
    {
     "name": "stdout",
     "output_type": "stream",
     "text": [
      "Hello\n",
      "Good Morning Team\n",
      "******\n",
      "Hello\n",
      "Good Morning Team\n",
      "******\n",
      "Hello\n",
      "Good Morning Team\n"
     ]
    }
   ],
   "source": [
    "def greet(): #Declare function Without Argument\n",
    " print(\"Hello\")\n",
    " print(\"Good Morning Team\")\n",
    "greet()\n",
    "print('******')\n",
    "greet()\n",
    "print('******')\n",
    "greet() #function calling without argument\n"
   ]
  },
  {
   "cell_type": "code",
   "execution_count": 7,
   "id": "4994475b-0653-4616-bee6-8aa3442a74e4",
   "metadata": {},
   "outputs": [
    {
     "name": "stdout",
     "output_type": "stream",
     "text": [
      "Hello\n",
      "Good Morning Team\n"
     ]
    }
   ],
   "source": [
    "#Function Without Argument\n",
    "def greet():\n",
    " print(\"Hello\")\n",
    " print(\"Good Morning Team\")\n",
    "greet() "
   ]
  },
  {
   "cell_type": "markdown",
   "id": "da69dc28-5d9e-4ee9-b1c2-704076ba38c5",
   "metadata": {},
   "source": [
    "## Function With Arguments\n",
    "\n",
    "Functions can accept **inputs/arguments** which let us pass data when we call them."
   ]
  },
  {
   "cell_type": "code",
   "execution_count": 8,
   "id": "88aa360f-ffe7-41a5-b8f9-46d72849e30c",
   "metadata": {},
   "outputs": [
    {
     "name": "stdout",
     "output_type": "stream",
     "text": [
      "17\n"
     ]
    }
   ],
   "source": [
    "#Function With Argument\n",
    "def add(x,y):\n",
    " c= x + y\n",
    " print(c)\n",
    "add(8,9) "
   ]
  },
  {
   "cell_type": "code",
   "execution_count": 9,
   "id": "ce7d4ff1-5eba-402f-a9aa-7e1d241531b6",
   "metadata": {},
   "outputs": [
    {
     "name": "stdout",
     "output_type": "stream",
     "text": [
      "Sum is: 17\n"
     ]
    }
   ],
   "source": [
    "#Function With Argument\n",
    "def add(x,y):\n",
    " c= x + y\n",
    " return c\n",
    "print(\"Sum is:\", add(8,9))\n"
   ]
  },
  {
   "cell_type": "code",
   "execution_count": 10,
   "id": "b3e0850f-b430-4946-b62a-40e1879d7134",
   "metadata": {},
   "outputs": [
    {
     "data": {
      "text/plain": [
       "11"
      ]
     },
     "execution_count": 10,
     "metadata": {},
     "output_type": "execute_result"
    }
   ],
   "source": [
    "#Function With Argument\n",
    "def add(x,y,z):\n",
    " c=x + y\n",
    " return c\n",
    "add(5,6,7)"
   ]
  },
  {
   "cell_type": "code",
   "execution_count": 11,
   "id": "e1d8539d-abb8-42ef-9290-c535e8f73830",
   "metadata": {},
   "outputs": [
    {
     "data": {
      "text/plain": [
       "26"
      ]
     },
     "execution_count": 11,
     "metadata": {},
     "output_type": "execute_result"
    }
   ],
   "source": [
    "#function with Argument\n",
    "def add(x,y,z,n):\n",
    " c = x+y+z+n\n",
    " return c\n",
    "add(5,6,7,8)"
   ]
  },
  {
   "cell_type": "code",
   "execution_count": 12,
   "id": "ae53d6c0-b93a-4218-a4de-c2691801bdcc",
   "metadata": {},
   "outputs": [
    {
     "name": "stdout",
     "output_type": "stream",
     "text": [
      "Hello\n",
      "Good Morning Team\n"
     ]
    },
    {
     "data": {
      "text/plain": [
       "17"
      ]
     },
     "execution_count": 12,
     "metadata": {},
     "output_type": "execute_result"
    }
   ],
   "source": [
    "def greet():\n",
    " print(\"Hello\")\n",
    " print(\"Good Morning Team\")\n",
    "greet()\n",
    "\n",
    "def add(x,y):\n",
    " c = x + y\n",
    " return c\n",
    "add(8,9)"
   ]
  },
  {
   "cell_type": "code",
   "execution_count": 13,
   "id": "4c1dc157-3a93-42a7-bd62-89a1d2b01bd6",
   "metadata": {},
   "outputs": [
    {
     "name": "stdout",
     "output_type": "stream",
     "text": [
      "Hello\n",
      "Good Morning Team\n",
      "12\n",
      "4\n"
     ]
    }
   ],
   "source": [
    "def grret():\n",
    " print(\"Hello\")\n",
    " print(\"Good Morning Team\")\n",
    "    \n",
    "def add(x,y):\n",
    " c = x + y\n",
    " return c\n",
    "    \n",
    "def sub(x,y):\n",
    " d = x - y\n",
    " return d\n",
    "    \n",
    "greet()\n",
    "print(add(7,5))\n",
    "print(sub(9,5))"
   ]
  },
  {
   "cell_type": "markdown",
   "id": "5c4f1902-55d4-44e4-b98d-db7f7d7fd65f",
   "metadata": {},
   "source": [
    "## Function With Multiple Operations\n",
    "\n",
    "Functions can do more than one task. For example, this function adds and subtracts two numbers in a single call."
   ]
  },
  {
   "cell_type": "code",
   "execution_count": 14,
   "id": "5c9cf510-8fb9-4856-8a98-7a6f432993e2",
   "metadata": {},
   "outputs": [
    {
     "name": "stdout",
     "output_type": "stream",
     "text": [
      "(12, 2)\n",
      "<class 'tuple'>\n"
     ]
    }
   ],
   "source": [
    "def add_sub(x,y):\n",
    " c = x + y\n",
    " d = x - y\n",
    " return c, d\n",
    "    \n",
    "result= add_sub(7,5)\n",
    "print(result)\n",
    "print(type(result))"
   ]
  },
  {
   "cell_type": "code",
   "execution_count": 15,
   "id": "e38611d1-0ade-45eb-bbd0-6d63dede4fb7",
   "metadata": {},
   "outputs": [
    {
     "name": "stdout",
     "output_type": "stream",
     "text": [
      "12\n",
      "2\n",
      "<class 'int'>\n"
     ]
    }
   ],
   "source": [
    "def add_sub(x,y):\n",
    " c= x+y\n",
    " d= x-y\n",
    " return c, d\n",
    "\n",
    "result, result1 = add_sub(7,5)\n",
    "print(result)\n",
    "print(result1)\n",
    "print(type(result))"
   ]
  },
  {
   "cell_type": "markdown",
   "id": "f8b381ea-ef71-4850-98a8-b0eb8cc3334e",
   "metadata": {},
   "source": [
    "## Function Returning Multiple Outputs\n",
    "\n",
    "A function can return multiple values using `return`, separated by commas.\n",
    "\n",
    "This is useful when you want to perform multiple operations and keep the result."
   ]
  },
  {
   "cell_type": "markdown",
   "id": "9cad0d41-1704-4625-bbcd-daa01e4d5e8d",
   "metadata": {},
   "source": [
    "## Function Returning Multiple Outputs\n",
    "\n",
    "A function can return multiple values using `return`, separated by commas.\n",
    "\n",
    "This is useful when you want to perform multiple operations and keep the result."
   ]
  },
  {
   "cell_type": "code",
   "execution_count": 16,
   "id": "6d929b0c-2a6c-4993-b8dd-01baaf2ba001",
   "metadata": {},
   "outputs": [
    {
     "name": "stdout",
     "output_type": "stream",
     "text": [
      "The addition of two numbers: 9\n",
      "The subtraction of two numbers: -1\n",
      "The multiplication of two numbers: 20\n"
     ]
    }
   ],
   "source": [
    "def add_sub_mul(x,y):\n",
    " c= x+y\n",
    " d= x-y\n",
    " e= x*y\n",
    " return c, d, e\n",
    "\n",
    "add, sub, mul = add_sub_mul(4,5)\n",
    "print('The addition of two numbers:', add)\n",
    "print('The subtraction of two numbers:', sub)\n",
    "print('The multiplication of two numbers:', mul)"
   ]
  },
  {
   "cell_type": "markdown",
   "id": "5dea1853-5c41-42ad-ae86-ee9b7e15a842",
   "metadata": {},
   "source": [
    "## Update"
   ]
  },
  {
   "cell_type": "code",
   "execution_count": 17,
   "id": "10eb9742-a2b4-4d39-813a-82ffc8157559",
   "metadata": {},
   "outputs": [
    {
     "name": "stdout",
     "output_type": "stream",
     "text": [
      "8\n"
     ]
    }
   ],
   "source": [
    "def update():\n",
    " x = 8\n",
    " print(x)\n",
    "update() "
   ]
  },
  {
   "cell_type": "code",
   "execution_count": 18,
   "id": "c4934458-9c22-4b39-82eb-426d1fa25236",
   "metadata": {},
   "outputs": [
    {
     "data": {
      "text/plain": [
       "8"
      ]
     },
     "execution_count": 18,
     "metadata": {},
     "output_type": "execute_result"
    }
   ],
   "source": [
    "def update(x):\n",
    " x = 8\n",
    " return(x)\n",
    "update(100)"
   ]
  },
  {
   "cell_type": "code",
   "execution_count": 19,
   "id": "14222063-e15e-4f99-b212-71841acc49b3",
   "metadata": {},
   "outputs": [
    {
     "name": "stdout",
     "output_type": "stream",
     "text": [
      "15\n"
     ]
    }
   ],
   "source": [
    "def update(x):\n",
    " x = 8\n",
    " return x\n",
    "a = 15\n",
    "update(a)\n",
    "print(a)"
   ]
  }
 ],
 "metadata": {
  "kernelspec": {
   "display_name": "Python 3 (ipykernel)",
   "language": "python",
   "name": "python3"
  },
  "language_info": {
   "codemirror_mode": {
    "name": "ipython",
    "version": 3
   },
   "file_extension": ".py",
   "mimetype": "text/x-python",
   "name": "python",
   "nbconvert_exporter": "python",
   "pygments_lexer": "ipython3",
   "version": "3.13.5"
  }
 },
 "nbformat": 4,
 "nbformat_minor": 5
}
