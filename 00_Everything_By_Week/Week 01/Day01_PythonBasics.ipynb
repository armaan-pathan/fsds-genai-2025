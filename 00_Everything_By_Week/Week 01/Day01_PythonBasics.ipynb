{
 "cells": [
  {
   "cell_type": "markdown",
   "id": "e323bbc0-af1b-4c51-8372-e8f77a50f80b",
   "metadata": {},
   "source": [
    "# Day 01 – Python Basics: Arithmetic Operations & Data Types\n",
    "---\n",
    "- Understand and practice basic Python operations including arithmetic, data types, and the `type()` function.\n",
    "- Performed basic arithmetic operations using `+`, `-`, `*`, `/`, `**`, `%`, and `//`.\n",
    "- Identified data types using the `type()` function.\n",
    "- Got familiar with Python's core types: int, float, complex, string, list, dict, set, tuple, and bool."
   ]
  },
  {
   "cell_type": "markdown",
   "id": "9c52c2ce-13e0-4180-be31-e635e1546d5c",
   "metadata": {},
   "source": [
    "## Arithmetic Operations\n",
    "Below are some of the fundamental arithmetic operations supported in Python."
   ]
  },
  {
   "cell_type": "code",
   "execution_count": 1,
   "id": "cc6a7661-bbfc-4006-9bc6-fae5a3da1df4",
   "metadata": {},
   "outputs": [
    {
     "name": "stdout",
     "output_type": "stream",
     "text": [
      "5\n",
      "1\n",
      "6\n",
      "1.5\n",
      "9\n",
      "1\n",
      "1\n"
     ]
    }
   ],
   "source": [
    "print(3 + 2)  # addition (+)\n",
    "print(3 - 2)  # subtraction (-)\n",
    "print(3 * 2)  # multiplication (*)\n",
    "print(3 / 2)  # division (/)\n",
    "print(3 ** 2) # exponential (**)\n",
    "print(3 % 2)  # modulus (%)\n",
    "print(3 // 2)  # floor division (//)"
   ]
  },
  {
   "cell_type": "markdown",
   "id": "e9cab9f4-26ad-4713-95cc-a1c3b20bf959",
   "metadata": {},
   "source": [
    "## Data Types in Python\n",
    "Python supports several built-in data types. The `type()` function is used to check the type of a variable or value."
   ]
  },
  {
   "cell_type": "code",
   "execution_count": 3,
   "id": "347db037-9eaa-480e-9962-347595070689",
   "metadata": {},
   "outputs": [
    {
     "name": "stdout",
     "output_type": "stream",
     "text": [
      "<class 'int'>\n",
      "<class 'float'>\n",
      "<class 'complex'>\n",
      "<class 'str'>\n",
      "<class 'list'>\n",
      "<class 'dict'>\n",
      "<class 'set'>\n",
      "<class 'tuple'>\n",
      "<class 'bool'>\n",
      "<class 'bool'>\n"
     ]
    }
   ],
   "source": [
    "print(type(10))             # Int\n",
    "print(type(3.14))           # Float\n",
    "print(type(1 + 3j))         # Complex\n",
    "print(type('Arman Pathan')) # String\n",
    "print(type([1, 2, 3]))      # List\n",
    "print(type({'name': 'Arman'}))  # Dictionary\n",
    "print(type({9.8, 3.14, 2.7}))   # Set\n",
    "print(type((9.8, 3.14, 2.7)))   # Tuple\n",
    "print(type(3 == 3))         # Bool\n",
    "print(type(3 >= 3))         # Bool"
   ]
  }
 ],
 "metadata": {
  "kernelspec": {
   "display_name": "Python 3 (ipykernel)",
   "language": "python",
   "name": "python3"
  },
  "language_info": {
   "codemirror_mode": {
    "name": "ipython",
    "version": 3
   },
   "file_extension": ".py",
   "mimetype": "text/x-python",
   "name": "python",
   "nbconvert_exporter": "python",
   "pygments_lexer": "ipython3",
   "version": "3.13.5"
  }
 },
 "nbformat": 4,
 "nbformat_minor": 5
}
