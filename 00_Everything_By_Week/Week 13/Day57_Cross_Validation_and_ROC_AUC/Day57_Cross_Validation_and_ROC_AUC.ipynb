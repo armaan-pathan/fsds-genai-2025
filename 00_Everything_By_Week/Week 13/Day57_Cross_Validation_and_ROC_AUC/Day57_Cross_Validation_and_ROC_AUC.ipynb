{
 "cells": [
  {
   "cell_type": "markdown",
   "id": "011dfb00-be38-4059-803a-06cb2c460492",
   "metadata": {},
   "source": [
    "# Day 57 – Cross-Validation and ROC/AUC Curves \n",
    "\n",
    "## Introduction\n",
    "\n",
    "Today, I explore **Cross-Validation** and **ROC/AUC curves**, two important techniques for evaluating classification models.  \n",
    "\n",
    "Cross-validation helps estimate how well a model generalizes by training and testing on different data folds, instead of relying on a single train-test split.  \n",
    "ROC (Receiver Operating Characteristic) curves and AUC (Area Under Curve) provide deeper insights into model performance across classification thresholds.  \n",
    "\n",
    "In this notebook, I apply cross-validation to measure accuracy and ROC-AUC, and then plot the ROC curve with AUC score to evaluate how well the model distinguishes between classes.\n",
    "\n",
    "---\n",
    "\n",
    "## 1. The Problem with a Simple Train/Test Split\n",
    "\n",
    "When we split our data into a single training and testing set, we run into a few potential issues:\n",
    "* **Data Leakage**: Information from the test set can unintentionally influence the training process, leading to an overly optimistic performance score.\n",
    "* **Model Instability**: The performance of the model can be highly dependent on which specific data points end up in the test set. If the test set is, by chance, very easy, our model will appear to be better than it actually is.\n",
    "* **Wasted Data**: A simple split means we hold out a portion of our data purely for testing, which reduces the amount of data available for training.\n",
    "\n",
    "This is where **Cross-Validation** comes in.\n",
    "\n",
    "---\n",
    "\n",
    "## 2. Cross-Validation: A Better Way to Evaluate\n",
    "\n",
    "**Cross-Validation** is a technique for evaluating a model's performance by training it on multiple different subsets of the data. The goal is to get a more reliable and stable estimate of how the model will perform on unseen data.\n",
    "\n",
    "\n",
    "### Types of Cross-Validation\n",
    "- **k-Fold Cross-Validation**:  \n",
    "  - Data is split into *k* equal folds.  \n",
    "  - Model is trained on k-1 folds and tested on the remaining fold.  \n",
    "  - This is repeated k times, and results are averaged.  \n",
    "\n",
    "- **Stratified k-Fold**:  \n",
    "  - Similar to k-Fold but preserves the class distribution in each fold.  \n",
    "  - Especially important for classification problems.  \n",
    "\n",
    "- **Nested Cross-Validation**:  \n",
    "  - Used when performing hyperparameter tuning.  \n",
    "  - An inner loop tunes parameters, while an outer loop evaluates performance.  \n",
    "  - Prevents data leakage and overly optimistic results.\n",
    "\n",
    "\n",
    "### How it works: K-Fold Cross-Validation\n",
    "\n",
    "The most common form is **K-Fold Cross-Validation**:\n",
    "1.  The entire dataset is divided into `K` equal-sized parts, or \"folds.\"\n",
    "2.  The model is trained `K` times. In each iteration, one fold is used as the **testing set**, and the remaining `K-1` folds are combined to form the **training set**.\n",
    "3.  The model's performance (e.g., accuracy, MSE) is recorded for each of the `K` iterations.\n",
    "4.  The final performance metric is the **average** of the scores from all `K` iterations.\n",
    "\n",
    "\n",
    "**Why it's better:**\n",
    "* It ensures that every data point gets to be in the test set exactly once, giving a more representative measure of the model's performance.\n",
    "* It provides an average score and a standard deviation of the scores, which gives us a better idea of the model's stability.\n",
    "* It reduces the risk of overfitting to a single train/test split.\n",
    "* It helps in selecting the best model or hyperparameters.  \n",
    "\n",
    "---\n",
    "\n",
    "## 3. ROC and AUC Curves: Evaluating Classification Models\n",
    "\n",
    "The **Receiver Operating Characteristic (ROC) Curve** and the **Area Under the Curve (AUC)** are powerful tools for evaluating the performance of a classification model.\n",
    "\n",
    "### The ROC Curve\n",
    "\n",
    "The ROC curve is a graph that visualizes a model's performance at all possible classification thresholds.\n",
    "* It plots the **True Positive Rate (TPR)** against the **False Positive Rate (FPR)** at different thresholds.\n",
    "* **True Positive Rate (TPR)**: Also known as **Recall** or **Sensitivity**, this is the proportion of actual positive cases that the model correctly identified.\n",
    "  $$TPR = \\frac{True Positives}{True Positives + False Negatives}$$\n",
    "* **False Positive Rate (FPR)**: The proportion of actual negative cases that the model incorrectly identified as positive.\n",
    "  $$FPR = \\frac{False Positives}{False Positives + True Negatives}$$\n",
    "* The ideal ROC curve would go straight up from the bottom-left corner and then across to the top-right, representing a perfect classifier. A purely random classifier would be represented by a diagonal line.\n",
    "\n",
    "\n",
    "### The AUC (Area Under the Curve)\n",
    "\n",
    "The **Area Under the Curve (AUC)** is a single number that summarizes the entire ROC curve.\n",
    "* The AUC score ranges from 0 to 1.\n",
    "* **AUC = 1.0**: The model is a perfect classifier.\n",
    "* **AUC = 0.5**: The model is no better than a random guess.\n",
    "* **AUC > 0.5**: The model is better than a random guess.\n",
    "\n",
    "A higher AUC score indicates a better-performing model. The AUC is a great metric for comparing different models because it's a single value that represents the model's ability to distinguish between classes at all possible thresholds.\n",
    "\n",
    "\n",
    "### Why Use ROC & AUC?\n",
    "- Accuracy alone can be misleading, especially for imbalanced datasets.  \n",
    "- ROC/AUC evaluates models across all thresholds, not just one.  \n",
    "- AUC allows fair comparison between classifiers.\n",
    "\n",
    "---\n",
    "\n",
    "## 4. Key Points\n",
    "- Cross-validation provides a more reliable estimate of model performance.  \n",
    "- Use **Stratified k-Fold** for classification tasks.  \n",
    "- ROC curve shows the TPR vs FPR trade-off; AUC summarizes it.  \n",
    "- Nested cross-validation is the gold standard when doing hyperparameter tuning.  \n",
    "---"
   ]
  },
  {
   "cell_type": "markdown",
   "id": "1cf08158-86ca-4422-bc50-07c65051c05b",
   "metadata": {},
   "source": [
    "## Import libraries"
   ]
  },
  {
   "cell_type": "code",
   "execution_count": 1,
   "id": "30a8b238-371d-499d-9cc7-d629902eaf9f",
   "metadata": {},
   "outputs": [],
   "source": [
    "import numpy as np\n",
    "import pandas as pd\n",
    "import matplotlib.pyplot as plt\n",
    "from sklearn.model_selection import train_test_split, cross_val_score, StratifiedKFold\n",
    "from sklearn.linear_model import LogisticRegression\n",
    "from sklearn.metrics import ConfusionMatrixDisplay\n",
    "from sklearn.metrics import (\n",
    "    accuracy_score, confusion_matrix, classification_report,\n",
    "    roc_curve, roc_auc_score, precision_recall_curve, average_precision_score\n",
    ")"
   ]
  },
  {
   "cell_type": "markdown",
   "id": "6568360d-0c87-436f-b44e-fc6911a8c4cd",
   "metadata": {},
   "source": [
    "## Load dataset "
   ]
  },
  {
   "cell_type": "code",
   "execution_count": 2,
   "id": "013b4be4-a821-4924-a5f9-36340fda51e6",
   "metadata": {},
   "outputs": [],
   "source": [
    "data = pd.read_csv(r\"C:\\Users\\Arman\\Downloads\\dataset\\logit classification.csv\")"
   ]
  },
  {
   "cell_type": "markdown",
   "id": "b341f9db-cd90-4eb7-82dd-9be05c771064",
   "metadata": {},
   "source": [
    "## Independent and dependent variables"
   ]
  },
  {
   "cell_type": "code",
   "execution_count": 3,
   "id": "47ee2c3e-93e2-4e92-a534-4fa3626c0eff",
   "metadata": {},
   "outputs": [],
   "source": [
    "X = data[['Age', 'EstimatedSalary']].values\n",
    "y = data['Purchased'].values"
   ]
  },
  {
   "cell_type": "markdown",
   "id": "df826214-a77a-4743-b342-4400c4a2299b",
   "metadata": {},
   "source": [
    "## Train-test split"
   ]
  },
  {
   "cell_type": "code",
   "execution_count": 4,
   "id": "bdb58e14-4628-489b-b969-3ebdd0ce4333",
   "metadata": {},
   "outputs": [],
   "source": [
    "X_train, X_test, y_train, y_test = train_test_split( X, y, test_size=0.2, random_state=0, stratify=y)"
   ]
  },
  {
   "cell_type": "markdown",
   "id": "37b34267-f526-4f9a-8a4e-4fc6c24fc24c",
   "metadata": {},
   "source": [
    "## Cross-Validation"
   ]
  },
  {
   "cell_type": "code",
   "execution_count": 5,
   "id": "fcb9337a-ffaa-4ec0-8d95-5e422c592f13",
   "metadata": {},
   "outputs": [
    {
     "name": "stdout",
     "output_type": "stream",
     "text": [
      "Cross-Validation Accuracy scores: [0.875 0.775 0.85  0.9   0.8  ]\n",
      "Mean CV Accuracy: 0.84\n",
      "Cross-Validation ROC-AUC scores: [0.929 0.896 0.95  0.951 0.916]\n",
      "Mean CV ROC-AUC: 0.928\n"
     ]
    }
   ],
   "source": [
    "model = LogisticRegression()\n",
    "\n",
    "# Stratified K-Fold Cross Validation\n",
    "cv = StratifiedKFold(n_splits=5, shuffle=True, random_state=0)\n",
    "\n",
    "# Accuracy scores\n",
    "scores = cross_val_score(model, X, y, cv=cv, scoring='accuracy')\n",
    "print(\"Cross-Validation Accuracy scores:\", np.round(scores, 3))\n",
    "print(\"Mean CV Accuracy:\", scores.mean().round(3))\n",
    "\n",
    "# ROC-AUC scores\n",
    "auc_scores = cross_val_score(model, X, y, cv=cv, scoring='roc_auc')\n",
    "print(\"Cross-Validation ROC-AUC scores:\", np.round(auc_scores, 3))\n",
    "print(\"Mean CV ROC-AUC:\", auc_scores.mean().round(3))"
   ]
  },
  {
   "cell_type": "markdown",
   "id": "7d443987-f06f-4b88-8e8a-6d8b84097e72",
   "metadata": {},
   "source": [
    "## Confusion Matrix Plot"
   ]
  },
  {
   "cell_type": "code",
   "execution_count": 6,
   "id": "30705c8f-4bb4-41a4-9307-f09f464b2301",
   "metadata": {},
   "outputs": [
    {
     "data": {
      "image/png": "[encoded data removed]",
      "text/plain": [
       "<Figure size 640x480 with 2 Axes>"
      ]
     },
     "metadata": {},
     "output_type": "display_data"
    }
   ],
   "source": [
    "model.fit(X_train, y_train)\n",
    "y_pred = model.predict(X_test)\n",
    "ConfusionMatrixDisplay.from_predictions(y_test, y_pred, cmap=\"Blues\")\n",
    "plt.title(\"Confusion Matrix - Logistic Regression\")\n",
    "plt.show()"
   ]
  },
  {
   "cell_type": "markdown",
   "id": "b118e453-64d1-403b-b0d0-abb803da773f",
   "metadata": {},
   "source": [
    "**Interpretation:**  \n",
    "The confusion matrix shows that most predictions are correct, with only a few misclassifications.  \n",
    "The model achieves high true positives and true negatives, meaning it is making reliable predictions for both classes."
   ]
  },
  {
   "cell_type": "markdown",
   "id": "5988d3c5-a1d5-4455-bb05-08403d5b30df",
   "metadata": {},
   "source": [
    "## ROC Curve & AUC"
   ]
  },
  {
   "cell_type": "code",
   "execution_count": 7,
   "id": "93710aff-d52e-4d51-a507-0b44b347d65e",
   "metadata": {},
   "outputs": [
    {
     "data": {
      "image/png": "[encoded data removed]",
      "text/plain": [
       "<Figure size 600x500 with 1 Axes>"
      ]
     },
     "metadata": {},
     "output_type": "display_data"
    }
   ],
   "source": [
    "# Probabilities for ROC\n",
    "y_scores = model.predict_proba(X_test)[:, 1]\n",
    "\n",
    "# ROC curve\n",
    "fpr, tpr, _ = roc_curve(y_test, y_scores)\n",
    "auc = roc_auc_score(y_test, y_scores)\n",
    "\n",
    "plt.figure(figsize=(6,5))\n",
    "plt.plot(fpr, tpr, label=f\"Logistic Regression (AUC = {auc:.2f})\")\n",
    "plt.plot([0,1],[0,1],'k--')\n",
    "plt.xlabel(\"False Positive Rate\")\n",
    "plt.ylabel(\"True Positive Rate\")\n",
    "plt.title(\"ROC Curve\")\n",
    "plt.legend()\n",
    "plt.show()"
   ]
  },
  {
   "cell_type": "markdown",
   "id": "7d9e19c7-3867-46ea-9d90-ef228bedcd81",
   "metadata": {},
   "source": [
    "**Interpretation:**  \n",
    "The ROC curve lies well above the diagonal baseline, and the AUC score is high (~0.90+).  \n",
    "This means the model can clearly distinguish between the two classes across different thresholds, which indicates excellent performance."
   ]
  },
  {
   "cell_type": "markdown",
   "id": "1a0064eb-dfcf-4ccb-94ad-ba0ed8767a7b",
   "metadata": {},
   "source": [
    "---\n",
    "## Summary\n",
    "\n",
    "In this notebook, I focused on two essential evaluation techniques: **Cross-Validation** and **ROC/AUC**.  \n",
    "Cross-validation was used to estimate model performance more reliably than a single train/test split, providing both accuracy and ROC-AUC scores across multiple folds.  \n",
    "\n",
    "After fitting the model, I evaluated it using a **confusion matrix** and plotted the **ROC curve with AUC score**.  \n",
    "The results showed that the model achieves high accuracy with very few misclassifications, and the ROC curve confirmed strong class separation with an AUC score above 0.90.  \n",
    "\n",
    "---\n",
    "\n",
    "# Key Takeaways\n",
    "\n",
    "- **Cross-Validation** gives a robust estimate of model performance by testing on multiple folds instead of a single split.  \n",
    "- **Stratified k-Fold** is preferred in classification tasks to preserve class distribution.  \n",
    "- The **confusion matrix** shows correct and incorrect predictions, helping identify error patterns.  \n",
    "- The **ROC curve** visualizes the trade-off between True Positive Rate and False Positive Rate across thresholds.  \n",
    "- **AUC (Area Under Curve)** provides a single performance measure; an AUC > 0.9 indicates excellent model discrimination.  \n",
    "- Together, CV and ROC/AUC give a deeper understanding of model performance beyond accuracy alone.  \n"
   ]
  }
 ],
 "metadata": {
  "kernelspec": {
   "display_name": "Python 3 (ipykernel)",
   "language": "python",
   "name": "python3"
  },
  "language_info": {
   "codemirror_mode": {
    "name": "ipython",
    "version": 3
   },
   "file_extension": ".py",
   "mimetype": "text/x-python",
   "name": "python",
   "nbconvert_exporter": "python",
   "pygments_lexer": "ipython3",
   "version": "3.13.5"
  }
 },
 "nbformat": 4,
 "nbformat_minor": 5
}
