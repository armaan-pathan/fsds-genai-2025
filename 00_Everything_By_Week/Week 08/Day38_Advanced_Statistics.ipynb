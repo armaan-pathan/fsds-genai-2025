{
 "cells": [
  {
   "cell_type": "markdown",
   "id": "edd65130-cffb-489e-9342-41fa781691fa",
   "metadata": {},
   "source": [
    "# Day 38 – Advanced Statistics\n",
    "\n",
    "In this notebook, I will explore advanced statistical concepts that are crucial for data analysis and machine learning, including:\n",
    "\n",
    "- Hypothesis Testing\n",
    "- P-value and Statistical Significance\n",
    "- Type I and Type II Errors\n",
    "- Linear Regression (Simple & Multivariate)\n",
    "- Evaluation Metrics (MSE, MAE, RMSE)\n",
    "- ANOVA (Analysis of Variance)\n",
    "- Regression Table Interpretation\n",
    "\n",
    "---\n",
    "\n",
    "## 1. Hypothesis Testing\n",
    "\n",
    "### What is a Hypothesis?\n",
    "\n",
    "A hypothesis is an idea that can be tested. It is a statement or claim that can be verified through data analysis. For example, the statement \"apples in New York are expensive\" is an idea. To turn it into a hypothesis, you need to make it testable, such as \"the mean price of an apple in New York is more than 100 Rs.\"\n",
    "\n",
    "#### Null (H0) and Alternative (H1) Hypotheses\n",
    "\n",
    "Hypothesis testing is built on two competing hypotheses:\n",
    "\n",
    "-   **Null Hypothesis (H0)**: This is the statement of no effect or no difference. It's the \"status quo\" that is assumed to be true until proven otherwise. It's like the legal principle \"innocent until proven guilty.\"\n",
    "-   **Alternative Hypothesis (H1 or HA)**: This is the statement you are trying to prove. It suggests there is a change, an effect, or a difference.\n",
    "\n",
    "**Example 1 (Two-Sided Test):**\n",
    "- **Scenario**: We want to test if the mean data scientist salary is equal to $113,000.\n",
    "- H0: μ = 113,000\n",
    "- H1: μ ≠ 113,000\n",
    "\n",
    "We test if our sample's mean is close enough to the hypothesized population mean of $113,000. If it is, we accept the null hypothesis. If it's far, we reject the null hypothesis.\n",
    "\n",
    "**Example 2 (One-Sided Test):**\n",
    "- **Scenario**: A friend claims data scientists make more than $125,000.\n",
    "- H0: μ ≤ 125,000\n",
    "- H1: μ > 125,000\n",
    "\n",
    "Here, the alternative hypothesis covers everything else. The researcher's goal is often to reject the null hypothesis and prove the alternative.\n"
   ]
  },
  {
   "cell_type": "code",
   "execution_count": 1,
   "id": "a7f8e3e9-156c-4c80-a742-081aa9d09e12",
   "metadata": {},
   "outputs": [
    {
     "name": "stdout",
     "output_type": "stream",
     "text": [
      "T-statistic: 2.368626101855168\n",
      "P-value: 0.04200342846626743\n",
      "Reject the null hypothesis (H0). The mean salary is significantly different from $113,000.\n"
     ]
    }
   ],
   "source": [
    "import numpy as np\n",
    "from scipy import stats\n",
    "\n",
    "# Example dataset: sample salaries (in USD)\n",
    "sample_salaries = np.array([110000, 115000, 120000, 112000, 118000, 117000, 119000, 114000, 116000, 113000])\n",
    "\n",
    "# Hypothesized mean salary\n",
    "mu = 113000\n",
    "\n",
    "# One-sample t-test\n",
    "t_stat, p_val = stats.ttest_1samp(sample_salaries, mu)\n",
    "\n",
    "print(\"T-statistic:\", t_stat)\n",
    "print(\"P-value:\", p_val)\n",
    "\n",
    "if p_val < 0.05:\n",
    "    print(\"Reject the null hypothesis (H0). The mean salary is significantly different from $113,000.\")\n",
    "else:\n",
    "    print(\"Fail to reject the null hypothesis (H0). No significant difference from $113,000.\")"
   ]
  },
  {
   "cell_type": "markdown",
   "id": "a5f0e565-49c4-431b-b485-6f96987bdb40",
   "metadata": {},
   "source": [
    "---\n",
    "\n",
    "## 2. P-value and Statistical Significance \n",
    "\n",
    "The **p-value** is the most common way to test a hypothesis. Instead of choosing a significance level beforehand, we find the smallest level of significance at which we can still reject the null hypothesis given our observed sample statistics.\n",
    "\n",
    "- **The Rule**: You reject the null hypothesis if the **p-value is less than the significance level (α)**.\n",
    "    - p < α: Reject H0. The result is statistically significant.\n",
    "    - p > α: Accept H0. The result is not statistically significant.\n",
    "\n",
    "**Example with Z-score**:\n",
    "- If a Z-score is 2.12, the p-value for a one-sided test is 0.017 and for a two-sided test is 0.034.\n",
    "  \n",
    "- At a 5% significance level (α = 0.05), you would **reject the null hypothesis** for both tests because 0.017 < 0.05 and 0.034 < 0.05.\n",
    "\n",
    "- At a 1% significance level (α = 0.01), you would **not reject the null hypothesis** for either test because both p-values are greater than 0.01.\n",
    "\n",
    "- A p-value closer to 0.000 indicates a more statistically significant result.\n",
    "\n",
    "---"
   ]
  },
  {
   "cell_type": "markdown",
   "id": "28c59578-f9d7-46f5-9be3-78bab4930954",
   "metadata": {},
   "source": [
    "## 3. Type I and Type II Errors\n",
    "\n",
    "When conducting hypothesis tests, there are two types of errors we can make.\n",
    "\n",
    "### Type I Error (False Positive)\n",
    "- This occurs when you **reject a true null hypothesis**.\n",
    "- **Analogy**: A medical test incorrectly says a healthy person has a disease.\n",
    "- **Probability**: The probability of making a Type I error is denoted by **alpha (α)**, which is the significance level you choose.\n",
    "\n",
    "### Type II Error (False Negative)\n",
    "- This occurs when you **accept a false null hypothesis**.\n",
    "- **Analogy**: A medical test incorrectly says a sick person is healthy.\n",
    "- **Probability**: The probability of making a Type II error is denoted by **beta (β)**. This error is considered less serious in many cases.\n",
    "\n",
    "**Power of the Test**: The probability of correctly rejecting a false null hypothesis is 1 - β, and this is called the **power of the test**. Researchers generally aim to increase the power of their test by increasing the sample size.\n",
    "\n",
    "\n",
    "### Example – Let’s assume we are testing whether a person has a disease.\n",
    "\n",
    "- **Null Hypothesis (H0):** The person is healthy.  \n",
    "- **Alternative Hypothesis (H1):** The person has the disease.  \n",
    "\n",
    "### Possible Outcomes:\n",
    "\n",
    "1. **Correct Decision**  \n",
    "   - Person is healthy → Test says healthy \n",
    "   - Person has disease → Test says diseased \n",
    "\n",
    "2. **Errors**  \n",
    "   - **Type I Error (False Positive):**  \n",
    "     Person is actually healthy, but the test says they are diseased.  \n",
    "     *Consequence: unnecessary treatment.*  \n",
    "\n",
    "   - **Type II Error (False Negative):**  \n",
    "     Person is actually diseased, but the test says they are healthy.  \n",
    "     *Consequence: missed diagnosis and no treatment.*  "
   ]
  },
  {
   "cell_type": "code",
   "execution_count": 2,
   "id": "7f1f3d61-c0fb-4690-ac3e-49d65e61a5bb",
   "metadata": {},
   "outputs": [
    {
     "data": {
      "text/html": [
       "<div>\n",
       "<style scoped>\n",
       "    .dataframe tbody tr th:only-of-type {\n",
       "        vertical-align: middle;\n",
       "    }\n",
       "\n",
       "    .dataframe tbody tr th {\n",
       "        vertical-align: top;\n",
       "    }\n",
       "\n",
       "    .dataframe thead th {\n",
       "        text-align: right;\n",
       "    }\n",
       "</style>\n",
       "<table border=\"1\" class=\"dataframe\">\n",
       "  <thead>\n",
       "    <tr style=\"text-align: right;\">\n",
       "      <th></th>\n",
       "      <th>Reality</th>\n",
       "      <th>Test Result</th>\n",
       "      <th>Outcome</th>\n",
       "    </tr>\n",
       "  </thead>\n",
       "  <tbody>\n",
       "    <tr>\n",
       "      <th>0</th>\n",
       "      <td>Healthy</td>\n",
       "      <td>Healthy</td>\n",
       "      <td>Correct Decision</td>\n",
       "    </tr>\n",
       "    <tr>\n",
       "      <th>1</th>\n",
       "      <td>Healthy</td>\n",
       "      <td>Diseased</td>\n",
       "      <td>Type I Error (False Positive)</td>\n",
       "    </tr>\n",
       "    <tr>\n",
       "      <th>2</th>\n",
       "      <td>Diseased</td>\n",
       "      <td>Healthy</td>\n",
       "      <td>Type II Error (False Negative)</td>\n",
       "    </tr>\n",
       "    <tr>\n",
       "      <th>3</th>\n",
       "      <td>Diseased</td>\n",
       "      <td>Diseased</td>\n",
       "      <td>Correct Decision</td>\n",
       "    </tr>\n",
       "  </tbody>\n",
       "</table>\n",
       "</div>"
      ],
      "text/plain": [
       "    Reality Test Result                         Outcome\n",
       "0   Healthy     Healthy                Correct Decision\n",
       "1   Healthy    Diseased   Type I Error (False Positive)\n",
       "2  Diseased     Healthy  Type II Error (False Negative)\n",
       "3  Diseased    Diseased                Correct Decision"
      ]
     },
     "execution_count": 2,
     "metadata": {},
     "output_type": "execute_result"
    }
   ],
   "source": [
    "import pandas as pd\n",
    "\n",
    "data = {\n",
    "    \"Reality\": [\"Healthy\", \"Healthy\", \"Diseased\", \"Diseased\"],\n",
    "    \"Test Result\": [\"Healthy\", \"Diseased\", \"Healthy\", \"Diseased\"],\n",
    "    \"Outcome\": [\"Correct Decision\", \"Type I Error (False Positive)\", \n",
    "                \"Type II Error (False Negative)\", \"Correct Decision\"]\n",
    "}\n",
    "\n",
    "df = pd.DataFrame(data)\n",
    "df"
   ]
  },
  {
   "cell_type": "markdown",
   "id": "93a3b034-97e3-455d-b7fc-0f3be2932031",
   "metadata": {},
   "source": [
    "---\n",
    "\n",
    "## 4. Linear Regression \n",
    "\n",
    "Regression is used to model the relationship between a dependent variable (Y) and one or more independent variables (X).\n",
    "\n",
    "### Simple Linear Regression\n",
    "- **Equation**: The basic equation for a line is y = mx + c.\n",
    "\n",
    "- In regression, this becomes  ŷ = b0 + b1x1.\n",
    "    - ŷ is the predicted value (dependent variable).\n",
    "    - b0 is the intercept.\n",
    "    - b1 is the slope or coefficient.\n",
    "    - x1 is the independent variable.\n",
    "\n",
    "- **Ordinary Least Squares (OLS)**: The most common method to find the \"line of best fit.\" OLS aims to find the line that **minimizes the sum of squared errors (SSE)**, bringing the line as close as possible to all data points.\n",
    "\n",
    "- We use **Ordinary Least Squares (OLS)** to find the line of best fit that minimizes the total error between actual and predicted values."
   ]
  },
  {
   "cell_type": "code",
   "execution_count": 3,
   "id": "08ec2cb3-38af-4923-b144-0322dd6bc1a1",
   "metadata": {},
   "outputs": [
    {
     "name": "stdout",
     "output_type": "stream",
     "text": [
      "Intercept (b0): 32.33333333333334\n",
      "Slope (b1): 6.121212121212119\n"
     ]
    },
    {
     "data": {
      "image/png": "[encoded data removed]",
      "text/plain": [
       "<Figure size 640x480 with 1 Axes>"
      ]
     },
     "metadata": {},
     "output_type": "display_data"
    }
   ],
   "source": [
    "import matplotlib.pyplot as plt\n",
    "from sklearn.linear_model import LinearRegression\n",
    "\n",
    "# Example dataset: hours studied vs exam score\n",
    "hours = np.array([1,2,3,4,5,6,7,8,9,10]).reshape(-1,1)\n",
    "scores = np.array([35, 50, 45, 60, 65, 70, 75, 80, 85, 95])\n",
    "\n",
    "# Fit regression model\n",
    "model = LinearRegression()\n",
    "model.fit(hours, scores)\n",
    "\n",
    "# Predictions\n",
    "predicted = model.predict(hours)\n",
    "\n",
    "# Equation\n",
    "print(\"Intercept (b0):\", model.intercept_)\n",
    "print(\"Slope (b1):\", model.coef_[0])\n",
    "\n",
    "# Visualization\n",
    "plt.scatter(hours, scores, color=\"blue\", label=\"Actual Data\")\n",
    "plt.plot(hours, predicted, color=\"red\", linewidth=2, label=\"Regression Line\")\n",
    "plt.xlabel(\"Hours Studied\")\n",
    "plt.ylabel(\"Exam Score\")\n",
    "plt.legend()\n",
    "plt.show()"
   ]
  },
  {
   "cell_type": "markdown",
   "id": "d3e6e1ce-19d6-44fd-99c5-60002fdbde64",
   "metadata": {},
   "source": [
    "### Multivariate Linear Regression\n",
    "\n",
    "- This is an extension of simple linear regression that uses **multiple independent variables** (x1, x2, ..., xk) to predict a dependent variable.\n",
    "\n",
    "- **Equation**: ŷ = b0 + b1x1 + b2x2 + ... + bkxk\n",
    "\n",
    "- **Why it's used**: Real-world outcomes often depend on many factors.\n",
    "\n",
    "- For example, house prices depend on size, location, and year of construction. This approach creates a more comprehensive and accurate model.\n"
   ]
  },
  {
   "cell_type": "code",
   "execution_count": 4,
   "id": "2f2e1deb-022b-40e9-95d9-35efcde07096",
   "metadata": {},
   "outputs": [
    {
     "name": "stdout",
     "output_type": "stream",
     "text": [
      "Intercept (b0): 79999.99999999983\n",
      "Coefficients (b1, b2): [   86.66666667 13333.33333333]\n"
     ]
    }
   ],
   "source": [
    "import pandas as pd\n",
    "\n",
    "# Example dataset: House prices\n",
    "data = pd.DataFrame({\n",
    "    \"Size_sqft\": [1000, 1500, 2000, 2500, 3000],\n",
    "    \"Bedrooms\": [2, 3, 3, 4, 4],\n",
    "    \"Price\": [200000, 250000, 280000, 350000, 400000]\n",
    "})\n",
    "\n",
    "X = data[[\"Size_sqft\", \"Bedrooms\"]]\n",
    "y = data[\"Price\"]\n",
    "\n",
    "multi_model = LinearRegression()\n",
    "multi_model.fit(X, y)\n",
    "\n",
    "print(\"Intercept (b0):\", multi_model.intercept_)\n",
    "print(\"Coefficients (b1, b2):\", multi_model.coef_)"
   ]
  },
  {
   "cell_type": "markdown",
   "id": "347306b5-da75-4808-acad-8d5bf0ae816a",
   "metadata": {},
   "source": [
    "---\n",
    "\n",
    "## 5. Evaluation Metrics (MSE, MAE, RMSE)\n",
    "\n",
    "To check how good our regression model is, we use error metrics:\n",
    "\n",
    "- **MAE (Mean Absolute Error):** Average of absolute differences. \n",
    "\n",
    "\n",
    "  mae = |actual - predicted|  \n",
    "\n",
    "- **MSE (Mean Squared Error):** Average of squared differences.  \n",
    "\n",
    "\n",
    "   mse = (actual - predicted)²  \n",
    "\n",
    "- **RMSE (Root Mean Squared Error):** Square root of MSE.  \n",
    "\n",
    "\n",
    "  rmse = √(mse)  \n",
    "\n",
    "\n",
    "- MAE is easier to interpret (average error).  \n",
    "- MSE/ RMSE penalize large errors more (good when big mistakes are costly)."
   ]
  },
  {
   "cell_type": "markdown",
   "id": "c7b7c645-95e2-450e-bfaf-1eeafd5eca4e",
   "metadata": {},
   "source": [
    "---\n",
    "\n",
    "## 6. ANOVA (Analysis of Variance) & R-squared\n",
    "\n",
    "ANOVA is a collection of statistical models used to analyze the difference between means. In regression, it helps us understand our model's accuracy by decomposing the total variability of the data.\n",
    "\n",
    "- **SST (Sum of Squares Total)**: Measures the total variability of the dataset.\n",
    "- **SSR (Sum of Squares Regression)**: Measures the variability that is explained by your regression line. This shows how well your line fits the data.\n",
    "- **SSE (Sum of Squares Error)**: Measures the unexplained variability. We want to minimize this value.\n",
    "\n",
    "The relationship between them is: **SST = SSR + SSE**\n",
    "\n",
    "### R-squared (R²) and Adjusted R-squared\n",
    "\n",
    "- **R-squared (R²)**: This is a performance measure that tells us the proportion of the total variability explained by the model. It ranges from 0 to 1.\n",
    "    \n",
    "    - Formula: R² = 1 - SSR / SST    \n",
    "    \n",
    "    - **Limitation**:R² can be misleading because it always increases when you add more independent variables, even if they are irrelevant.\n",
    "\n",
    "- **Adjusted R-squared**: This is a modified version of R² that penalizes the model for adding useless variables. It's a more reliable measure for comparing models with different numbers of predictors.\n",
    "    \n",
    "    - **Rule**: Adjusted R² is always less than or equal to R²."
   ]
  },
  {
   "cell_type": "markdown",
   "id": "b9a8e50b-930e-43a2-929f-79b4d4d3b4fa",
   "metadata": {},
   "source": [
    "---\n",
    "\n",
    "## 7. Interpreting a Regression Table\n",
    "\n",
    "Statistical software provides a regression table that is the heart of the analysis. It typically has three parts:\n",
    "\n",
    "-   **Model Summary**: Provides overall statistics like R^2 and Adjusted R^2 for the model.\n",
    "-   **ANOVA Table**: Summarizes the sources of variance (SST, SSR, SSE) and includes the F-statistic for overall model significance.\n",
    "-   **Coefficient Table**: This is the most important part.\n",
    "    -   **Coefficients**: Provides the values for the intercept (b0) and the slopes (b1, b2,...) of each independent variable.\n",
    "    -   **P-value**: Each coefficient has a corresponding p-value. This is used to test the hypothesis that the coefficient is 0 (H0: β = 0$$). A low p-value (typically < 0.05) indicates that the variable is a significant predictor in the model.\n"
   ]
  },
  {
   "cell_type": "code",
   "execution_count": 5,
   "id": "901e6257-29b8-43e0-b1b6-8651608f78ab",
   "metadata": {},
   "outputs": [
    {
     "name": "stdout",
     "output_type": "stream",
     "text": [
      "                            OLS Regression Results                            \n",
      "==============================================================================\n",
      "Dep. Variable:                  Price   R-squared:                       0.989\n",
      "Model:                            OLS   Adj. R-squared:                  0.979\n",
      "Method:                 Least Squares   F-statistic:                     93.95\n",
      "Date:                Wed, 20 Aug 2025   Prob (F-statistic):             0.0105\n",
      "Time:                        20:10:58   Log-Likelihood:                -51.575\n",
      "No. Observations:                   5   AIC:                             109.1\n",
      "Df Residuals:                       2   BIC:                             108.0\n",
      "Df Model:                           2                                         \n",
      "Covariance Type:            nonrobust                                         \n",
      "==============================================================================\n",
      "                 coef    std err          t      P>|t|      [0.025      0.975]\n",
      "------------------------------------------------------------------------------\n",
      "const           8e+04   2.97e+04      2.697      0.114   -4.76e+04    2.08e+05\n",
      "Size_sqft     86.6667     22.311      3.884      0.060      -9.330     182.663\n",
      "Bedrooms    1.333e+04   2.11e+04      0.632      0.592   -7.74e+04    1.04e+05\n",
      "==============================================================================\n",
      "Omnibus:                          nan   Durbin-Watson:                   1.667\n",
      "Prob(Omnibus):                    nan   Jarque-Bera (JB):                0.747\n",
      "Skew:                          -0.913   Prob(JB):                        0.688\n",
      "Kurtosis:                       2.500   Cond. No.                     1.45e+04\n",
      "==============================================================================\n",
      "\n",
      "Notes:\n",
      "[1] Standard Errors assume that the covariance matrix of the errors is correctly specified.\n",
      "[2] The condition number is large, 1.45e+04. This might indicate that there are\n",
      "strong multicollinearity or other numerical problems.\n"
     ]
    },
    {
     "name": "stderr",
     "output_type": "stream",
     "text": [
      "C:\\Users\\Arman\\anaconda3\\Lib\\site-packages\\statsmodels\\stats\\stattools.py:74: ValueWarning: omni_normtest is not valid with less than 8 observations; 5 samples were given.\n",
      "  warn(\"omni_normtest is not valid with less than 8 observations; %i \"\n"
     ]
    }
   ],
   "source": [
    "import statsmodels.api as sm\n",
    "\n",
    "# Add constant for intercept\n",
    "X = sm.add_constant(X)\n",
    "ols_model = sm.OLS(y, X).fit()\n",
    "\n",
    "# Regression summary table\n",
    "print(ols_model.summary())"
   ]
  },
  {
   "cell_type": "markdown",
   "id": "2e073155-6cf0-4e17-a1b5-6b56289bf1a4",
   "metadata": {},
   "source": [
    "---\n",
    "\n",
    "## Summary – Advanced Statistics\n",
    "\n",
    "- **Hypothesis Testing:** Framework for testing claims using H0 and H1.  \n",
    "- **P-value:** Probability measure to decide whether to reject H0.  \n",
    "- **Errors:** Type I (false positive) and Type II (false negative).  \n",
    "- **Regression:** Simple & multivariate regression for modeling relationships.  \n",
    "- **ANOVA:** Decomposes variability into explained (SSR) and unexplained (SSE).  \n",
    "- **R² & Adjusted R²:** Performance metrics for regression models.  \n",
    "- **Regression Table:** Key output for interpreting model coefficients and significance.  \n"
   ]
  }
 ],
 "metadata": {
  "kernelspec": {
   "display_name": "Python 3 (ipykernel)",
   "language": "python",
   "name": "python3"
  },
  "language_info": {
   "codemirror_mode": {
    "name": "ipython",
    "version": 3
   },
   "file_extension": ".py",
   "mimetype": "text/x-python",
   "name": "python",
   "nbconvert_exporter": "python",
   "pygments_lexer": "ipython3",
   "version": "3.13.5"
  }
 },
 "nbformat": 4,
 "nbformat_minor": 5
}
