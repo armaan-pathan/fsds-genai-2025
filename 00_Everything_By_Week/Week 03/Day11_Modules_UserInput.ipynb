{
 "cells": [
  {
   "cell_type": "markdown",
   "id": "0d0dfe41-e071-4f13-8604-0c174269cd8e",
   "metadata": {},
   "source": [
    "# Day 11 – Packages, Modules, Functions & User Input\n",
    "---\n",
    "\n",
    "- Understand how to use Python’s built-in modules (especially math)\n",
    "- Learn various ways to take and process user input"
   ]
  },
  {
   "cell_type": "markdown",
   "id": "df410eb3-5ef9-4e2f-9ca0-27b81daa74ef",
   "metadata": {},
   "source": [
    "## Packages, Modules & Functions\n",
    "- A package is a folder of modules\n",
    "- A module is a file that can have functions\n",
    "- Functions can be built-in or user-defined\n"
   ]
  },
  {
   "cell_type": "markdown",
   "id": "9716bb51-a4c9-45e6-9c9e-8f3d840f08a5",
   "metadata": {},
   "source": [
    "#### Built-in Modules: math - I imported the math module to use functions like sqrt() and pow()"
   ]
  },
  {
   "cell_type": "code",
   "execution_count": 11,
   "id": "e92384d0-78ab-4c96-960f-c7a3fc25d82d",
   "metadata": {},
   "outputs": [
    {
     "name": "stdout",
     "output_type": "stream",
     "text": [
      "Square root of 25: 5.0\n",
      "2 raised to 3: 8.0\n",
      "Floor of 3.8: 3\n",
      "Ceil of 3.1: 4\n",
      "Value of pi: 3.141592653589793\n",
      "Value of e: 2.718281828459045\n"
     ]
    }
   ],
   "source": [
    "# Import the whole math module\n",
    "import math\n",
    "\n",
    "# Using math functions with 'math.' prefix\n",
    "print(\"Square root of 25:\", math.sqrt(25))           \n",
    "print(\"2 raised to 3:\", math.pow(2, 3))               \n",
    "print(\"Floor of 3.8:\", math.floor(3.8))               \n",
    "print(\"Ceil of 3.1:\", math.ceil(3.1))                 \n",
    "print(\"Value of pi:\", math.pi)                        \n",
    "print(\"Value of e:\", math.e)                          "
   ]
  },
  {
   "cell_type": "code",
   "execution_count": 12,
   "id": "a228c7f6-f4c9-453a-bd8e-62989080294d",
   "metadata": {},
   "outputs": [
    {
     "name": "stdout",
     "output_type": "stream",
     "text": [
      "Square root using alias: 7.0\n",
      "Floor using alias: 7\n"
     ]
    }
   ],
   "source": [
    "# Import math with an alias 'm'\n",
    "import math as m\n",
    "\n",
    "# ➤ Access math functions using alias\n",
    "print(\"Square root using alias:\", m.sqrt(49))         \n",
    "print(\"Floor using alias:\", m.floor(7.9))             "
   ]
  },
  {
   "cell_type": "code",
   "execution_count": 13,
   "id": "5103f06f-ad5c-4be4-a36a-da0d48f60e3d",
   "metadata": {},
   "outputs": [
    {
     "name": "stdout",
     "output_type": "stream",
     "text": [
      "Square root of 64: 8.0\n",
      "5 to the power 2: 25.0\n",
      "Floor of 9.8: 9\n"
     ]
    }
   ],
   "source": [
    "# Import specific functions directly\n",
    "from math import sqrt, floor, pow\n",
    "\n",
    "# ➤ Now we can call these without 'math.'\n",
    "print(\"Square root of 64:\", sqrt(64))                 \n",
    "print(\"5 to the power 2:\", pow(5, 2))                 \n",
    "print(\"Floor of 9.8:\", floor(9.8))                    "
   ]
  },
  {
   "cell_type": "code",
   "execution_count": 14,
   "id": "bccceb05-ef4c-47f2-a338-0824a57a7fcc",
   "metadata": {},
   "outputs": [
    {
     "name": "stdout",
     "output_type": "stream",
     "text": [
      "Rounded power value: 11\n"
     ]
    }
   ],
   "source": [
    "# Using round() with math.pow()\n",
    "print(\"Rounded power value:\", round(pow(2, 3.4)))     "
   ]
  },
  {
   "cell_type": "markdown",
   "id": "84a05a4a-749f-40b8-8d5e-f907394df994",
   "metadata": {},
   "source": [
    "## User Input in Python"
   ]
  },
  {
   "cell_type": "code",
   "execution_count": 18,
   "id": "325e7e8b-d766-4696-a018-29e73865c9d1",
   "metadata": {},
   "outputs": [
    {
     "name": "stdin",
     "output_type": "stream",
     "text": [
      "Enter a value:  5\n",
      "Enter another value:  5\n"
     ]
    },
    {
     "name": "stdout",
     "output_type": "stream",
     "text": [
      "55\n"
     ]
    }
   ],
   "source": [
    "# input() always returns a string\n",
    "a = input(\"Enter a value: \")       # 5  \n",
    "b = input(\"Enter another value: \") # 5\n",
    "print(a + b)  # Output: '55' (string concatenation)"
   ]
  },
  {
   "cell_type": "code",
   "execution_count": 19,
   "id": "6eb5fa00-4ec5-490d-beac-89bd7c051096",
   "metadata": {},
   "outputs": [
    {
     "name": "stdin",
     "output_type": "stream",
     "text": [
      "Enter first number:  5\n",
      "Enter second number:  6\n"
     ]
    },
    {
     "name": "stdout",
     "output_type": "stream",
     "text": [
      "Sum is: 11\n"
     ]
    }
   ],
   "source": [
    "# Converting input to numbers\n",
    "a = int(input(\"Enter first number: \"))   # 5  \n",
    "b = int(input(\"Enter second number: \"))  # 6\n",
    "print(\"Sum is:\", a + b)                  # 11"
   ]
  },
  {
   "cell_type": "code",
   "execution_count": 21,
   "id": "58961e0a-8190-42c4-8d36-56fbc41ff779",
   "metadata": {},
   "outputs": [
    {
     "name": "stdin",
     "output_type": "stream",
     "text": [
      "Enter your name:  Arman\n"
     ]
    },
    {
     "name": "stdout",
     "output_type": "stream",
     "text": [
      "Character at index 3: a\n",
      "Slice from 1 to 3: rm\n"
     ]
    }
   ],
   "source": [
    "# Indexing and Slicing Input\n",
    "\n",
    "name = input(\"Enter your name: \")        # Arman\n",
    "print(\"Character at index 3:\", name[3])  # a\n",
    "print(\"Slice from 1 to 3:\", name[1:3])   # rm"
   ]
  },
  {
   "cell_type": "code",
   "execution_count": 22,
   "id": "ddafd6f9-0e95-4f4c-b361-d30d44a60989",
   "metadata": {},
   "outputs": [
    {
     "name": "stdin",
     "output_type": "stream",
     "text": [
      "Enter any word or characters:  arman\n"
     ]
    },
    {
     "name": "stdout",
     "output_type": "stream",
     "text": [
      "Characters from index 1 to 2: rm\n"
     ]
    }
   ],
   "source": [
    "# Slicing directly on input\n",
    "ch = input(\"Enter any word or characters: \")[1:3]\n",
    "print(\"Characters from index 1 to 2:\", ch)"
   ]
  },
  {
   "cell_type": "code",
   "execution_count": 24,
   "id": "13f251c0-33ce-4061-b3d8-27f99247e3a2",
   "metadata": {},
   "outputs": [
    {
     "name": "stdin",
     "output_type": "stream",
     "text": [
      "Enter an expression (e.g., 10+5):  20+30\n"
     ]
    },
    {
     "name": "stdout",
     "output_type": "stream",
     "text": [
      "Result: 50\n"
     ]
    }
   ],
   "source": [
    "# Evaluating expressions from input using eval()\n",
    "expr = eval(input(\"Enter an expression (e.g., 10+5): \"))  # 20+30\n",
    "print(\"Result:\", expr)  # 50"
   ]
  }
 ],
 "metadata": {
  "kernelspec": {
   "display_name": "Python 3 (ipykernel)",
   "language": "python",
   "name": "python3"
  },
  "language_info": {
   "codemirror_mode": {
    "name": "ipython",
    "version": 3
   },
   "file_extension": ".py",
   "mimetype": "text/x-python",
   "name": "python",
   "nbconvert_exporter": "python",
   "pygments_lexer": "ipython3",
   "version": "3.13.5"
  }
 },
 "nbformat": 4,
 "nbformat_minor": 5
}
