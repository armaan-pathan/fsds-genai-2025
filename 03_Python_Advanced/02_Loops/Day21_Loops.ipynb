{
 "cells": [
  {
   "cell_type": "markdown",
   "id": "33c8ea45-dc02-4c29-944f-7b75cb44b730",
   "metadata": {},
   "source": [
    "# Day 21 - Loops in Python\n",
    "Loops are used in Python to **execute a block of code repeatedly**. Instead of writing the same code again and again, we use loops to run logic multiple times.\n",
    "\n",
    "---\n",
    "\n",
    "## Types of Loops in Python\n",
    "\n",
    "1. **`while` Loop**  \n",
    "   Repeats a block of code as long as a condition is `True`.\n",
    "2. **`for` Loop**  \n",
    "   Used to iterate over sequences like lists, tuples, strings, or ranges.\n"
   ]
  },
  {
   "cell_type": "code",
   "execution_count": 1,
   "id": "c1526c66-b9b4-4e41-93dd-7919c10b30c0",
   "metadata": {},
   "outputs": [
    {
     "name": "stdout",
     "output_type": "stream",
     "text": [
      "data science\n",
      "data science\n",
      "data science\n",
      "data science\n",
      "data science\n"
     ]
    }
   ],
   "source": [
    "print('data science')\n",
    "print('data science')\n",
    "print('data science')\n",
    "print('data science')    \n",
    "print('data science')"
   ]
  },
  {
   "cell_type": "markdown",
   "id": "c7d13be1-3832-4d4f-884a-7797d0d29fbf",
   "metadata": {},
   "source": [
    "## While Loop\n",
    "A `while` loop runs **as long as the condition remains `True`**.\n",
    "\n",
    "Useful when we don’t know how many times we need to repeat something."
   ]
  },
  {
   "cell_type": "code",
   "execution_count": 2,
   "id": "4cde3d19-dbe5-437d-83bb-8f8d65e65cb9",
   "metadata": {},
   "outputs": [
    {
     "name": "stdout",
     "output_type": "stream",
     "text": [
      "Data Science\n",
      "Data Science\n",
      "Data Science\n",
      "Data Science\n",
      "Data Science\n"
     ]
    }
   ],
   "source": [
    "#Print \"Data Science\" 5 times\n",
    "\n",
    "i = 1  # initialization\n",
    "while i <= 5:  # condition\n",
    "    print('Data Science')\n",
    "    i = i + 1  # increment"
   ]
  },
  {
   "cell_type": "code",
   "execution_count": 3,
   "id": "99edf20b-5a4c-42b0-ac65-c9953b3f21cc",
   "metadata": {},
   "outputs": [
    {
     "name": "stdout",
     "output_type": "stream",
     "text": [
      "data science\n",
      "data science\n",
      "data science\n",
      "data science\n",
      "data science\n"
     ]
    }
   ],
   "source": [
    "i = 5          # initializing\n",
    "\n",
    "while i>=1:    # condition\n",
    "    print('data science')\n",
    "    i = i - 1  # decrement"
   ]
  },
  {
   "cell_type": "code",
   "execution_count": 5,
   "id": "68e6df10-7de0-48c8-9aa1-e09b8b508fb9",
   "metadata": {},
   "outputs": [
    {
     "name": "stdout",
     "output_type": "stream",
     "text": [
      "Data Science 1\n",
      "Data Science 2\n",
      "Data Science 3\n",
      "Data Science 4\n",
      "Data Science 5\n"
     ]
    }
   ],
   "source": [
    "# While loop with index tracking\n",
    "\n",
    "i = 1\n",
    "while i <= 5:\n",
    "    print('Data Science', i)\n",
    "    i = i + 1"
   ]
  },
  {
   "cell_type": "code",
   "execution_count": 6,
   "id": "c414232b-7a1d-4a7d-8d32-c65d8cf448bf",
   "metadata": {},
   "outputs": [
    {
     "name": "stdout",
     "output_type": "stream",
     "text": [
      "Data Science 5\n",
      "Data Science 4\n",
      "Data Science 3\n",
      "Data Science 2\n",
      "Data Science 1\n"
     ]
    }
   ],
   "source": [
    "# Reverse with index tracking\n",
    "\n",
    "i = 5\n",
    "while i >= 1:\n",
    "    print('Data Science', i)\n",
    "    i = i - 1"
   ]
  },
  {
   "cell_type": "markdown",
   "id": "cac28f7f-83ca-4b26-9a14-bc55d8a1ffa6",
   "metadata": {},
   "source": [
    "## Nested While Loop\n",
    "You can place one `while` loop inside another — useful for patterns, grids, or matrix operations."
   ]
  },
  {
   "cell_type": "code",
   "execution_count": 7,
   "id": "2d8fb124-1409-48a3-b0dd-3b3f674516d3",
   "metadata": {},
   "outputs": [
    {
     "name": "stdout",
     "output_type": "stream",
     "text": [
      "Data Science\n",
      "tech\n",
      "tech\n",
      "tech\n",
      "tech\n",
      "\n",
      "Data Science\n",
      "tech\n",
      "tech\n",
      "tech\n",
      "tech\n",
      "\n",
      "Data Science\n",
      "tech\n",
      "tech\n",
      "tech\n",
      "tech\n",
      "\n",
      "Data Science\n",
      "tech\n",
      "tech\n",
      "tech\n",
      "tech\n",
      "\n",
      "Data Science\n",
      "tech\n",
      "tech\n",
      "tech\n",
      "tech\n",
      "\n"
     ]
    }
   ],
   "source": [
    "i = 1\n",
    "\n",
    "while i <= 5:\n",
    "    print('Data Science')  # outer loop\n",
    "    j = 1\n",
    "    while j <= 4:\n",
    "        print('tech')  # inner loop\n",
    "        j += 1\n",
    "    i += 1\n",
    "    print()  # newline between blocks"
   ]
  },
  {
   "cell_type": "code",
   "execution_count": 8,
   "id": "5c4bc9be-e6b0-4ce8-b416-3763c17432d1",
   "metadata": {},
   "outputs": [
    {
     "name": "stdout",
     "output_type": "stream",
     "text": [
      "Data Science tech tech tech tech \n",
      "Data Science tech tech tech tech \n",
      "Data Science tech tech tech tech \n",
      "Data Science tech tech tech tech \n",
      "Data Science tech tech tech tech \n"
     ]
    }
   ],
   "source": [
    "# Nested while loop with end=\" \" to print in one line\n",
    "\n",
    "i = 1\n",
    "\n",
    "while i <= 5:\n",
    "    print('Data Science', end=\" \")  # when we mention end then new line will not create\n",
    "    j = 1\n",
    "    while j <= 4:\n",
    "        print('tech', end=\" \")\n",
    "        j += 1\n",
    "    i += 1\n",
    "    print()  # move to next line after inner loop"
   ]
  },
  {
   "cell_type": "code",
   "execution_count": 9,
   "id": "f8ad179e-0633-42a3-bfc9-11cd5054f245",
   "metadata": {},
   "outputs": [
    {
     "name": "stdout",
     "output_type": "stream",
     "text": [
      "0 1 2 \n",
      "0 2 4 \n"
     ]
    }
   ],
   "source": [
    "# while loop using some numbers\n",
    "i = 1\n",
    "\n",
    "while i <= 2 :\n",
    "    j = 0\n",
    "    while  j <= 2 :\n",
    "        print(i*j, end=\" \")\n",
    "        j += 1\n",
    "    print()\n",
    "    i += 1"
   ]
  },
  {
   "cell_type": "code",
   "execution_count": 10,
   "id": "5ad9ec14-7069-4a33-8818-c18e17a6a749",
   "metadata": {},
   "outputs": [
    {
     "name": "stdout",
     "output_type": "stream",
     "text": [
      "0 1 2 3 \n",
      "0 2 4 6 \n",
      "0 3 6 9 \n",
      "0 4 8 12 \n"
     ]
    }
   ],
   "source": [
    "i = 1\n",
    "\n",
    "while i <= 4 :\n",
    "    j = 0\n",
    "    while  j <= 3 :\n",
    "        print(i*j, end=\" \")\n",
    "        j += 1\n",
    "    print()\n",
    "    i += 1"
   ]
  },
  {
   "cell_type": "markdown",
   "id": "f07609e1-3b89-4fc3-93f3-402dd6fc8921",
   "metadata": {},
   "source": [
    "## For Loop\n",
    "`for` loops are best used when you want to **iterate over a known sequence** such as a list, tuple, string, or range."
   ]
  },
  {
   "cell_type": "code",
   "execution_count": 31,
   "id": "77ba50af-4fb9-4afd-ac03-105843bed3c2",
   "metadata": {},
   "outputs": [
    {
     "name": "stdout",
     "output_type": "stream",
     "text": [
      "l\n",
      "o\n",
      "o\n",
      "p\n"
     ]
    }
   ],
   "source": [
    "name = 'loop'\n",
    "\n",
    "for i in name:\n",
    "    print(i)"
   ]
  },
  {
   "cell_type": "code",
   "execution_count": 14,
   "id": "f593b322-d614-4a0b-9b45-928067660798",
   "metadata": {},
   "outputs": [
    {
     "name": "stdout",
     "output_type": "stream",
     "text": [
      "1\n",
      "3.5\n",
      "hello\n"
     ]
    }
   ],
   "source": [
    "name1 = [1,3.5,'hello'] \n",
    "\n",
    "for i in name1:\n",
    "    print(i)"
   ]
  },
  {
   "cell_type": "code",
   "execution_count": 15,
   "id": "1ede885c-fa60-4b2f-8dc0-1f867a74f673",
   "metadata": {},
   "outputs": [
    {
     "data": {
      "text/plain": [
       "range(0, 5)"
      ]
     },
     "execution_count": 15,
     "metadata": {},
     "output_type": "execute_result"
    }
   ],
   "source": [
    "# Using range() \n",
    "range(5)"
   ]
  },
  {
   "cell_type": "code",
   "execution_count": 16,
   "id": "89cb9c49-e20c-470a-ab02-b8dab49cd5f1",
   "metadata": {},
   "outputs": [
    {
     "name": "stdout",
     "output_type": "stream",
     "text": [
      "0\n",
      "1\n",
      "2\n",
      "3\n",
      "4\n"
     ]
    }
   ],
   "source": [
    "for i in range(5):\n",
    "    print(i)"
   ]
  },
  {
   "cell_type": "code",
   "execution_count": 17,
   "id": "53cc78b8-d900-4118-9218-61172607d629",
   "metadata": {},
   "outputs": [
    {
     "name": "stdout",
     "output_type": "stream",
     "text": [
      "1\n",
      "4\n",
      "7\n"
     ]
    }
   ],
   "source": [
    "# Using range(start, stop, step)\n",
    "\n",
    "for i in range(1, 10, 3):\n",
    "    print(i)"
   ]
  },
  {
   "cell_type": "code",
   "execution_count": 18,
   "id": "b2e89b47-fedd-4d56-8a8d-6abd4aacea6b",
   "metadata": {},
   "outputs": [
    {
     "name": "stdout",
     "output_type": "stream",
     "text": [
      "2\n",
      "3\n",
      "4\n"
     ]
    }
   ],
   "source": [
    "for i in range(2,5):\n",
    "    print(i)"
   ]
  },
  {
   "cell_type": "code",
   "execution_count": 21,
   "id": "106d7440-9933-4dae-a1c4-1602ab2ef9fe",
   "metadata": {},
   "outputs": [
    {
     "name": "stdout",
     "output_type": "stream",
     "text": [
      "5\n",
      "10\n",
      "15\n",
      "20\n",
      "25\n",
      "30\n",
      "35\n",
      "40\n",
      "45\n",
      "50\n"
     ]
    }
   ],
   "source": [
    "# print the numbers divisible by 5 \n",
    "\n",
    "for i in range(1,51):\n",
    "    \n",
    "    if i%5==0 :\n",
    "        print(i)"
   ]
  },
  {
   "cell_type": "code",
   "execution_count": 22,
   "id": "5d1e0578-c78d-47c3-9953-bc98aa590e7f",
   "metadata": {},
   "outputs": [
    {
     "name": "stdout",
     "output_type": "stream",
     "text": [
      "1\n",
      "2\n",
      "3\n",
      "4\n",
      "6\n",
      "7\n",
      "8\n",
      "9\n",
      "11\n",
      "12\n",
      "13\n",
      "14\n",
      "16\n",
      "17\n",
      "18\n",
      "19\n",
      "21\n",
      "22\n",
      "23\n",
      "24\n",
      "26\n",
      "27\n",
      "28\n",
      "29\n",
      "31\n",
      "32\n",
      "33\n",
      "34\n",
      "36\n",
      "37\n",
      "38\n",
      "39\n",
      "41\n",
      "42\n",
      "43\n",
      "44\n",
      "46\n",
      "47\n",
      "48\n",
      "49\n"
     ]
    }
   ],
   "source": [
    "# Print numbers which are not divisible by 5\n",
    "\n",
    "for i in range(1, 51):\n",
    "    if i % 5 != 0:\n",
    "        print(i)"
   ]
  },
  {
   "cell_type": "markdown",
   "id": "a0e63f3d-dd37-4560-b6f0-ab91447d2bf8",
   "metadata": {},
   "source": [
    "## Special Keywords in Loops\n",
    "## break – Stops the loop immediately"
   ]
  },
  {
   "cell_type": "code",
   "execution_count": 23,
   "id": "1e366583-f16d-4574-8bb3-bdea511f7447",
   "metadata": {},
   "outputs": [
    {
     "name": "stdout",
     "output_type": "stream",
     "text": [
      "1\n",
      "2\n",
      "3\n",
      "4\n",
      "5\n",
      "6\n",
      "7\n",
      "8\n",
      "9\n",
      "10\n"
     ]
    }
   ],
   "source": [
    "for i in range(1,11):\n",
    "    print(i)"
   ]
  },
  {
   "cell_type": "code",
   "execution_count": 26,
   "id": "2cab6adb-dca0-41df-8a36-94737a3f6fc8",
   "metadata": {},
   "outputs": [
    {
     "name": "stdout",
     "output_type": "stream",
     "text": [
      "1\n",
      "2\n",
      "3\n",
      "4\n"
     ]
    }
   ],
   "source": [
    "for i in range(1,11):\n",
    "    if i == 5:\n",
    "        break\n",
    "    print(i)"
   ]
  },
  {
   "cell_type": "code",
   "execution_count": 27,
   "id": "b2af05fd-dc95-471b-84cb-df8758d3d29f",
   "metadata": {},
   "outputs": [
    {
     "name": "stdout",
     "output_type": "stream",
     "text": [
      "1\n",
      "2\n",
      "3\n",
      "4\n",
      "5\n",
      "6\n",
      "7\n"
     ]
    }
   ],
   "source": [
    "for i in range(1,11):\n",
    "    if i == 8:\n",
    "        break\n",
    "    print(i)"
   ]
  },
  {
   "cell_type": "markdown",
   "id": "fd4520a7-676b-4606-a4fb-b3c437aafd7c",
   "metadata": {},
   "source": [
    "## continue – Skips the current iteration"
   ]
  },
  {
   "cell_type": "code",
   "execution_count": 28,
   "id": "2d72d2b5-41cc-4a8f-8441-599e35b2e078",
   "metadata": {},
   "outputs": [
    {
     "name": "stdout",
     "output_type": "stream",
     "text": [
      "1\n",
      "2\n",
      "3\n",
      "4\n",
      "5\n",
      "7\n",
      "8\n",
      "9\n",
      "10\n"
     ]
    }
   ],
   "source": [
    "for i in range(1, 11):\n",
    "    if i == 6:\n",
    "        continue\n",
    "    print(i)  "
   ]
  },
  {
   "cell_type": "markdown",
   "id": "b5b4d282-c414-4dc1-8592-b560faf12851",
   "metadata": {},
   "source": [
    "## pass – do nothing (placeholder)"
   ]
  },
  {
   "cell_type": "code",
   "execution_count": 29,
   "id": "49119bfc-c6ab-48c8-801c-373c002098f7",
   "metadata": {},
   "outputs": [
    {
     "ename": "_IncompleteInputError",
     "evalue": "incomplete input (1334445784.py, line 1)",
     "output_type": "error",
     "traceback": [
      "\u001b[1;36m  Cell \u001b[1;32mIn[29], line 1\u001b[1;36m\u001b[0m\n\u001b[1;33m    for i in range(1,11):\u001b[0m\n\u001b[1;37m                         ^\u001b[0m\n\u001b[1;31m_IncompleteInputError\u001b[0m\u001b[1;31m:\u001b[0m incomplete input\n"
     ]
    }
   ],
   "source": [
    "for i in range(1,11):"
   ]
  },
  {
   "cell_type": "code",
   "execution_count": 30,
   "id": "0b9be28e-e53f-4adb-b82d-d4a9569af21e",
   "metadata": {},
   "outputs": [],
   "source": [
    "for i in range(1,11):\n",
    "    pass"
   ]
  },
  {
   "cell_type": "markdown",
   "id": "921cb9ad-db4f-480d-9eb0-820384eec172",
   "metadata": {},
   "source": [
    "## More Examples"
   ]
  },
  {
   "cell_type": "markdown",
   "id": "dc6f3b5f-2a6f-4915-b9f1-fa3fc41865c4",
   "metadata": {},
   "source": [
    "### 1. Print all even numbers from 1 to 20"
   ]
  },
  {
   "cell_type": "code",
   "execution_count": 32,
   "id": "e94360a4-7669-4683-a9dd-b518a08637ae",
   "metadata": {},
   "outputs": [
    {
     "name": "stdout",
     "output_type": "stream",
     "text": [
      "2 4 6 8 10 12 14 16 18 20 "
     ]
    }
   ],
   "source": [
    "for i in range(1,21):\n",
    "    if i % 2 == 0:\n",
    "        print(i, end = ' ')"
   ]
  },
  {
   "cell_type": "markdown",
   "id": "282f1a9b-9d66-4c65-ab42-5f6bc6fb29df",
   "metadata": {},
   "source": [
    "### 2. Ask the user to enter a password until it's correct"
   ]
  },
  {
   "cell_type": "code",
   "execution_count": 36,
   "id": "a01de0f6-a08a-4743-843b-3e67342630bd",
   "metadata": {},
   "outputs": [
    {
     "name": "stdin",
     "output_type": "stream",
     "text": [
      "Enter password:  password\n"
     ]
    },
    {
     "name": "stdout",
     "output_type": "stream",
     "text": [
      "Wrong password. Try again.\n"
     ]
    },
    {
     "name": "stdin",
     "output_type": "stream",
     "text": [
      "Enter password:  12345\n"
     ]
    },
    {
     "name": "stdout",
     "output_type": "stream",
     "text": [
      "Wrong password. Try again.\n"
     ]
    },
    {
     "name": "stdin",
     "output_type": "stream",
     "text": [
      "Enter password:  secret\n"
     ]
    },
    {
     "name": "stdout",
     "output_type": "stream",
     "text": [
      "Access Granted\n"
     ]
    }
   ],
   "source": [
    "password = \"\"\n",
    "while password != \"secret\":\n",
    "    password = input('Enter password: ')\n",
    "    if password == 'secret':\n",
    "        print('Access Granted')\n",
    "    else:\n",
    "        print('Wrong password. Try again.')"
   ]
  },
  {
   "cell_type": "markdown",
   "id": "940a0746-d676-413f-9595-9c09ccec7bc2",
   "metadata": {},
   "source": [
    "### 3. Count how many times a specific letter appears in a sentence"
   ]
  },
  {
   "cell_type": "code",
   "execution_count": 39,
   "id": "38b8472c-8a43-4336-a294-a794a1f90e61",
   "metadata": {},
   "outputs": [
    {
     "name": "stdout",
     "output_type": "stream",
     "text": [
      "The letter a appears 4 times\n"
     ]
    }
   ],
   "source": [
    "sentence = 'Data Science is amazing'\n",
    "count = 0\n",
    "for char in sentence:\n",
    "    if char == 'a':\n",
    "        count += 1\n",
    "print('The letter a appears', count, 'times')"
   ]
  },
  {
   "cell_type": "markdown",
   "id": "f36e944a-6d71-44af-8662-bc14c289331f",
   "metadata": {},
   "source": [
    "### 4. Sum of first 10 natural numbers"
   ]
  },
  {
   "cell_type": "code",
   "execution_count": 44,
   "id": "14e97a1e-e6e9-4138-a278-22476963494d",
   "metadata": {},
   "outputs": [
    {
     "name": "stdout",
     "output_type": "stream",
     "text": [
      "Sum = 55\n"
     ]
    }
   ],
   "source": [
    "total = 0\n",
    "for i in range(1,11):\n",
    "    total += i\n",
    "print('Sum =', total)"
   ]
  },
  {
   "cell_type": "markdown",
   "id": "5e5bbd78-943e-4a52-855b-3ad6601548a7",
   "metadata": {},
   "source": [
    "### 5. Simple multiplication table (1 to 5)"
   ]
  },
  {
   "cell_type": "code",
   "execution_count": 50,
   "id": "6ecae725-e933-428b-84f1-e363a4214d28",
   "metadata": {},
   "outputs": [
    {
     "name": "stdout",
     "output_type": "stream",
     "text": [
      "Table of 1:\n",
      "1 x 1 = 1\n",
      "1 x 2 = 2\n",
      "1 x 3 = 3\n",
      "1 x 4 = 4\n",
      "1 x 5 = 5\n",
      "1 x 6 = 6\n",
      "1 x 7 = 7\n",
      "1 x 8 = 8\n",
      "1 x 9 = 9\n",
      "1 x 10 = 10\n",
      "------------\n",
      "Table of 2:\n",
      "2 x 1 = 2\n",
      "2 x 2 = 4\n",
      "2 x 3 = 6\n",
      "2 x 4 = 8\n",
      "2 x 5 = 10\n",
      "2 x 6 = 12\n",
      "2 x 7 = 14\n",
      "2 x 8 = 16\n",
      "2 x 9 = 18\n",
      "2 x 10 = 20\n",
      "------------\n",
      "Table of 3:\n",
      "3 x 1 = 3\n",
      "3 x 2 = 6\n",
      "3 x 3 = 9\n",
      "3 x 4 = 12\n",
      "3 x 5 = 15\n",
      "3 x 6 = 18\n",
      "3 x 7 = 21\n",
      "3 x 8 = 24\n",
      "3 x 9 = 27\n",
      "3 x 10 = 30\n",
      "------------\n",
      "Table of 4:\n",
      "4 x 1 = 4\n",
      "4 x 2 = 8\n",
      "4 x 3 = 12\n",
      "4 x 4 = 16\n",
      "4 x 5 = 20\n",
      "4 x 6 = 24\n",
      "4 x 7 = 28\n",
      "4 x 8 = 32\n",
      "4 x 9 = 36\n",
      "4 x 10 = 40\n",
      "------------\n",
      "Table of 5:\n",
      "5 x 1 = 5\n",
      "5 x 2 = 10\n",
      "5 x 3 = 15\n",
      "5 x 4 = 20\n",
      "5 x 5 = 25\n",
      "5 x 6 = 30\n",
      "5 x 7 = 35\n",
      "5 x 8 = 40\n",
      "5 x 9 = 45\n",
      "5 x 10 = 50\n",
      "------------\n"
     ]
    }
   ],
   "source": [
    "for i in range(1,6):\n",
    "    print(f\"Table of {i}:\")\n",
    "    for j in range(1,11):\n",
    "        print(f\"{i} x {j} = {i*j}\")\n",
    "    print('------------')"
   ]
  }
 ],
 "metadata": {
  "kernelspec": {
   "display_name": "Python 3 (ipykernel)",
   "language": "python",
   "name": "python3"
  },
  "language_info": {
   "codemirror_mode": {
    "name": "ipython",
    "version": 3
   },
   "file_extension": ".py",
   "mimetype": "text/x-python",
   "name": "python",
   "nbconvert_exporter": "python",
   "pygments_lexer": "ipython3",
   "version": "3.13.5"
  }
 },
 "nbformat": 4,
 "nbformat_minor": 5
}
