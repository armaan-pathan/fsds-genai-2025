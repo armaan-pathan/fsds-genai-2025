{
 "cells": [
  {
   "cell_type": "markdown",
   "id": "dd41a93a-442a-4a2e-9321-a1d8898c1468",
   "metadata": {},
   "source": [
    "# Day 20 – Conditional Statements in Python\n",
    "\n",
    "Conditional statements are used to perform **different actions** based on **different conditions**. They allow us to control the flow of our program based on whether a condition is `True` or `False`.\n",
    "\n",
    "These are essential in decision-making logic in any application or script.\n",
    "\n",
    "---\n",
    "\n",
    "## Types of Conditional Statements:\n",
    "1. `if` statement\n",
    "2. `if-else`\n",
    "3. `if-elif-else`\n",
    "4. Nested `if`\n",
    "5. Logical operators (`and`, `or`, `not`)"
   ]
  },
  {
   "cell_type": "markdown",
   "id": "8ae2f1dd-96e0-44e9-bcc4-2477501f4e4c",
   "metadata": {},
   "source": [
    "## if\n",
    "**Example 1: Simple if condition with True and False**"
   ]
  },
  {
   "cell_type": "code",
   "execution_count": 1,
   "id": "aacff3b6-0581-4925-b201-c9c3a2c6a37a",
   "metadata": {},
   "outputs": [
    {
     "name": "stdout",
     "output_type": "stream",
     "text": [
      "Data Science\n"
     ]
    }
   ],
   "source": [
    "if True:\n",
    "    print('Data Science')"
   ]
  },
  {
   "cell_type": "code",
   "execution_count": 2,
   "id": "4120a1b5-90f9-447a-90a2-58786c181ba8",
   "metadata": {},
   "outputs": [
    {
     "name": "stdout",
     "output_type": "stream",
     "text": [
      "bye for now\n"
     ]
    }
   ],
   "source": [
    "if False:\n",
    "    print('Data Science')\n",
    "\n",
    "print('bye for now')"
   ]
  },
  {
   "cell_type": "code",
   "execution_count": 3,
   "id": "de360597-ce4c-4a89-9420-897c31d0136f",
   "metadata": {},
   "outputs": [
    {
     "name": "stdout",
     "output_type": "stream",
     "text": [
      "Data Science\n",
      "Bye for now\n"
     ]
    }
   ],
   "source": [
    "if True:\n",
    "    print('Data Science')\n",
    "print('Bye for now')"
   ]
  },
  {
   "cell_type": "markdown",
   "id": "a9bafd3b-9980-4967-9acf-d5b2c9a53cd0",
   "metadata": {},
   "source": [
    "**Example 2: Checking even or odd**"
   ]
  },
  {
   "cell_type": "code",
   "execution_count": 4,
   "id": "3116a8ca-1886-45fd-bde0-5bd8e413919f",
   "metadata": {},
   "outputs": [
    {
     "name": "stdout",
     "output_type": "stream",
     "text": [
      "Even number\n"
     ]
    }
   ],
   "source": [
    "x = 4\n",
    "r = x % 2  \n",
    "\n",
    "if r == 0:\n",
    "    print('Even number')"
   ]
  },
  {
   "cell_type": "code",
   "execution_count": 5,
   "id": "c8ff67f8-236a-4e20-9080-90aa97cdfb0c",
   "metadata": {},
   "outputs": [],
   "source": [
    "x = 5\n",
    "r = x % 2\n",
    "\n",
    "if r == 0:\n",
    "    print('Even number')  "
   ]
  },
  {
   "cell_type": "markdown",
   "id": "b6a98e3e-83e3-4014-8592-534865b55d7d",
   "metadata": {},
   "source": [
    "## if-else\n",
    "**Example 3: Using if-else**"
   ]
  },
  {
   "cell_type": "code",
   "execution_count": 6,
   "id": "1a4d17d4-acda-46ec-9329-685bbbe75f91",
   "metadata": {},
   "outputs": [
    {
     "name": "stdout",
     "output_type": "stream",
     "text": [
      "Odd Number\n"
     ]
    }
   ],
   "source": [
    "x = 5\n",
    "r = x % 2\n",
    "\n",
    "if r == 0:\n",
    "    print('Even Number')\n",
    "else:\n",
    "    print('Odd Number')"
   ]
  },
  {
   "cell_type": "code",
   "execution_count": 7,
   "id": "ed55b39c-1268-4232-8dec-200b45640bc2",
   "metadata": {},
   "outputs": [
    {
     "name": "stdout",
     "output_type": "stream",
     "text": [
      "Even number\n"
     ]
    }
   ],
   "source": [
    "x = 8\n",
    "r = x % 2\n",
    "\n",
    "if r == 0:\n",
    "    print('Even number')\n",
    "else:\n",
    "    print('Odd number')"
   ]
  },
  {
   "cell_type": "markdown",
   "id": "ecb19b4c-7caf-407a-ba0f-e1ad04050236",
   "metadata": {},
   "source": [
    "**Example 4: Using multiple if**"
   ]
  },
  {
   "cell_type": "code",
   "execution_count": 8,
   "id": "e293996f-6e78-427f-8800-0ca21e359a45",
   "metadata": {},
   "outputs": [
    {
     "name": "stdout",
     "output_type": "stream",
     "text": [
      "Odd Number\n"
     ]
    }
   ],
   "source": [
    "x = 9\n",
    "r = x % 2\n",
    "\n",
    "if r == 0:\n",
    "    print('Even Number')\n",
    "if r == 1:\n",
    "    print('Odd Number')"
   ]
  },
  {
   "cell_type": "code",
   "execution_count": 9,
   "id": "828ffb01-ac99-4239-8e4d-5a021b09617c",
   "metadata": {},
   "outputs": [
    {
     "name": "stdout",
     "output_type": "stream",
     "text": [
      "Odd Number\n"
     ]
    }
   ],
   "source": [
    "x = 15\n",
    "r = x % 2\n",
    "\n",
    "if r == 0:\n",
    "    print('Even Number')\n",
    "if r != 0:\n",
    "    print('Odd Number')"
   ]
  },
  {
   "cell_type": "markdown",
   "id": "95dce116-11c6-410b-bc59-63db54c13b14",
   "metadata": {},
   "source": [
    "## Nested if\n",
    "**Example 5: Nested if statements**"
   ]
  },
  {
   "cell_type": "code",
   "execution_count": 10,
   "id": "4a3d0e9b-b1eb-4abe-950a-615405a0e0ba",
   "metadata": {},
   "outputs": [
    {
     "name": "stdout",
     "output_type": "stream",
     "text": [
      "Odd Number\n"
     ]
    }
   ],
   "source": [
    "x = 3\n",
    "r = x % 2\n",
    "\n",
    "if r == 0:\n",
    "    print('Even Number')\n",
    "    if x>5:\n",
    "          ('Greater Number')\n",
    "else:\n",
    "    print('Odd Number')"
   ]
  },
  {
   "cell_type": "code",
   "execution_count": 11,
   "id": "c3769b42-c374-4f51-91db-1448acd58e47",
   "metadata": {},
   "outputs": [
    {
     "name": "stdout",
     "output_type": "stream",
     "text": [
      "Even Number\n",
      "Greater Number\n"
     ]
    }
   ],
   "source": [
    "x = 10\n",
    "r = x % 2\n",
    "\n",
    "if r == 0:\n",
    "    print('Even Number') \n",
    "    if x > 5:\n",
    "        print('Greater Number') "
   ]
  },
  {
   "cell_type": "code",
   "execution_count": 12,
   "id": "ef594014-a2e7-4865-a104-98c41f03cfc1",
   "metadata": {},
   "outputs": [
    {
     "name": "stdout",
     "output_type": "stream",
     "text": [
      "Even Number\n",
      "Smaller Number\n"
     ]
    }
   ],
   "source": [
    "x = 4\n",
    "r = x % 2\n",
    "\n",
    "if r == 0:\n",
    "    print('Even Number')\n",
    "    if x>5:\n",
    "        print('Greater Number')\n",
    "    else:\n",
    "        print('Smaller Number')\n",
    "else:\n",
    "    print('Odd Number')"
   ]
  },
  {
   "cell_type": "markdown",
   "id": "9182f22e-8d86-47b4-aa2c-bac3b05c3ba3",
   "metadata": {},
   "source": [
    "## if-elif-else"
   ]
  },
  {
   "cell_type": "code",
   "execution_count": 13,
   "id": "65d5c854-bfeb-4396-860a-6d0c514a0e8c",
   "metadata": {},
   "outputs": [
    {
     "name": "stdout",
     "output_type": "stream",
     "text": [
      "Two\n"
     ]
    }
   ],
   "source": [
    "x = 2\n",
    "\n",
    "if x == 1:\n",
    "    print('One')\n",
    "if x == 2:\n",
    "    print('Two')\n",
    "if x == 3:\n",
    "    print('Three')\n",
    "if x == 4:\n",
    "    print('Four')"
   ]
  },
  {
   "cell_type": "markdown",
   "id": "c735d37f-c809-4d1a-bf01-72f8f2057643",
   "metadata": {},
   "source": [
    "**Example 6: Using if-elif-else**"
   ]
  },
  {
   "cell_type": "code",
   "execution_count": 14,
   "id": "7a3d5bf9-e026-45dd-b8d3-6389350830e1",
   "metadata": {},
   "outputs": [
    {
     "name": "stdout",
     "output_type": "stream",
     "text": [
      "Four\n"
     ]
    }
   ],
   "source": [
    "x = 4\n",
    "\n",
    "if x == 1:\n",
    "    print('One')\n",
    "elif x == 2:\n",
    "    print('Two')\n",
    "elif x == 3:\n",
    "    print('Three')\n",
    "elif x == 4:\n",
    "    print('Four')\n",
    "else:\n",
    "    print('Number not found')"
   ]
  },
  {
   "cell_type": "code",
   "execution_count": 15,
   "id": "c3c15873-161a-49d6-8196-6feaeeb12474",
   "metadata": {},
   "outputs": [
    {
     "name": "stdout",
     "output_type": "stream",
     "text": [
      "Number not found\n"
     ]
    }
   ],
   "source": [
    "x = 10\n",
    "\n",
    "if x == 1:\n",
    "    print('One')\n",
    "elif x == 2:\n",
    "    print('Two')\n",
    "elif x == 3:\n",
    "    print('Three')\n",
    "elif x == 4:\n",
    "    print('Four')\n",
    "else:\n",
    "    print('Number not found')"
   ]
  },
  {
   "cell_type": "markdown",
   "id": "d939d33a-b537-4568-8d11-c42ed833c641",
   "metadata": {},
   "source": [
    "## More Examples"
   ]
  },
  {
   "cell_type": "code",
   "execution_count": 16,
   "id": "e46c9812-2850-49d8-a8e3-ab750d749497",
   "metadata": {},
   "outputs": [
    {
     "name": "stdout",
     "output_type": "stream",
     "text": [
      "Eligible to vote.\n"
     ]
    }
   ],
   "source": [
    "age = 20\n",
    "\n",
    "if age >= 18:\n",
    "    print(\"Eligible to vote.\")"
   ]
  },
  {
   "cell_type": "code",
   "execution_count": 17,
   "id": "8e5cc856-1449-4d27-8034-8e86f1e82cd9",
   "metadata": {},
   "outputs": [
    {
     "name": "stdout",
     "output_type": "stream",
     "text": [
      "Eligible to Vote.\n"
     ]
    }
   ],
   "source": [
    "age = 19\n",
    "if age > 18: print('Eligible to Vote.')"
   ]
  },
  {
   "cell_type": "code",
   "execution_count": 18,
   "id": "9b127d9c-c243-4550-8da9-2d0726b72eec",
   "metadata": {},
   "outputs": [
    {
     "name": "stdout",
     "output_type": "stream",
     "text": [
      "Travel for free\n"
     ]
    }
   ],
   "source": [
    "age = 10\n",
    "\n",
    "if age <= 12:\n",
    "    print('Travel for free')\n",
    "else:\n",
    "    print('Pay for ticket')"
   ]
  },
  {
   "cell_type": "code",
   "execution_count": 19,
   "id": "c7dff511-6259-46bc-bf22-33fe58feb2c7",
   "metadata": {},
   "outputs": [
    {
     "name": "stdout",
     "output_type": "stream",
     "text": [
      "Result: Pass\n"
     ]
    }
   ],
   "source": [
    "marks = 45\n",
    "res = 'Pass' if marks >= 40 else 'Fail'\n",
    "\n",
    "print(f\"Result: {res}\")"
   ]
  },
  {
   "cell_type": "code",
   "execution_count": 20,
   "id": "77a08c80-97ad-4f82-b536-ec20eccc0e1e",
   "metadata": {},
   "outputs": [
    {
     "name": "stdout",
     "output_type": "stream",
     "text": [
      "Young Adult\n"
     ]
    }
   ],
   "source": [
    "age = 30\n",
    "\n",
    "if age <= 12:\n",
    "    print('Child')\n",
    "elif age <= 19:\n",
    "    print('Teenager')\n",
    "elif age <= 35:\n",
    "    print('Young Adult')\n",
    "else:\n",
    "    print('Adult')"
   ]
  },
  {
   "cell_type": "code",
   "execution_count": 21,
   "id": "11479c9b-baa6-4eea-9ea1-acb970acf5f1",
   "metadata": {},
   "outputs": [
    {
     "name": "stdout",
     "output_type": "stream",
     "text": [
      "30% senior discount\n"
     ]
    }
   ],
   "source": [
    "age = 70\n",
    "is_member = True\n",
    "\n",
    "if age >= 60:\n",
    "    if is_member:\n",
    "        print('30% senior discount')\n",
    "    else:\n",
    "        print('20% senior discount')\n",
    "else:\n",
    "    print('Not eligible for senior discount')"
   ]
  },
  {
   "cell_type": "markdown",
   "id": "2a9d5928-bc41-4476-a70a-0d622dca9508",
   "metadata": {},
   "source": [
    "**Example: Check if number is positive, negative, or zero**"
   ]
  },
  {
   "cell_type": "code",
   "execution_count": 22,
   "id": "a3e15577-3d29-49e6-961a-5cbd4829a5e5",
   "metadata": {},
   "outputs": [
    {
     "name": "stdin",
     "output_type": "stream",
     "text": [
      "Enter a number:  20\n"
     ]
    },
    {
     "name": "stdout",
     "output_type": "stream",
     "text": [
      "Positive\n"
     ]
    }
   ],
   "source": [
    "num = int(input(\"Enter a number: \"))\n",
    "if num > 0:\n",
    "    print(\"Positive\")\n",
    "elif num == 0:\n",
    "    print(\"Zero\")\n",
    "else:\n",
    "    print(\"Negative\")"
   ]
  },
  {
   "cell_type": "markdown",
   "id": "d4f4df54-a4f8-47dc-90e9-573ca65b24cd",
   "metadata": {},
   "source": [
    "**Example: Check if a number is divisible by 3**"
   ]
  },
  {
   "cell_type": "code",
   "execution_count": 23,
   "id": "b5613f38-eb42-4c4f-a766-f64b6dfdda94",
   "metadata": {},
   "outputs": [
    {
     "name": "stdin",
     "output_type": "stream",
     "text": [
      "Enter a number:  15\n"
     ]
    },
    {
     "name": "stdout",
     "output_type": "stream",
     "text": [
      "Divisible by 3\n"
     ]
    }
   ],
   "source": [
    "num = int(input(\"Enter a number: \"))\n",
    "if num % 3 == 0:\n",
    "    print(\"Divisible by 3\")\n",
    "else:\n",
    "    print(\"Not divisible by 3\")"
   ]
  },
  {
   "cell_type": "markdown",
   "id": "c2d203e4-4e83-40a6-974d-7060e66542a0",
   "metadata": {},
   "source": [
    "**Example: Check if number is divisible by both 3 and 7**"
   ]
  },
  {
   "cell_type": "code",
   "execution_count": 24,
   "id": "3e084af2-ff64-4883-b7fe-626929297459",
   "metadata": {},
   "outputs": [
    {
     "name": "stdin",
     "output_type": "stream",
     "text": [
      "Enter a number:  21\n"
     ]
    },
    {
     "name": "stdout",
     "output_type": "stream",
     "text": [
      "Divisible by both 3 and 7\n"
     ]
    }
   ],
   "source": [
    "num = int(input(\"Enter a number: \"))\n",
    "if num % 3 == 0 and num % 7 == 0:\n",
    "    print(\"Divisible by both 3 and 7\")\n",
    "else:\n",
    "    print(\"Not divisible by both 3 and 7\")"
   ]
  },
  {
   "cell_type": "markdown",
   "id": "f5f98227-ed7e-46e3-ab4a-845d68a09b6d",
   "metadata": {},
   "source": [
    "**Example: Check if number is prime**"
   ]
  },
  {
   "cell_type": "code",
   "execution_count": 25,
   "id": "f75b7d6e-7637-4983-9b7a-6492485cd82c",
   "metadata": {},
   "outputs": [
    {
     "name": "stdin",
     "output_type": "stream",
     "text": [
      "Enter a number:  5\n"
     ]
    },
    {
     "name": "stdout",
     "output_type": "stream",
     "text": [
      "5 is a prime number\n"
     ]
    }
   ],
   "source": [
    "num = int(input(\"Enter a number: \"))\n",
    "if num > 1:\n",
    "    for i in range(2, num):\n",
    "        if num % i == 0:\n",
    "            print(num, \"is not a prime number\")\n",
    "            break\n",
    "    else:\n",
    "        print(num, \"is a prime number\")\n",
    "else:\n",
    "    print(num, \"is not a prime number\")"
   ]
  },
  {
   "cell_type": "markdown",
   "id": "d8d0bfbb-0dee-4a49-855d-c814b7b28710",
   "metadata": {},
   "source": [
    "**Example: Check if a year is a leap year**"
   ]
  },
  {
   "cell_type": "code",
   "execution_count": 26,
   "id": "d00282db-4ee7-4ad3-a42a-6cafa10ead25",
   "metadata": {},
   "outputs": [
    {
     "name": "stdin",
     "output_type": "stream",
     "text": [
      "Enter a year:  2024\n"
     ]
    },
    {
     "name": "stdout",
     "output_type": "stream",
     "text": [
      "2024 is a leap year\n"
     ]
    }
   ],
   "source": [
    "year = int(input('Enter a year: '))\n",
    "\n",
    "if (year % 4 == 0 and year % 100 != 0) or (year % 400 == 0):\n",
    "    print(year, 'is a leap year')\n",
    "else:\n",
    "    print(year, 'is not a leap year')    "
   ]
  },
  {
   "cell_type": "markdown",
   "id": "1dac5a6f-5537-4e69-8d77-20dcd0853576",
   "metadata": {},
   "source": [
    "**Example: Check if number is a multiple of 10**"
   ]
  },
  {
   "cell_type": "code",
   "execution_count": 27,
   "id": "c2d5772d-6ae5-46a2-aded-3d13de5d4549",
   "metadata": {},
   "outputs": [
    {
     "name": "stdin",
     "output_type": "stream",
     "text": [
      "Enter a number:  50\n"
     ]
    },
    {
     "name": "stdout",
     "output_type": "stream",
     "text": [
      "Multiple of 10\n"
     ]
    }
   ],
   "source": [
    "num = int(input('Enter a number: '))\n",
    "if num %10 == 0:\n",
    "    print('Multiple of 10')\n",
    "else:\n",
    "    print('Not a multiple of 10')"
   ]
  },
  {
   "cell_type": "markdown",
   "id": "c9b063be-ad1d-4889-9582-4d0a9f3cbf42",
   "metadata": {},
   "source": [
    "**Example: Check if number is divisible by both 3 and 5**"
   ]
  },
  {
   "cell_type": "code",
   "execution_count": 28,
   "id": "8d66e604-0326-498e-ab32-eb49de61b086",
   "metadata": {},
   "outputs": [
    {
     "name": "stdin",
     "output_type": "stream",
     "text": [
      "Enter a number:  30\n"
     ]
    },
    {
     "name": "stdout",
     "output_type": "stream",
     "text": [
      "Divisible by both 3 and 5\n"
     ]
    }
   ],
   "source": [
    "num = int(input(\"Enter a number: \"))\n",
    "if num % 3 == 0 and num % 5 == 0:\n",
    "    print(\"Divisible by both 3 and 5\")\n",
    "else:\n",
    "    print(\"Not divisible by both 3 and 5\")"
   ]
  }
 ],
 "metadata": {
  "kernelspec": {
   "display_name": "Python 3 (ipykernel)",
   "language": "python",
   "name": "python3"
  },
  "language_info": {
   "codemirror_mode": {
    "name": "ipython",
    "version": 3
   },
   "file_extension": ".py",
   "mimetype": "text/x-python",
   "name": "python",
   "nbconvert_exporter": "python",
   "pygments_lexer": "ipython3",
   "version": "3.13.5"
  }
 },
 "nbformat": 4,
 "nbformat_minor": 5
}
