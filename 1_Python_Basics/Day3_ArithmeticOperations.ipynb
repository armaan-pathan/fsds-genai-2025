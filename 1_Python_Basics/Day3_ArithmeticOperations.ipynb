{
 "cells": [
  {
   "cell_type": "markdown",
   "id": "3256fc81-106e-49aa-8359-e5b6e0f79ad8",
   "metadata": {},
   "source": [
    "# Day 03 – Arithmetic Operations & Boolean Logic\n",
    "---\n",
    "\n",
    "Learn Python arithmetic operations, variable assignments, and understand boolean expressions and logic."
   ]
  },
  {
   "cell_type": "markdown",
   "id": "a21cdbce-52da-4fa1-b834-72a6b053f775",
   "metadata": {},
   "source": [
    "## Arithmetic Operations: Integers"
   ]
  },
  {
   "cell_type": "code",
   "execution_count": 1,
   "id": "e0773ad7-c615-4b2a-ac89-7192bafd4885",
   "metadata": {},
   "outputs": [
    {
     "name": "stdout",
     "output_type": "stream",
     "text": [
      "Addition:  3\n",
      "Subtraction:  1\n",
      "Multiplication:  6\n",
      "Division:  2.0\n",
      "Division:  3.0\n",
      "Division:  3.5\n",
      "Division without the remainder:  3\n",
      "Modulus:  1\n",
      "Division without the remainder:  2\n",
      "Exponential:  9\n"
     ]
    }
   ],
   "source": [
    "print('Addition: ', 1 + 2)\n",
    "print('Subtraction: ', 2 - 1)\n",
    "print('Multiplication: ', 2 * 3)\n",
    "print('Division: ', 4 / 2)\n",
    "print('Division: ', 6 / 2)\n",
    "print('Division: ', 7 / 2)\n",
    "print('Division without the remainder: ', 7 // 2)\n",
    "print('Modulus: ', 3 % 2)\n",
    "print('Division without the remainder: ', 7 // 3)\n",
    "print('Exponential: ', 3 ** 2)"
   ]
  },
  {
   "cell_type": "markdown",
   "id": "6a28bec5-105a-4b36-9b80-5de2b38f521e",
   "metadata": {},
   "source": [
    "## Floating & Complex Numbers"
   ]
  },
  {
   "cell_type": "code",
   "execution_count": 2,
   "id": "a569eff2-8c35-4cdb-bd49-ff063561f447",
   "metadata": {},
   "outputs": [
    {
     "name": "stdout",
     "output_type": "stream",
     "text": [
      "Floating Number, PI: 3.14\n",
      "Floating Number, gravity: 9.81\n",
      "Complex number: (1+1j)\n",
      "Multiplying complex numbers: (2+0j)\n"
     ]
    }
   ],
   "source": [
    "print('Floating Number, PI:', 3.14)\n",
    "print('Floating Number, gravity:', 9.81)\n",
    "print('Complex number:', 1 + 1j)\n",
    "print('Multiplying complex numbers:', (1 + 1j) * (1 - 1j))"
   ]
  },
  {
   "cell_type": "markdown",
   "id": "84c48c4e-0589-46d7-b753-376ecd5588e0",
   "metadata": {},
   "source": [
    "## Arithmetic with Variables"
   ]
  },
  {
   "cell_type": "code",
   "execution_count": 3,
   "id": "2f5a69d8-c83d-458b-bf47-6b6f423a1687",
   "metadata": {},
   "outputs": [
    {
     "name": "stdout",
     "output_type": "stream",
     "text": [
      "a + b = 5\n",
      "a - b = 1\n",
      "a * b = 6\n",
      "a / b = 1.5\n",
      "a % b = 1\n",
      "a // b = 1\n",
      "a ** b = 9\n"
     ]
    }
   ],
   "source": [
    "a = 3\n",
    "b = 2\n",
    "total = a + b\n",
    "diff = a - b\n",
    "product = a * b\n",
    "division = a / b\n",
    "remainder = a % b\n",
    "floor_division = a // b\n",
    "exponential = a ** b\n",
    "print('a + b =', total)\n",
    "print('a - b =', diff)\n",
    "print('a * b =', product)\n",
    "print('a / b =', division)\n",
    "print('a % b =', remainder)\n",
    "print('a // b =', floor_division)\n",
    "print('a ** b =', exponential)"
   ]
  },
  {
   "cell_type": "markdown",
   "id": "eb364861-f3db-4128-b13d-eb3e2ec05554",
   "metadata": {},
   "source": [
    "## Geometry & Physics Examples"
   ]
  },
  {
   "cell_type": "code",
   "execution_count": 4,
   "id": "b359e623-9c68-4f81-b6d5-c75678744448",
   "metadata": {},
   "outputs": [
    {
     "name": "stdout",
     "output_type": "stream",
     "text": [
      "Area of a circle: 314.0\n",
      "Area of rectangle: 200\n",
      "Weight of the object: 735.75 N\n"
     ]
    }
   ],
   "source": [
    "radius = 10\n",
    "area_of_circle = 3.14 * radius ** 2\n",
    "print('Area of a circle:', area_of_circle)\n",
    "\n",
    "length = 10\n",
    "width = 20\n",
    "area_of_rectangle = length * width\n",
    "print('Area of rectangle:', area_of_rectangle)\n",
    "\n",
    "mass = 75\n",
    "gravity = 9.81\n",
    "weight = mass * gravity\n",
    "print('Weight of the object:', weight, 'N')"
   ]
  },
  {
   "cell_type": "markdown",
   "id": "c3e6be29-9e01-430b-b074-88d4499a643e",
   "metadata": {},
   "source": [
    "## Boolean Expressions & Comparisons"
   ]
  },
  {
   "cell_type": "code",
   "execution_count": 5,
   "id": "abf70440-17fa-4a54-837c-49504d3688bf",
   "metadata": {},
   "outputs": [
    {
     "name": "stdout",
     "output_type": "stream",
     "text": [
      "True\n",
      "True\n",
      "False\n",
      "True\n",
      "True\n",
      "False\n",
      "True\n",
      "False\n",
      "True\n",
      "True\n",
      "False\n",
      "True\n",
      "True\n",
      "False\n"
     ]
    }
   ],
   "source": [
    "print(3 > 2)\n",
    "print(3 >= 2)\n",
    "print(3 < 2)\n",
    "print(2 < 3)\n",
    "print(2 <= 3)\n",
    "print(3 == 2)\n",
    "print(3 != 2)\n",
    "\n",
    "print(len('mango') == len('avocado'))\n",
    "print(len('mango') != len('avocado'))\n",
    "print(len('mango') < len('avocado'))\n",
    "print(len('milk') != len('meat'))\n",
    "print(len('milk') == len('meat'))\n",
    "print(len('tomato') == len('potato'))\n",
    "print(len('python') > len('dragon'))"
   ]
  },
  {
   "cell_type": "markdown",
   "id": "4773c7f8-65d9-4c24-9f60-d63a0361b892",
   "metadata": {},
   "source": [
    "## Boolean Logic & Identity"
   ]
  },
  {
   "cell_type": "code",
   "execution_count": 6,
   "id": "090b0572-ff44-4aa6-aadf-efc4917e30d8",
   "metadata": {},
   "outputs": [
    {
     "name": "stdout",
     "output_type": "stream",
     "text": [
      "True == True: True\n",
      "True == False: False\n",
      "False == False: True\n",
      "True and True: True\n",
      "True or False: True\n",
      "1 is 1: True\n",
      "1 is not 2: True\n",
      "A in Asabeneh: True\n",
      "B in Asabeneh: False\n",
      "coding in sentence: True\n",
      "a in an: True\n",
      "4 is 2 ** 2: True\n"
     ]
    },
    {
     "name": "stderr",
     "output_type": "stream",
     "text": [
      "<>:6: SyntaxWarning: \"is\" with 'int' literal. Did you mean \"==\"?\n",
      "<>:7: SyntaxWarning: \"is not\" with 'int' literal. Did you mean \"!=\"?\n",
      "<>:12: SyntaxWarning: \"is\" with 'int' literal. Did you mean \"==\"?\n",
      "C:\\Users\\Arman\\AppData\\Local\\Temp\\ipykernel_28668\\1968896264.py:6: SyntaxWarning: \"is\" with 'int' literal. Did you mean \"==\"?\n",
      "  print('1 is 1:', 1 is 1)\n",
      "C:\\Users\\Arman\\AppData\\Local\\Temp\\ipykernel_28668\\1968896264.py:7: SyntaxWarning: \"is not\" with 'int' literal. Did you mean \"!=\"?\n",
      "  print('1 is not 2:', 1 is not 2)\n",
      "C:\\Users\\Arman\\AppData\\Local\\Temp\\ipykernel_28668\\1968896264.py:12: SyntaxWarning: \"is\" with 'int' literal. Did you mean \"==\"?\n",
      "  print('4 is 2 ** 2:', 4 is 2 ** 2)\n"
     ]
    }
   ],
   "source": [
    "print('True == True:', True == True)\n",
    "print('True == False:', True == False)\n",
    "print('False == False:', False == False)\n",
    "print('True and True:', True and True)\n",
    "print('True or False:', True or False)\n",
    "print('1 is 1:', 1 is 1)\n",
    "print('1 is not 2:', 1 is not 2)\n",
    "print('A in Asabeneh:', 'A' in 'Asabeneh')\n",
    "print('B in Asabeneh:', 'B' in 'Asabeneh')\n",
    "print('coding in sentence:', 'coding' in 'coding for all')\n",
    "print('a in an:', 'a' in 'an')\n",
    "print('4 is 2 ** 2:', 4 is 2 ** 2)"
   ]
  },
  {
   "cell_type": "code",
   "execution_count": null,
   "id": "9833e9a7-9297-4509-bd3f-d6c6c4c154d2",
   "metadata": {},
   "outputs": [],
   "source": []
  }
 ],
 "metadata": {
  "kernelspec": {
   "display_name": "Python 3 (ipykernel)",
   "language": "python",
   "name": "python3"
  },
  "language_info": {
   "codemirror_mode": {
    "name": "ipython",
    "version": 3
   },
   "file_extension": ".py",
   "mimetype": "text/x-python",
   "name": "python",
   "nbconvert_exporter": "python",
   "pygments_lexer": "ipython3",
   "version": "3.13.5"
  }
 },
 "nbformat": 4,
 "nbformat_minor": 5
}
