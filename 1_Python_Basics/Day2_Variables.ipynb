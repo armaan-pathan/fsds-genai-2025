{
 "cells": [
  {
   "cell_type": "markdown",
   "id": "c38bcc15-7214-4ae1-a128-fd0576c0e7d4",
   "metadata": {},
   "source": [
    "# Day 02 – Python Basics: Variables, Printing & Multiple Assignments\n",
    "---\n",
    "Learn how to declare variables, assign values, print them, and perform multiple variable assignments in Python."
   ]
  },
  {
   "cell_type": "markdown",
   "id": "4dc95d2b-8a5e-4500-bd26-ab294426a9d7",
   "metadata": {},
   "source": [
    "## Variables in Python\n",
    "Variables are containers used to store data. Python is dynamically typed, so you don't need to declare the data type explicitly."
   ]
  },
  {
   "cell_type": "code",
   "execution_count": 1,
   "id": "cf2d110d-a70a-4332-9d59-5bd54ff5e191",
   "metadata": {},
   "outputs": [],
   "source": [
    "first_name = 'Arman'\n",
    "last_name = 'Pathan'\n",
    "country = 'India'\n",
    "city = 'Mumbai'\n",
    "age = 23\n",
    "is_married = False\n",
    "skills = ['Python', 'JS', 'SQL', 'Flask', 'AI']\n",
    "person_info = {\n",
    "    'firstname': 'Arman',\n",
    "    'lastname': 'Pathan',\n",
    "    'country': 'India',\n",
    "    'city': 'Mumbai'\n",
    "}"
   ]
  },
  {
   "cell_type": "markdown",
   "id": "e196c993-6b58-4415-819a-8e688e14f417",
   "metadata": {},
   "source": [
    "## Printing Variables\n",
    "We can use the `print()` function to display the content of variables."
   ]
  },
  {
   "cell_type": "code",
   "execution_count": 2,
   "id": "b96d9eb3-fe74-4f84-8701-d7a6e8cd7241",
   "metadata": {},
   "outputs": [
    {
     "name": "stdout",
     "output_type": "stream",
     "text": [
      "First name: Arman\n",
      "First name length: 5\n",
      "Last name:  Pathan\n",
      "Last name length:  6\n",
      "Country:  India\n",
      "City:  Mumbai\n",
      "Age:  23\n",
      "Married:  False\n",
      "Skills:  ['Python', 'JS', 'SQL', 'Flask', 'AI']\n",
      "Person information:  {'firstname': 'Arman', 'lastname': 'Pathan', 'country': 'India', 'city': 'Mumbai'}\n"
     ]
    }
   ],
   "source": [
    "print('First name:', first_name)\n",
    "print('First name length:', len(first_name))\n",
    "print('Last name: ', last_name)\n",
    "print('Last name length: ', len(last_name))\n",
    "print('Country: ', country)\n",
    "print('City: ', city)\n",
    "print('Age: ', age)\n",
    "print('Married: ', is_married)\n",
    "print('Skills: ', skills)\n",
    "print('Person information: ', person_info)"
   ]
  },
  {
   "cell_type": "markdown",
   "id": "fa359b3a-9d05-47af-b99a-8f6bd9607300",
   "metadata": {},
   "source": [
    "## Multiple Assignments\n",
    "Python allows declaring and assigning multiple variables in a single line."
   ]
  },
  {
   "cell_type": "code",
   "execution_count": 3,
   "id": "ff58c654-a172-4066-ac4e-1ef80b5bce27",
   "metadata": {},
   "outputs": [],
   "source": [
    "first_name, last_name, country, age, is_married = 'Arman', 'Pathan', 'India', 23, True"
   ]
  },
  {
   "cell_type": "markdown",
   "id": "e1a1e312-f6a0-49b9-b2fe-db3ef62b2b9d",
   "metadata": {},
   "source": [
    "## Printing Multiple Variables\n",
    "Print all variables to verify the values assigned."
   ]
  },
  {
   "cell_type": "code",
   "execution_count": 5,
   "id": "9a41ac41-997d-407e-8aad-974739aaae2b",
   "metadata": {},
   "outputs": [
    {
     "name": "stdout",
     "output_type": "stream",
     "text": [
      "Arman Pathan India 23 True\n",
      "First name: Arman\n",
      "Last name:  Pathan\n",
      "Country:  India\n",
      "Age:  23\n",
      "Married:  True\n"
     ]
    }
   ],
   "source": [
    "print(first_name, last_name, country, age, is_married)\n",
    "print('First name:', first_name)\n",
    "print('Last name: ', last_name)\n",
    "print('Country: ', country)\n",
    "print('Age: ', age)\n",
    "print('Married: ', is_married)"
   ]
  }
 ],
 "metadata": {
  "kernelspec": {
   "display_name": "Python 3 (ipykernel)",
   "language": "python",
   "name": "python3"
  },
  "language_info": {
   "codemirror_mode": {
    "name": "ipython",
    "version": 3
   },
   "file_extension": ".py",
   "mimetype": "text/x-python",
   "name": "python",
   "nbconvert_exporter": "python",
   "pygments_lexer": "ipython3",
   "version": "3.13.5"
  }
 },
 "nbformat": 4,
 "nbformat_minor": 5
}
