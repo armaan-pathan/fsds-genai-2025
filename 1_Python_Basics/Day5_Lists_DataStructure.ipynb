{
 "cells": [
  {
   "cell_type": "markdown",
   "id": "38bcc56d",
   "metadata": {},
   "source": [
    "# Day 05 – Lists in Python\n",
    "---\n",
    "Understand lists as a built-in Python data structure and practice operations like creation, indexing, slicing, adding, removing, copying, joining, reversing, and sorting."
   ]
  },
  {
   "cell_type": "markdown",
   "id": "edb26730",
   "metadata": {},
   "source": [
    "## What is a Data Structure?\n",
    "A data structure is a way to store and organize data efficiently. Python provides both built-in and user-defined data structures.\n",
    "\n",
    "**Built-in examples:** list, tuple, set, dictionary\n",
    "\n",
    "**User-defined examples:** stack, queue, linked list, tree, graph"
   ]
  },
  {
   "cell_type": "markdown",
   "id": "b7cec21e",
   "metadata": {},
   "source": [
    "## List Characteristics\n",
    "- Lists are defined using square brackets `[]`\n",
    "- They can store mixed data types and allow duplicates\n",
    "- Lists are mutable (modifiable) and growable\n",
    "- They support indexing, slicing, and many built-in methods"
   ]
  },
  {
   "cell_type": "markdown",
   "id": "2c47495e",
   "metadata": {},
   "source": [
    "## 1. List Creation and Types"
   ]
  },
  {
   "cell_type": "code",
   "execution_count": 1,
   "id": "7458aecf",
   "metadata": {},
   "outputs": [
    {
     "name": "stdout",
     "output_type": "stream",
     "text": [
      "<class 'list'>\n"
     ]
    }
   ],
   "source": [
    "list1 = []\n",
    "print(type(list1))"
   ]
  },
  {
   "cell_type": "code",
   "execution_count": 3,
   "id": "7c7bd2da-9ad5-4285-8d98-86b1d2435ec1",
   "metadata": {},
   "outputs": [],
   "source": [
    "list2 = [10,20,30,90,80,70,50] # List of Integer Numbers\n",
    "list3 = [10.5,8.6,99.99,4.6] # List of Float Numbers\n",
    "list4 = ['One','Two','Three','four','Five'] # List of Strings\n",
    "list5 = ['Arman',25,[50,90],[5.6,9.5],['AA','hhh']] # Nested list & mixed data\n",
    "list6 = ['Asif', 25 ,[50, 100],[150, 90] , {'John' , 'David'}]"
   ]
  },
  {
   "cell_type": "code",
   "execution_count": 4,
   "id": "f88a9c8d-11c5-4ee5-9158-400b68d6458f",
   "metadata": {},
   "outputs": [
    {
     "name": "stdout",
     "output_type": "stream",
     "text": [
      "Integer list : [10, 20, 30, 90, 80, 70, 50]\n",
      "Float list : [10.5, 8.6, 99.99, 4.6]\n",
      "String list : ['One', 'Two', 'Three', 'four', 'Five']\n",
      "Nested and mixed list : ['Arman', 25, [50, 90], [5.6, 9.5], ['AA', 'hhh']]\n",
      "Another mixed list : ['Asif', 25, [50, 100], [150, 90], {'John', 'David'}]\n"
     ]
    }
   ],
   "source": [
    "print('Integer list :', list2)\n",
    "print('Float list :', list3)\n",
    "print('String list :', list4)\n",
    "print('Nested and mixed list :', list5)\n",
    "print('Another mixed list :', list6)"
   ]
  },
  {
   "cell_type": "code",
   "execution_count": 5,
   "id": "3042ba92-e86a-439f-92ea-b80ee43f283d",
   "metadata": {},
   "outputs": [
    {
     "name": "stdout",
     "output_type": "stream",
     "text": [
      "Length of Integer list: 7\n",
      "Length of Float list: 4\n",
      "Length of String list: 5\n",
      "Length of Nested and mixed list: 5\n",
      "Length of Another mixed list: 5\n"
     ]
    }
   ],
   "source": [
    "# Length of each list\n",
    "print('Length of Integer list:', len(list2))\n",
    "print('Length of Float list:', len(list3))\n",
    "print('Length of String list:', len(list4))\n",
    "print('Length of Nested and mixed list:', len(list5))\n",
    "print('Length of Another mixed list:', len(list6))"
   ]
  },
  {
   "cell_type": "markdown",
   "id": "995a988b",
   "metadata": {},
   "source": [
    "## 2. List Indexing"
   ]
  },
  {
   "cell_type": "code",
   "execution_count": 6,
   "id": "f7e0ce05",
   "metadata": {},
   "outputs": [
    {
     "name": "stdout",
     "output_type": "stream",
     "text": [
      "One\n",
      "O\n",
      "Five\n",
      "['AA', 'hhh']\n"
     ]
    }
   ],
   "source": [
    "# Indexing examples\n",
    "print(list4[0]) # 'one' - first element\n",
    "print(list4[0][0]) # 'o' - first character of first element\n",
    "print(list4[-1]) # 'Five' - last element\n",
    "print(list5[-1]) # ['AA', 'hhh'] - last element (nested list)"
   ]
  },
  {
   "cell_type": "markdown",
   "id": "216a334d",
   "metadata": {},
   "source": [
    "## 3. List Slicing"
   ]
  },
  {
   "cell_type": "code",
   "execution_count": 7,
   "id": "cac2e990",
   "metadata": {},
   "outputs": [
    {
     "name": "stdout",
     "output_type": "stream",
     "text": [
      "['one', 'two', 'three']\n",
      "['three', 'four', 'five']\n",
      "['one', 'two', 'three']\n",
      "['one', 'two']\n",
      "['six', 'seven', 'eight']\n",
      "['seven', 'eight']\n",
      "eight\n",
      "['one', 'two', 'three', 'four', 'five', 'six', 'seven', 'eight']\n"
     ]
    }
   ],
   "source": [
    "# List slicing\n",
    "mylist = ['one', 'two', 'three', 'four', 'five', 'six', 'seven', 'eight']\n",
    "print(mylist[0:3]) # ['one', 'two', 'three']\n",
    "print(mylist[2:5]) # ['three', 'four', 'five']\n",
    "print(mylist[:3]) # ['one', 'two', 'three']\n",
    "print(mylist[:2]) # ['one', 'two']\n",
    "print(mylist[-3:]) # ['six', 'seven', 'eight']\n",
    "print(mylist[-2:]) # ['seven', 'eight']\n",
    "print(mylist[-1]) # 'eight'\n",
    "print(mylist[:]) # whole list"
   ]
  },
  {
   "cell_type": "markdown",
   "id": "55098aff",
   "metadata": {},
   "source": [
    "## 4. Adding Items"
   ]
  },
  {
   "cell_type": "code",
   "execution_count": 8,
   "id": "82f47c44",
   "metadata": {},
   "outputs": [
    {
     "name": "stdout",
     "output_type": "stream",
     "text": [
      "['one', 'two', 'three', 'four', 'five', 'six', 'seven', 'eight', 'nine', 'ten']\n"
     ]
    }
   ],
   "source": [
    "mylist.append('nine') # add at end\n",
    "mylist.insert(9, 'ten') # add at index 9\n",
    "print(mylist)"
   ]
  },
  {
   "cell_type": "markdown",
   "id": "2af331c3",
   "metadata": {},
   "source": [
    "## 5. Changing List Items"
   ]
  },
  {
   "cell_type": "code",
   "execution_count": 9,
   "id": "4993f838",
   "metadata": {},
   "outputs": [
    {
     "name": "stdout",
     "output_type": "stream",
     "text": [
      "[1, 2, 3, 'four', 'five', 'six', 'seven', 'eight', 'nine', 'ten']\n"
     ]
    }
   ],
   "source": [
    "mylist[0] = 1\n",
    "mylist[1] = 2\n",
    "mylist[2] = 3\n",
    "print(mylist)"
   ]
  },
  {
   "cell_type": "markdown",
   "id": "178f9185",
   "metadata": {},
   "source": [
    "## 6. Insert and Remove Items"
   ]
  },
  {
   "cell_type": "code",
   "execution_count": 10,
   "id": "c28e8d47",
   "metadata": {},
   "outputs": [
    {
     "name": "stdout",
     "output_type": "stream",
     "text": [
      "[1, 'ONE', 2, 3, 'four', 'five', 'six', 'seven', 'eight', 'nine', 'ten']\n",
      "[1, 2, 3, 'four', 'five', 'six', 'seven', 'eight', 'nine', 'ten']\n",
      "[1, 2, 3, 'four', 'five', 'six', 'seven', 'eight', 'nine']\n"
     ]
    }
   ],
   "source": [
    "# Inserting and removing items\n",
    "mylist.insert(1, 'ONE')\n",
    "print(mylist)\n",
    "mylist.remove('ONE')\n",
    "print(mylist)\n",
    "mylist.pop() # remove last item\n",
    "print(mylist)"
   ]
  },
  {
   "cell_type": "markdown",
   "id": "7aded279",
   "metadata": {},
   "source": [
    "## 7 & 8. Remove or Delete Specific Index"
   ]
  },
  {
   "cell_type": "code",
   "execution_count": 11,
   "id": "db1a5f4d",
   "metadata": {},
   "outputs": [
    {
     "name": "stdout",
     "output_type": "stream",
     "text": [
      "[1, 2, 3, 'four', 'five', 'six', 'seven']\n"
     ]
    }
   ],
   "source": [
    "if len(mylist) > 8:\n",
    "    mylist.pop(8)\n",
    "if len(mylist) > 7:\n",
    "    del mylist[7]\n",
    "print(mylist)"
   ]
  },
  {
   "cell_type": "markdown",
   "id": "3d0e0366",
   "metadata": {},
   "source": [
    "## 9. Clear Entire List"
   ]
  },
  {
   "cell_type": "code",
   "execution_count": 12,
   "id": "a64da907",
   "metadata": {},
   "outputs": [
    {
     "name": "stdout",
     "output_type": "stream",
     "text": [
      "[]\n"
     ]
    }
   ],
   "source": [
    "mylist.clear()\n",
    "print(mylist)"
   ]
  },
  {
   "cell_type": "code",
   "execution_count": 13,
   "id": "b9c234c9-4192-41a7-aa36-8d9141c910ca",
   "metadata": {},
   "outputs": [],
   "source": [
    "# Recreate list for next steps\n",
    "mylist = ['one', 'two', 'three', 'four', 'five', 'six', 'seven', 'eight']"
   ]
  },
  {
   "cell_type": "markdown",
   "id": "d5860aea",
   "metadata": {},
   "source": [
    "## 10. Copying Lists"
   ]
  },
  {
   "cell_type": "code",
   "execution_count": 14,
   "id": "d3f395ff",
   "metadata": {},
   "outputs": [],
   "source": [
    "mylist1 = mylist # Reference copy (both point to same list)\n",
    "mylist2 = mylist.copy() # Actual copy with different address"
   ]
  },
  {
   "cell_type": "code",
   "execution_count": 15,
   "id": "f7cf69ae-c5ee-4f3b-bece-8703e3c725db",
   "metadata": {},
   "outputs": [
    {
     "name": "stdout",
     "output_type": "stream",
     "text": [
      "1683598163904 1683598163904\n",
      "1683598056064\n"
     ]
    }
   ],
   "source": [
    "print(id(mylist), id(mylist1)) # same id\n",
    "print(id(mylist2))"
   ]
  },
  {
   "cell_type": "code",
   "execution_count": 16,
   "id": "9905963c-ea2b-4375-bfd2-262b6a065a13",
   "metadata": {},
   "outputs": [
    {
     "name": "stdout",
     "output_type": "stream",
     "text": [
      "[1, 'two', 'three', 'four', 'five', 'six', 'seven', 'eight']\n",
      "[1, 'two', 'three', 'four', 'five', 'six', 'seven', 'eight']\n",
      "['one', 'two', 'three', 'four', 'five', 'six', 'seven', 'eight']\n"
     ]
    }
   ],
   "source": [
    "# Change original to show effect on copies\n",
    "mylist[0] = 1\n",
    "print(mylist) # [1, 'two', 'three', ...]\n",
    "print(mylist1) # [1, 'two', 'three', ...] same because reference copy\n",
    "print(mylist2) # ['one', 'two', 'three', ...] unaffected copy"
   ]
  },
  {
   "cell_type": "markdown",
   "id": "0eab759e",
   "metadata": {},
   "source": [
    "## 11. Joining Lists"
   ]
  },
  {
   "cell_type": "code",
   "execution_count": 17,
   "id": "60853729",
   "metadata": {},
   "outputs": [
    {
     "name": "stdout",
     "output_type": "stream",
     "text": [
      "['one', 'two', 'three', 'four', 'five', 'six', 'seven', 'eight']\n"
     ]
    }
   ],
   "source": [
    "# Joining lists\n",
    "list1 = ['one', 'two', 'three', 'four']\n",
    "list2 = ['five', 'six', 'seven', 'eight']\n",
    "list3 = list1 + list2\n",
    "print(list3)"
   ]
  },
  {
   "cell_type": "markdown",
   "id": "bbf7c3fe",
   "metadata": {},
   "source": [
    "## 12 & 13. Reversing Lists"
   ]
  },
  {
   "cell_type": "code",
   "execution_count": 18,
   "id": "7fcc7d0f",
   "metadata": {},
   "outputs": [
    {
     "name": "stdout",
     "output_type": "stream",
     "text": [
      "['four', 'three', 'two', 'one']\n",
      "['one', 'two', 'three', 'four']\n"
     ]
    }
   ],
   "source": [
    "# Reverse list\n",
    "list1.reverse()\n",
    "print(list1)\n",
    "\n",
    "# Or using slicing\n",
    "list1 = list1[::-1]\n",
    "print(list1)"
   ]
  },
  {
   "cell_type": "markdown",
   "id": "1fbc997e",
   "metadata": {},
   "source": [
    "## 14. Sorting Lists"
   ]
  },
  {
   "cell_type": "code",
   "execution_count": 19,
   "id": "5e216118",
   "metadata": {},
   "outputs": [
    {
     "name": "stdout",
     "output_type": "stream",
     "text": [
      "[2, 5, 9, 12, 34, 88, 99]\n",
      "[99, 88, 34, 12, 9, 5, 2]\n",
      "[11, 21, 33, 65, 88, 98]\n",
      "[88, 65, 33, 21, 11, 98]\n"
     ]
    }
   ],
   "source": [
    "# Sorting lists\n",
    "mylist3 = [9, 5, 2, 99, 12, 88, 34]\n",
    "mylist3.sort() # Ascending sort\n",
    "print(mylist3)\n",
    "mylist3.sort(reverse=True) # Descending sort\n",
    "print(mylist3)\n",
    "mylist4 = [88, 65, 33, 21, 11, 98]\n",
    "print(sorted(mylist4)) # returns sorted list without modifying original\n",
    "print(mylist4)"
   ]
  },
  {
   "cell_type": "markdown",
   "id": "07a7db21",
   "metadata": {},
   "source": [
    "## 15. Loop Through List"
   ]
  },
  {
   "cell_type": "code",
   "execution_count": 20,
   "id": "a22535d4",
   "metadata": {},
   "outputs": [
    {
     "name": "stdout",
     "output_type": "stream",
     "text": [
      "one\n",
      "two\n",
      "three\n",
      "four\n"
     ]
    }
   ],
   "source": [
    "for i in list1:\n",
    "    print(i)"
   ]
  },
  {
   "cell_type": "markdown",
   "id": "b783c5ba",
   "metadata": {},
   "source": [
    "## 16. all() and any()"
   ]
  },
  {
   "cell_type": "code",
   "execution_count": 22,
   "id": "77d5332e",
   "metadata": {},
   "outputs": [
    {
     "name": "stdout",
     "output_type": "stream",
     "text": [
      "False\n",
      "True\n",
      "True\n",
      "False\n"
     ]
    }
   ],
   "source": [
    "# all() and any() examples\n",
    "lst_bool1 = [True, True, False]\n",
    "lst_bool2 = [True, True, True]\n",
    "print(all(lst_bool1)) # False, because one False\n",
    "print(all(lst_bool2)) # True, all True\n",
    "print(any(lst_bool1)) # True, because at least one True\n",
    "print(any([False, False])) # False, none True"
   ]
  },
  {
   "cell_type": "markdown",
   "id": "771520a4-e74f-4581-9c8d-1d2194c9e38f",
   "metadata": {},
   "source": [
    "## 17. List Membership"
   ]
  },
  {
   "cell_type": "code",
   "execution_count": 23,
   "id": "fbd1330c-8dc9-425e-a37c-955460d14199",
   "metadata": {},
   "outputs": [
    {
     "data": {
      "text/plain": [
       "['one', 'two', 'three', 'four']"
      ]
     },
     "execution_count": 23,
     "metadata": {},
     "output_type": "execute_result"
    }
   ],
   "source": [
    "list1"
   ]
  },
  {
   "cell_type": "code",
   "execution_count": 24,
   "id": "29b47f13-43bd-4606-a865-48b770c3b8e1",
   "metadata": {},
   "outputs": [
    {
     "data": {
      "text/plain": [
       "True"
      ]
     },
     "execution_count": 24,
     "metadata": {},
     "output_type": "execute_result"
    }
   ],
   "source": [
    "'one' in list1 # Check if 'one' exist in the list"
   ]
  },
  {
   "cell_type": "code",
   "execution_count": 25,
   "id": "e22aedce-5a18-4e85-82eb-a5dbfa3feb50",
   "metadata": {},
   "outputs": [
    {
     "data": {
      "text/plain": [
       "False"
      ]
     },
     "execution_count": 25,
     "metadata": {},
     "output_type": "execute_result"
    }
   ],
   "source": [
    "'ten' in list1 # Check if 'ten' exist in the list"
   ]
  },
  {
   "cell_type": "code",
   "execution_count": 26,
   "id": "d0306e11-1bec-474f-98ba-5028df1fe03a",
   "metadata": {},
   "outputs": [
    {
     "name": "stdout",
     "output_type": "stream",
     "text": [
      "Three is present in the list\n"
     ]
    }
   ],
   "source": [
    "if 'three' in list1: # Check if 'three' exist in the list\n",
    "    print('Three is present in the list')\n",
    "else:\n",
    "    print('Three is not present in the list')"
   ]
  },
  {
   "cell_type": "code",
   "execution_count": 27,
   "id": "7a2c0960-7318-4ab5-8c08-a7701a91d0c6",
   "metadata": {},
   "outputs": [
    {
     "name": "stdout",
     "output_type": "stream",
     "text": [
      "eleven is not present in the list\n"
     ]
    }
   ],
   "source": [
    "if 'eleven' in list1: # Check if 'eleven' exist in the list\n",
    "    print('eleven is present in the list')\n",
    "else:\n",
    "    print('eleven is not present in the list')"
   ]
  }
 ],
 "metadata": {
  "kernelspec": {
   "display_name": "Python 3 (ipykernel)",
   "language": "python",
   "name": "python3"
  },
  "language_info": {
   "codemirror_mode": {
    "name": "ipython",
    "version": 3
   },
   "file_extension": ".py",
   "mimetype": "text/x-python",
   "name": "python",
   "nbconvert_exporter": "python",
   "pygments_lexer": "ipython3",
   "version": "3.13.5"
  }
 },
 "nbformat": 4,
 "nbformat_minor": 5
}
