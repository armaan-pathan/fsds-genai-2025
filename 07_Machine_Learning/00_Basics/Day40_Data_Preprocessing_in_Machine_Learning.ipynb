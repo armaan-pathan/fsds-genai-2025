{
 "cells": [
  {
   "cell_type": "markdown",
   "id": "219f0104-8cb9-4969-96ca-599cc1e31ad5",
   "metadata": {},
   "source": [
    "# Day 40 – Data Preprocessing in Machine Learning\n",
    "\n",
    "Before we can train a Machine Learning model, the raw dataset must be cleaned and prepared.  \n",
    "This step is called **Data Preprocessing**, and it ensures that the data is consistent, complete, and ready for learning.\n",
    "\n",
    "### Why is Data Preprocessing Important?\n",
    "- Real-world datasets are rarely perfect. They often contain:\n",
    "  - Missing values\n",
    "  - Categorical (non-numeric) features\n",
    "  - Inconsistent formats or scales\n",
    "- ML models work best when input data is:\n",
    "  - Numeric\n",
    "  - Clean (no NaN values)\n",
    "  - Properly scaled\n",
    "\n",
    "### Key Steps in Data Preprocessing\n",
    "1. Import the dataset  \n",
    "2. Separate independent (features) and dependent (target) variables  \n",
    "3. Handle missing data  \n",
    "4. Encode categorical variables  \n",
    "5. Split into training and test sets  \n",
    "6. Apply feature scaling\n",
    "\n",
    "---"
   ]
  },
  {
   "cell_type": "markdown",
   "id": "b3730b67-e837-428e-8711-3a3606aa7eaf",
   "metadata": {},
   "source": [
    "## Importing Libraries"
   ]
  },
  {
   "cell_type": "code",
   "execution_count": 1,
   "id": "656b9282-0fc9-4b11-928b-9703f2b88b14",
   "metadata": {},
   "outputs": [],
   "source": [
    "import numpy as np\n",
    "import pandas as pd\n",
    "import matplotlib.pyplot as plt"
   ]
  },
  {
   "cell_type": "markdown",
   "id": "0bbe5418-26a8-4e3a-b38e-d2f3196d7054",
   "metadata": {},
   "source": [
    "## Importing the Dataset\n",
    "\n",
    "We start by loading our dataset using `pandas.read_csv()`.  \n"
   ]
  },
  {
   "cell_type": "code",
   "execution_count": 2,
   "id": "85cd36e3-42dd-4371-b5eb-b18f9b93b877",
   "metadata": {},
   "outputs": [],
   "source": [
    "data = pd.read_csv(r\"C:\\Users\\Arman\\Downloads\\dataset\\data.csv\")"
   ]
  },
  {
   "cell_type": "code",
   "execution_count": 3,
   "id": "746b8308-347c-42a8-9744-c408aad49f40",
   "metadata": {},
   "outputs": [
    {
     "name": "stdout",
     "output_type": "stream",
     "text": [
      "Dataset Info:\n",
      "<class 'pandas.core.frame.DataFrame'>\n",
      "RangeIndex: 10 entries, 0 to 9\n",
      "Data columns (total 4 columns):\n",
      " #   Column     Non-Null Count  Dtype  \n",
      "---  ------     --------------  -----  \n",
      " 0   State      10 non-null     object \n",
      " 1   Age        9 non-null      float64\n",
      " 2   Salary     9 non-null      float64\n",
      " 3   Purchased  10 non-null     object \n",
      "dtypes: float64(2), object(2)\n",
      "memory usage: 452.0+ bytes\n"
     ]
    }
   ],
   "source": [
    "print(\"Dataset Info:\")\n",
    "data.info()"
   ]
  },
  {
   "cell_type": "code",
   "execution_count": 4,
   "id": "d2d647df-03e2-4ac1-9c2b-8dbbfc6541c2",
   "metadata": {},
   "outputs": [
    {
     "name": "stdout",
     "output_type": "stream",
     "text": [
      "Missing Values:\n"
     ]
    },
    {
     "data": {
      "text/plain": [
       "State        0\n",
       "Age          1\n",
       "Salary       1\n",
       "Purchased    0\n",
       "dtype: int64"
      ]
     },
     "execution_count": 4,
     "metadata": {},
     "output_type": "execute_result"
    }
   ],
   "source": [
    "print(\"Missing Values:\")\n",
    "data.isnull().sum()"
   ]
  },
  {
   "cell_type": "code",
   "execution_count": 5,
   "id": "6794165d-fbc3-4b76-8a17-249e69fee17e",
   "metadata": {},
   "outputs": [
    {
     "data": {
      "text/html": [
       "<div>\n",
       "<style scoped>\n",
       "    .dataframe tbody tr th:only-of-type {\n",
       "        vertical-align: middle;\n",
       "    }\n",
       "\n",
       "    .dataframe tbody tr th {\n",
       "        vertical-align: top;\n",
       "    }\n",
       "\n",
       "    .dataframe thead th {\n",
       "        text-align: right;\n",
       "    }\n",
       "</style>\n",
       "<table border=\"1\" class=\"dataframe\">\n",
       "  <thead>\n",
       "    <tr style=\"text-align: right;\">\n",
       "      <th></th>\n",
       "      <th>State</th>\n",
       "      <th>Age</th>\n",
       "      <th>Salary</th>\n",
       "      <th>Purchased</th>\n",
       "    </tr>\n",
       "  </thead>\n",
       "  <tbody>\n",
       "    <tr>\n",
       "      <th>0</th>\n",
       "      <td>Mumbai</td>\n",
       "      <td>44.0</td>\n",
       "      <td>72000.0</td>\n",
       "      <td>No</td>\n",
       "    </tr>\n",
       "    <tr>\n",
       "      <th>1</th>\n",
       "      <td>Bangalore</td>\n",
       "      <td>27.0</td>\n",
       "      <td>48000.0</td>\n",
       "      <td>Yes</td>\n",
       "    </tr>\n",
       "    <tr>\n",
       "      <th>2</th>\n",
       "      <td>Hyderabad</td>\n",
       "      <td>30.0</td>\n",
       "      <td>54000.0</td>\n",
       "      <td>No</td>\n",
       "    </tr>\n",
       "    <tr>\n",
       "      <th>3</th>\n",
       "      <td>Bangalore</td>\n",
       "      <td>38.0</td>\n",
       "      <td>61000.0</td>\n",
       "      <td>No</td>\n",
       "    </tr>\n",
       "    <tr>\n",
       "      <th>4</th>\n",
       "      <td>Hyderabad</td>\n",
       "      <td>40.0</td>\n",
       "      <td>NaN</td>\n",
       "      <td>Yes</td>\n",
       "    </tr>\n",
       "    <tr>\n",
       "      <th>5</th>\n",
       "      <td>Mumbai</td>\n",
       "      <td>35.0</td>\n",
       "      <td>58000.0</td>\n",
       "      <td>Yes</td>\n",
       "    </tr>\n",
       "    <tr>\n",
       "      <th>6</th>\n",
       "      <td>Bangalore</td>\n",
       "      <td>NaN</td>\n",
       "      <td>52000.0</td>\n",
       "      <td>No</td>\n",
       "    </tr>\n",
       "    <tr>\n",
       "      <th>7</th>\n",
       "      <td>Mumbai</td>\n",
       "      <td>48.0</td>\n",
       "      <td>79000.0</td>\n",
       "      <td>Yes</td>\n",
       "    </tr>\n",
       "    <tr>\n",
       "      <th>8</th>\n",
       "      <td>Hyderabad</td>\n",
       "      <td>50.0</td>\n",
       "      <td>83000.0</td>\n",
       "      <td>No</td>\n",
       "    </tr>\n",
       "    <tr>\n",
       "      <th>9</th>\n",
       "      <td>Mumbai</td>\n",
       "      <td>37.0</td>\n",
       "      <td>67000.0</td>\n",
       "      <td>Yes</td>\n",
       "    </tr>\n",
       "  </tbody>\n",
       "</table>\n",
       "</div>"
      ],
      "text/plain": [
       "       State   Age   Salary Purchased\n",
       "0     Mumbai  44.0  72000.0        No\n",
       "1  Bangalore  27.0  48000.0       Yes\n",
       "2  Hyderabad  30.0  54000.0        No\n",
       "3  Bangalore  38.0  61000.0        No\n",
       "4  Hyderabad  40.0      NaN       Yes\n",
       "5     Mumbai  35.0  58000.0       Yes\n",
       "6  Bangalore   NaN  52000.0        No\n",
       "7     Mumbai  48.0  79000.0       Yes\n",
       "8  Hyderabad  50.0  83000.0        No\n",
       "9     Mumbai  37.0  67000.0       Yes"
      ]
     },
     "execution_count": 5,
     "metadata": {},
     "output_type": "execute_result"
    }
   ],
   "source": [
    "data"
   ]
  },
  {
   "cell_type": "markdown",
   "id": "e62ca206-8577-403b-95ee-7c0b3ac71788",
   "metadata": {},
   "source": [
    "---\n",
    "\n",
    "## Separating Independent (x) and Dependent (y) Variables\n",
    "\n",
    "### Features vs Target\n",
    "\n",
    "- **Independent variables (x):** All input features (columns except the target).  \n",
    "- **Dependent variable (y):** The target column we want to predict."
   ]
  },
  {
   "cell_type": "code",
   "execution_count": 6,
   "id": "86fdbdbc-74c4-4b65-b821-745e7a02f1ff",
   "metadata": {},
   "outputs": [],
   "source": [
    "x = data.iloc[:, :-1].values   # All columns except last\n",
    "y = data.iloc[:, 3].values    # Last column"
   ]
  },
  {
   "cell_type": "code",
   "execution_count": 7,
   "id": "64ebf865-e995-4489-b21f-fd6a2197bdd2",
   "metadata": {},
   "outputs": [
    {
     "name": "stdout",
     "output_type": "stream",
     "text": [
      "[['Mumbai' 44.0 72000.0]\n",
      " ['Bangalore' 27.0 48000.0]\n",
      " ['Hyderabad' 30.0 54000.0]\n",
      " ['Bangalore' 38.0 61000.0]\n",
      " ['Hyderabad' 40.0 nan]\n",
      " ['Mumbai' 35.0 58000.0]\n",
      " ['Bangalore' nan 52000.0]\n",
      " ['Mumbai' 48.0 79000.0]\n",
      " ['Hyderabad' 50.0 83000.0]\n",
      " ['Mumbai' 37.0 67000.0]]\n"
     ]
    }
   ],
   "source": [
    "print(x)"
   ]
  },
  {
   "cell_type": "code",
   "execution_count": 8,
   "id": "924f253d-5802-4421-a0f7-861afa4442e3",
   "metadata": {},
   "outputs": [
    {
     "name": "stdout",
     "output_type": "stream",
     "text": [
      "['No' 'Yes' 'No' 'No' 'Yes' 'Yes' 'No' 'Yes' 'No' 'Yes']\n"
     ]
    }
   ],
   "source": [
    "print(y)"
   ]
  },
  {
   "cell_type": "markdown",
   "id": "a5dc291f-d17e-4ce5-b242-a15462ea6eb2",
   "metadata": {},
   "source": [
    "---\n",
    "\n",
    "## Handling Missing Data\n",
    "\n",
    "### Why Handle Missing Data?\n",
    "\n",
    "- Real-world datasets often have missing values.  \n",
    "- Many ML algorithms cannot work with missing data directly.  \n",
    "- A common strategy is to **replace missing values with the mean** of the column."
   ]
  },
  {
   "cell_type": "code",
   "execution_count": 9,
   "id": "5de2c218-984c-4045-9e18-e9bbc22ceee9",
   "metadata": {},
   "outputs": [],
   "source": [
    "from sklearn.impute import SimpleImputer\n",
    "\n",
    "# Imputer: replace missing numeric values with column mean\n",
    "imputer = SimpleImputer()\n",
    "\n",
    "# Fit only on numeric columns (assuming Age, Salary are cols 1 and 2)\n",
    "imputer = imputer.fit(x[:,1:3])\n",
    "\n",
    "# Transform the dataset\n",
    "x[:,1:3] = imputer.transform(x[:,1:3])"
   ]
  },
  {
   "cell_type": "code",
   "execution_count": 10,
   "id": "289f8c6f-c8cf-4a62-8161-42f182d6e480",
   "metadata": {},
   "outputs": [
    {
     "name": "stdout",
     "output_type": "stream",
     "text": [
      "[['Mumbai' 44.0 72000.0]\n",
      " ['Bangalore' 27.0 48000.0]\n",
      " ['Hyderabad' 30.0 54000.0]\n",
      " ['Bangalore' 38.0 61000.0]\n",
      " ['Hyderabad' 40.0 63777.77777777778]\n",
      " ['Mumbai' 35.0 58000.0]\n",
      " ['Bangalore' 38.77777777777778 52000.0]\n",
      " ['Mumbai' 48.0 79000.0]\n",
      " ['Hyderabad' 50.0 83000.0]\n",
      " ['Mumbai' 37.0 67000.0]]\n"
     ]
    }
   ],
   "source": [
    "print(x)"
   ]
  },
  {
   "cell_type": "code",
   "execution_count": 11,
   "id": "709827d3-d69d-4a57-b79f-3266447c5c16",
   "metadata": {},
   "outputs": [
    {
     "name": "stdout",
     "output_type": "stream",
     "text": [
      "Before Imputation:\n",
      "       State   Age   Salary Purchased\n",
      "0     Mumbai  44.0  72000.0        No\n",
      "1  Bangalore  27.0  48000.0       Yes\n",
      "2  Hyderabad  30.0  54000.0        No\n",
      "3  Bangalore  38.0  61000.0        No\n",
      "4  Hyderabad  40.0      NaN       Yes\n",
      "5     Mumbai  35.0  58000.0       Yes\n",
      "6  Bangalore   NaN  52000.0        No\n",
      "7     Mumbai  48.0  79000.0       Yes\n",
      "8  Hyderabad  50.0  83000.0        No\n",
      "9     Mumbai  37.0  67000.0       Yes\n",
      "\n",
      "After Imputation:\n",
      "[['Mumbai' 44.0 72000.0]\n",
      " ['Bangalore' 27.0 48000.0]\n",
      " ['Hyderabad' 30.0 54000.0]\n",
      " ['Bangalore' 38.0 61000.0]\n",
      " ['Hyderabad' 40.0 63777.77777777778]\n",
      " ['Mumbai' 35.0 58000.0]\n",
      " ['Bangalore' 38.77777777777778 52000.0]\n",
      " ['Mumbai' 48.0 79000.0]\n",
      " ['Hyderabad' 50.0 83000.0]\n",
      " ['Mumbai' 37.0 67000.0]]\n"
     ]
    }
   ],
   "source": [
    "print(\"Before Imputation:\")\n",
    "print(data)  \n",
    "\n",
    "print(\"\\nAfter Imputation:\")\n",
    "print(x)"
   ]
  },
  {
   "cell_type": "markdown",
   "id": "6bb55934-42e4-49ef-9856-05a6fc2ea6b0",
   "metadata": {},
   "source": [
    "---\n",
    "\n",
    "## Encoding Categorical Data\n",
    "\n",
    "### Why Encode?\n",
    "\n",
    "Machine learning models work with numbers, not text.  \n",
    "Categorical data (like State, Purchased) must be converted to numeric form.\n",
    "\n",
    "Two common methods:\n",
    "- **Label Encoding**: Assigns a number (0,1,2,...) to each category.  \n",
    "- **One-Hot Encoding**: Creates separate binary columns for each category.\n",
    "\n",
    "In this example, I used **Label Encoding**."
   ]
  },
  {
   "cell_type": "code",
   "execution_count": 12,
   "id": "e128b481-ce0e-4089-8187-07c283d97c13",
   "metadata": {},
   "outputs": [],
   "source": [
    "from sklearn.preprocessing import LabelEncoder\n",
    "\n",
    "# Encode first column of X (categorical independent variable)\n",
    "labelencoder_x = LabelEncoder()\n",
    "x[:,0] = labelencoder_x.fit_transform(x[:,0])\n",
    "\n",
    "# Encode dependent variable y\n",
    "labelencoder_y = LabelEncoder()\n",
    "y = labelencoder_y.fit_transform(y)"
   ]
  },
  {
   "cell_type": "code",
   "execution_count": 13,
   "id": "d46c7f34-0e21-4fbf-8587-77fbea03b294",
   "metadata": {},
   "outputs": [
    {
     "name": "stdout",
     "output_type": "stream",
     "text": [
      "Before Encoding:\n",
      "       State   Age   Salary Purchased\n",
      "0     Mumbai  44.0  72000.0        No\n",
      "1  Bangalore  27.0  48000.0       Yes\n",
      "2  Hyderabad  30.0  54000.0        No\n",
      "3  Bangalore  38.0  61000.0        No\n",
      "4  Hyderabad  40.0      NaN       Yes\n",
      "5     Mumbai  35.0  58000.0       Yes\n",
      "6  Bangalore   NaN  52000.0        No\n",
      "7     Mumbai  48.0  79000.0       Yes\n",
      "8  Hyderabad  50.0  83000.0        No\n",
      "9     Mumbai  37.0  67000.0       Yes\n",
      "\n",
      "After Encoding:\n",
      "Encoded x:\n",
      " [[2 44.0 72000.0]\n",
      " [0 27.0 48000.0]\n",
      " [1 30.0 54000.0]\n",
      " [0 38.0 61000.0]\n",
      " [1 40.0 63777.77777777778]\n",
      " [2 35.0 58000.0]\n",
      " [0 38.77777777777778 52000.0]\n",
      " [2 48.0 79000.0]\n",
      " [1 50.0 83000.0]\n",
      " [2 37.0 67000.0]]\n",
      "Encoded y:\n",
      " [0 1 0 0 1 1 0 1 0 1]\n"
     ]
    }
   ],
   "source": [
    "print(\"Before Encoding:\")\n",
    "print(data)\n",
    "\n",
    "print(\"\\nAfter Encoding:\")\n",
    "print(\"Encoded x:\\n\", x)\n",
    "print(\"Encoded y:\\n\", y)\n"
   ]
  },
  {
   "cell_type": "markdown",
   "id": "955385d2-97d4-4757-a476-2beae2287e72",
   "metadata": {},
   "source": [
    "---\n",
    "\n",
    "## Splitting the Dataset into Training and Test Sets\n",
    "\n",
    "### Why Split?\n",
    "\n",
    "We split our dataset to evaluate performance:\n",
    "- **Training set** → used to train the model.  \n",
    "- **Test set** → used to evaluate accuracy on unseen data."
   ]
  },
  {
   "cell_type": "code",
   "execution_count": 14,
   "id": "76d7aa9f-c019-4771-8390-1036d43afbc5",
   "metadata": {},
   "outputs": [],
   "source": [
    "from sklearn.model_selection import train_test_split\n",
    "\n",
    "x_train,x_test,y_train,y_test = train_test_split(x,y, test_size = 0.2, random_state=0)"
   ]
  },
  {
   "cell_type": "code",
   "execution_count": 15,
   "id": "52684dd3-e110-43c7-9a2e-25b5c51e1007",
   "metadata": {},
   "outputs": [
    {
     "name": "stdout",
     "output_type": "stream",
     "text": [
      "x_train Length: 8\n",
      "x_test Length: 2\n",
      "y_train Length: 8\n",
      "y_test Length: 2\n"
     ]
    }
   ],
   "source": [
    "print(\"x_train Length:\", len(x_train))\n",
    "print(\"x_test Length:\", len(x_test))\n",
    "print(\"y_train Length:\", len(y_train))\n",
    "print(\"y_test Length:\", len(y_test))"
   ]
  },
  {
   "cell_type": "markdown",
   "id": "91180e0c-7180-472f-8ea6-c69e3138723f",
   "metadata": {},
   "source": [
    "---\n",
    "\n",
    "## Summary – Data Preprocessing in ML\n",
    "\n",
    "In this notebook, I prepared raw data for machine learning by following a structured preprocessing pipeline:\n",
    "\n",
    "1. **Imported the dataset** using `pandas` and checked its structure.  \n",
    "2. **Separated independent variables (x)** and the **dependent variable (y)**.  \n",
    "3. **Handled missing data** using `SimpleImputer` (mean replacement).  \n",
    "4. **Encoded categorical variables** with `LabelEncoder` to convert text into numeric values.  \n",
    "   - Note: For many problems, **One-Hot Encoding** is preferred to avoid imposing order.  \n",
    "5. **Split the dataset** into training and test sets using `train_test_split` to evaluate model performance fairly.  \n",
    "\n",
    "**Key Takeaway**:  \n",
    "Data preprocessing is the **first and most crucial step** in building ML models.  \n",
    "Clean, consistent, and properly formatted data ensures that models learn effectively and perform reliably.  "
   ]
  }
 ],
 "metadata": {
  "kernelspec": {
   "display_name": "Python 3 (ipykernel)",
   "language": "python",
   "name": "python3"
  },
  "language_info": {
   "codemirror_mode": {
    "name": "ipython",
    "version": 3
   },
   "file_extension": ".py",
   "mimetype": "text/x-python",
   "name": "python",
   "nbconvert_exporter": "python",
   "pygments_lexer": "ipython3",
   "version": "3.13.5"
  }
 },
 "nbformat": 4,
 "nbformat_minor": 5
}
