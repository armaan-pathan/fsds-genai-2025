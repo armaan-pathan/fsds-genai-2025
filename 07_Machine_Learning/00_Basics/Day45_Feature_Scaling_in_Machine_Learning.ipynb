{
 "cells": [
  {
   "cell_type": "markdown",
   "id": "311e2b25-2220-451f-a5c0-368645a24880",
   "metadata": {},
   "source": [
    "### Day 45 – Feature Scaling: Normalization vs. Standardization \n",
    "\n",
    "In this notebook, I learned about **Feature Scaling**, a crucial preprocessing step in Machine Learning.  \n",
    "Feature scaling ensures that all features contribute equally to the model and prevents bias caused by varying scales of data.  \n",
    "\n",
    "I will cover:  \n",
    "- Why feature scaling is needed  \n",
    "- Two main techniques: **Normalization (Min-Max Scaling)** and **Standardization (Z-score Scaling)**  \n",
    "- A small dataset example with Python implementation  \n",
    "- When to use which scaling method\n",
    "\n",
    "---\n",
    "\n",
    "## 1. What is Feature Scaling?\n",
    "\n",
    "Feature scaling is the process of adjusting the values of numerical features in a dataset to a standard scale. This is important because many machine learning algorithms, particularly those that use distance-based calculations (like K-Nearest Neighbors, Support Vector Machines, and gradient descent-based algorithms like Linear Regression), can be biased towards features with larger values.\n",
    "\n",
    "**Why it matters:** If a feature like `salary` (ranging from $50k to $100k) is used alongside `age` (ranging from 20 to 60), the model might incorrectly assume that `salary` is a more important feature just because its values are larger. Feature scaling ensures all features contribute equally to the model.\n",
    "\n",
    "---\n"
   ]
  },
  {
   "cell_type": "markdown",
   "id": "97a94198-6c6c-4b1a-acdb-a38c825c047a",
   "metadata": {},
   "source": [
    "## 2. Normalization (Min-Max Scaling)\n",
    "\n",
    "**Normalization**, also known as Min-Max Scaling, scales all numerical features to a specific range, typically between 0 and 1. It is a good choice when you know that the data does not follow a Gaussian (normal) distribution.\n",
    "\n",
    "**How it works:** It transforms the data based on the minimum and maximum values of the feature.\n",
    "\n",
    "**Formula:**\n",
    "$$X_{new} = \\frac{X - X_{min}}{X_{max} - X_{min}}$$\n",
    "\n",
    "  * $X$: The original value.\n",
    "  * $X_{min}$: The minimum value of the feature.\n",
    "  * $X_{max}$: The maximum value of the feature.\n",
    "\n",
    "**When to use:** Use normalization when you need to maintain the original distribution's shape and when your algorithm doesn't make assumptions about the data's distribution (e.g., in deep learning). However, it's sensitive to outliers.\n",
    "\n",
    "---\n",
    "\n",
    "### Example"
   ]
  },
  {
   "cell_type": "code",
   "execution_count": 1,
   "id": "50a92fde-16c2-4ac1-aacb-5f7a29a9cbf9",
   "metadata": {},
   "outputs": [],
   "source": [
    "import numpy as np\n",
    "import pandas as pd\n",
    "import matplotlib.pyplot as plt\n",
    "from sklearn.preprocessing import MinMaxScaler, StandardScaler"
   ]
  },
  {
   "cell_type": "code",
   "execution_count": 2,
   "id": "e8def0eb-9073-4b03-bd7a-17804b6eb8e6",
   "metadata": {},
   "outputs": [],
   "source": [
    "# Sample Data: I'll create a DataFrame with two features, Age and Salary.\n",
    "# Age has a smaller range, while Salary has a much larger range.\n",
    "data = {'Age': [25, 30, 35, 40, 50, 60],\n",
    "        'Salary': [45000, 55000, 65000, 80000, 120000, 150000]}\n",
    "df = pd.DataFrame(data)"
   ]
  },
  {
   "cell_type": "code",
   "execution_count": 3,
   "id": "4f601b4b-3aa1-4324-8c8d-5ba1d0fcb5b4",
   "metadata": {},
   "outputs": [
    {
     "name": "stdout",
     "output_type": "stream",
     "text": [
      "--- Original Data ---\n",
      "   Age  Salary\n",
      "0   25   45000\n",
      "1   30   55000\n",
      "2   35   65000\n",
      "3   40   80000\n",
      "4   50  120000\n",
      "5   60  150000\n"
     ]
    }
   ],
   "source": [
    "# Original data\n",
    "print(\"--- Original Data ---\")\n",
    "print(df)"
   ]
  },
  {
   "cell_type": "code",
   "execution_count": 4,
   "id": "75268bf4-b3e8-4306-8885-e3f101fd9e39",
   "metadata": {},
   "outputs": [
    {
     "name": "stdout",
     "output_type": "stream",
     "text": [
      "\n",
      "--- Normalization (Min-Max Scaling) ---\n",
      "        Age    Salary\n",
      "0  0.000000  0.000000\n",
      "1  0.142857  0.095238\n",
      "2  0.285714  0.190476\n",
      "3  0.428571  0.333333\n",
      "4  0.714286  0.714286\n",
      "5  1.000000  1.000000\n"
     ]
    }
   ],
   "source": [
    "# --- Normalization Example ---\n",
    "print(\"\\n--- Normalization (Min-Max Scaling) ---\")\n",
    "\n",
    "# Create a MinMaxScaler object\n",
    "min_max_scaler = MinMaxScaler()\n",
    "\n",
    "# Fit and transform the data\n",
    "df_normalized = pd.DataFrame(min_max_scaler.fit_transform(df), columns=df.columns)\n",
    "print(df_normalized)"
   ]
  },
  {
   "cell_type": "markdown",
   "id": "3ea3cd7b-03bc-46e7-b893-bb361a58d84f",
   "metadata": {},
   "source": [
    "---\n",
    "\n",
    "## 3. Standardization (Z-Score Scaling)\n",
    "\n",
    "**Standardization**, also known as Z-Score Scaling, transforms the data to have a mean of 0 and a standard deviation of 1. It is a good choice when the data follows a Gaussian (normal) distribution or if your algorithm assumes this distribution.\n",
    "\n",
    "**How it works:** It subtracts the mean and divides by the standard deviation.\n",
    "\n",
    "**Formula:**\n",
    "$$X_{new} = \\frac{X - \\mu}{\\sigma}$$\n",
    "\n",
    "  * $X$: The original value.\n",
    "  * $\\mu$: The mean of the feature.\n",
    "  * $\\sigma$: The standard deviation of the feature.\n",
    "\n",
    "**When to use:** Standardization is generally the default choice for many algorithms, especially those that rely on assumptions of a normal distribution. It is also less affected by outliers compared to normalization.\n",
    "\n",
    "---\n",
    "### Example:"
   ]
  },
  {
   "cell_type": "code",
   "execution_count": 5,
   "id": "689fbad7-6c8d-4570-9069-8c2d760ca612",
   "metadata": {},
   "outputs": [
    {
     "name": "stdout",
     "output_type": "stream",
     "text": [
      "\n",
      "--- Standardization (Z-Score Scaling) ---\n",
      "        Age    Salary\n",
      "0 -1.260252 -1.093216\n",
      "1 -0.840168 -0.825490\n",
      "2 -0.420084 -0.557763\n",
      "3  0.000000 -0.156174\n",
      "4  0.840168  0.914732\n",
      "5  1.680336  1.717911\n"
     ]
    }
   ],
   "source": [
    "# --- Standardization Example ---\n",
    "print(\"\\n--- Standardization (Z-Score Scaling) ---\")\n",
    "\n",
    "# Create a StandardScaler object\n",
    "standard_scaler = StandardScaler()\n",
    "\n",
    "# Fit and transform the data\n",
    "df_standardized = pd.DataFrame(standard_scaler.fit_transform(df), columns=df.columns)\n",
    "print(df_standardized)"
   ]
  },
  {
   "cell_type": "markdown",
   "id": "63763022-1bcf-445b-adc8-4cf4e1629e4f",
   "metadata": {},
   "source": [
    "### Visualization"
   ]
  },
  {
   "cell_type": "code",
   "execution_count": 6,
   "id": "015f861d-096f-4e73-ab2f-fb46d27ff13d",
   "metadata": {},
   "outputs": [
    {
     "data": {
      "image/png": "[encoded data removed]",
      "text/plain": [
       "<Figure size 1000x500 with 3 Axes>"
      ]
     },
     "metadata": {},
     "output_type": "display_data"
    }
   ],
   "source": [
    "plt.figure(figsize=(10,5))\n",
    "\n",
    "plt.subplot(1,3,1)\n",
    "plt.title(\"Original Data\")\n",
    "plt.scatter(data['Age'], data['Salary'])\n",
    "\n",
    "plt.subplot(1,3,2)\n",
    "plt.title(\"Normalized Data\")\n",
    "plt.scatter(df_normalized['Age'], df_normalized['Salary'])\n",
    "\n",
    "plt.subplot(1,3,3)\n",
    "plt.title(\"Standardized Data\")\n",
    "plt.scatter(df_standardized['Age'], df_standardized['Salary'])\n",
    "\n",
    "plt.tight_layout()\n",
    "plt.show()\n"
   ]
  },
  {
   "cell_type": "markdown",
   "id": "bca60fb3-a25c-4ab4-91c2-19a7c85ff6ea",
   "metadata": {},
   "source": [
    "**Explanation of the Code**\n",
    "\n",
    "  * I create a sample DataFrame with two features, `Age` and `Salary`, to clearly see the effect of scaling.\n",
    "  * I use the `MinMaxScaler()` from `scikit-learn` to perform **normalization**. The output shows that all values are now in the range [0, 1].\n",
    "  * I use the `StandardScaler()` from `scikit-learn` to perform **standardization**. The output shows that the transformed features now have a mean of approximately 0 and a standard deviation of 1.\n",
    "\n",
    "---\n",
    "\n",
    "## Normalization vs Standardization\n",
    "\n",
    "| Aspect              | Normalization (Min-Max)       | Standardization (Z-score)        |\n",
    "|---------------------|-------------------------------|----------------------------------|\n",
    "| Range               | [0, 1]                        | Mean = 0, SD = 1 (≈ -3 to +3)   |\n",
    "| Assumption          | No distribution assumption    | Assumes Gaussian distribution   |\n",
    "| Outlier Sensitivity | Sensitive to outliers         | Robust to outliers              |\n",
    "| When to Use         | Algorithms needing bounded input (e.g., Neural Nets, KNN) | Linear Regression, Logistic Regression, SVM |\n"
   ]
  },
  {
   "cell_type": "markdown",
   "id": "0859a2d9-dc91-479e-a678-bd57b959cfb1",
   "metadata": {},
   "source": [
    "## 4. Conclusion\n",
    "\n",
    "Feature scaling is a critical preprocessing step that ensures all features are treated equally by machine learning models. **Normalization** scales data to a fixed range (0-1), while **Standardization** transforms it to have a mean of 0 and a standard deviation of 1. Choosing the right technique depends on your data's distribution and the requirements of your chosen algorithm.\n",
    "\n",
    "## Key Takeaways\n",
    "- Feature Scaling ensures all features contribute equally to model training.  \n",
    "- **Normalization (Min-Max Scaling):** [0,1] range, sensitive to outliers, no distribution assumption.  \n",
    "- **Standardization (Z-score Scaling):** mean=0, SD=1, robust to outliers, assumes Gaussian distribution.  \n",
    "- Choice depends on the algorithm and dataset.  \n",
    "\n",
    "---\n",
    "\n",
    "## Summary – Day45: Feature Scaling in Machine Learning\n",
    "\n",
    "* Learned about **Feature Scaling**, an important preprocessing step.\n",
    "* Two main techniques:\n",
    "\n",
    "  * **Normalization (Min-Max Scaling):** Scales data to \\[0,1], no distribution assumption, but sensitive to outliers.\n",
    "  * **Standardization (Z-score Scaling):** Transforms data to mean=0, SD=1 (≈ -3 to 3), assumes Gaussian distribution, robust to outliers.\n",
    "* Scaling ensures all features contribute equally and improves model performance.\n"
   ]
  }
 ],
 "metadata": {
  "kernelspec": {
   "display_name": "Python 3 (ipykernel)",
   "language": "python",
   "name": "python3"
  },
  "language_info": {
   "codemirror_mode": {
    "name": "ipython",
    "version": 3
   },
   "file_extension": ".py",
   "mimetype": "text/x-python",
   "name": "python",
   "nbconvert_exporter": "python",
   "pygments_lexer": "ipython3",
   "version": "3.13.5"
  }
 },
 "nbformat": 4,
 "nbformat_minor": 5
}
