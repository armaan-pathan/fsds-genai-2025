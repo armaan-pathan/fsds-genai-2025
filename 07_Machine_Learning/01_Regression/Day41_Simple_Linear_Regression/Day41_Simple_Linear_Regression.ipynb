{
 "cells": [
  {
   "cell_type": "markdown",
   "id": "f1bb1622-8e22-4404-b568-6caf7a91dc03",
   "metadata": {},
   "source": [
    "# Day 41 — Simple Linear Regression\n",
    "\n",
    "On this day, I started learning about **Regression** in Machine Learning.  \n",
    "As a first step, I implemented **Simple Linear Regression (SLR)** using the classic `Salary_Data.csv` dataset.\n",
    "\n",
    "Note: I wrote and ran the actual code in **Spyder** (because it gives better coding features for ML workflows),  \n",
    "but here I am documenting everything in **Jupyter Notebook** so it looks clear and can be shared.\n",
    "\n",
    "The main goal: Predict a person’s **Salary** based on their **Years of Experience**.\n",
    "\n",
    "---\n",
    "## What is Regression?\n",
    "\n",
    "Regression is a **supervised machine learning technique** used when we want to predict a **continuous value** (like salary, price, marks, temperature, etc.) based on one or more input features.\n",
    "\n",
    "\n",
    "## Simple Linear Regression\n",
    "\n",
    "Simple Linear Regression tries to model the relationship between one independent variable (X) and one dependent variable (y) with a straight line.\n",
    "\n",
    "Equation:\n",
    "\\[\n",
    "y = mx + c\n",
    "\\]\n",
    "\n",
    "- **m (slope):** How much the salary increases for each extra year of experience  \n",
    "- **c (intercept):** Salary when YearsExperience = 0\n",
    "\n",
    "Example: If slope = 9500, then each extra year adds ~9.5k to the salary.\n",
    "\n",
    "### Assumptions (just to know)\n",
    "- Relationship between X and y should be roughly linear  \n",
    "- Errors (residuals) should be random, with constant variance  \n",
    "- Data should not have extreme outliers  \n",
    "---"
   ]
  },
  {
   "cell_type": "markdown",
   "id": "e0fbe63c-0405-4f96-a9f5-4170fd310f58",
   "metadata": {},
   "source": [
    "## Import Libraries"
   ]
  },
  {
   "cell_type": "code",
   "execution_count": 1,
   "id": "6ef9e8a4-4959-46e1-90a4-ca0d8c26a51f",
   "metadata": {},
   "outputs": [],
   "source": [
    "import numpy as np \t\n",
    "import matplotlib.pyplot as plt\n",
    "import pandas as pd\t\n",
    "from sklearn.model_selection import train_test_split\n",
    "from sklearn.linear_model import LinearRegression\n",
    "from scipy.stats import variation\n",
    "import scipy.stats as stats\n",
    "from sklearn.metrics import mean_squared_error\n",
    "import pickle"
   ]
  },
  {
   "cell_type": "markdown",
   "id": "1dff10d8-5ad8-49fc-9e2a-8b8e58dedcf0",
   "metadata": {},
   "source": [
    "## Load dataset\n",
    "\n",
    "The dataset has two columns:\n",
    "- **YearsExperience** → feature (X)  \n",
    "- **Salary** → target (y)\n",
    "\n",
    "We’ll load the CSV and take a quick look."
   ]
  },
  {
   "cell_type": "code",
   "execution_count": 2,
   "id": "7f882ec1-0b3b-4823-a170-dec65a86d897",
   "metadata": {},
   "outputs": [],
   "source": [
    "dataset = pd.read_csv(r\"C:\\Users\\Arman\\Downloads\\dataset\\Salary_Data.csv\")"
   ]
  },
  {
   "cell_type": "markdown",
   "id": "99b4687c-ec09-41f4-a0e3-7ff32f781bd0",
   "metadata": {},
   "source": [
    "### Explore dataset"
   ]
  },
  {
   "cell_type": "code",
   "execution_count": 3,
   "id": "aaa97bdb-a6a9-4db7-b587-c43f778560af",
   "metadata": {},
   "outputs": [
    {
     "name": "stdout",
     "output_type": "stream",
     "text": [
      "Dataset Shape: (30, 2)\n"
     ]
    }
   ],
   "source": [
    "print(\"Dataset Shape:\", dataset.shape)"
   ]
  },
  {
   "cell_type": "code",
   "execution_count": 4,
   "id": "9b9a35bf-aaff-44e5-a537-2b53f16c8fd9",
   "metadata": {},
   "outputs": [
    {
     "data": {
      "text/html": [
       "<div>\n",
       "<style scoped>\n",
       "    .dataframe tbody tr th:only-of-type {\n",
       "        vertical-align: middle;\n",
       "    }\n",
       "\n",
       "    .dataframe tbody tr th {\n",
       "        vertical-align: top;\n",
       "    }\n",
       "\n",
       "    .dataframe thead th {\n",
       "        text-align: right;\n",
       "    }\n",
       "</style>\n",
       "<table border=\"1\" class=\"dataframe\">\n",
       "  <thead>\n",
       "    <tr style=\"text-align: right;\">\n",
       "      <th></th>\n",
       "      <th>YearsExperience</th>\n",
       "      <th>Salary</th>\n",
       "    </tr>\n",
       "  </thead>\n",
       "  <tbody>\n",
       "    <tr>\n",
       "      <th>0</th>\n",
       "      <td>1.1</td>\n",
       "      <td>39343</td>\n",
       "    </tr>\n",
       "    <tr>\n",
       "      <th>1</th>\n",
       "      <td>1.3</td>\n",
       "      <td>46205</td>\n",
       "    </tr>\n",
       "    <tr>\n",
       "      <th>2</th>\n",
       "      <td>1.5</td>\n",
       "      <td>37731</td>\n",
       "    </tr>\n",
       "    <tr>\n",
       "      <th>3</th>\n",
       "      <td>2.0</td>\n",
       "      <td>43525</td>\n",
       "    </tr>\n",
       "    <tr>\n",
       "      <th>4</th>\n",
       "      <td>2.2</td>\n",
       "      <td>39891</td>\n",
       "    </tr>\n",
       "  </tbody>\n",
       "</table>\n",
       "</div>"
      ],
      "text/plain": [
       "   YearsExperience  Salary\n",
       "0              1.1   39343\n",
       "1              1.3   46205\n",
       "2              1.5   37731\n",
       "3              2.0   43525\n",
       "4              2.2   39891"
      ]
     },
     "execution_count": 4,
     "metadata": {},
     "output_type": "execute_result"
    }
   ],
   "source": [
    "dataset.head(5)"
   ]
  },
  {
   "cell_type": "code",
   "execution_count": 5,
   "id": "ea0d67a0-4b51-48a6-9ed9-6f2586f34d8e",
   "metadata": {},
   "outputs": [
    {
     "name": "stdout",
     "output_type": "stream",
     "text": [
      "Columns: Index(['YearsExperience', 'Salary'], dtype='object')\n"
     ]
    }
   ],
   "source": [
    "print(\"Columns:\", dataset.columns)"
   ]
  },
  {
   "cell_type": "code",
   "execution_count": 6,
   "id": "08c09d1b-be6a-40ec-b849-1dd3ad03b78f",
   "metadata": {},
   "outputs": [
    {
     "name": "stdout",
     "output_type": "stream",
     "text": [
      "Missing values:\n",
      " YearsExperience    0\n",
      "Salary             0\n",
      "dtype: int64\n"
     ]
    }
   ],
   "source": [
    "print(\"Missing values:\\n\", dataset.isnull().sum())"
   ]
  },
  {
   "cell_type": "markdown",
   "id": "188309dd-a017-4a6f-9698-60c4020785ef",
   "metadata": {},
   "source": [
    "## Separating independent variable x and dependent variable y\n",
    "- x - Years of experience (Independent variable)\n",
    "- y - Salary (Dependent variable)"
   ]
  },
  {
   "cell_type": "code",
   "execution_count": 7,
   "id": "6473272f-e42d-4663-9063-32c663f6ca03",
   "metadata": {},
   "outputs": [],
   "source": [
    "x = dataset.iloc[:, :-1]  \n",
    "y = dataset.iloc[:, -1]   "
   ]
  },
  {
   "cell_type": "markdown",
   "id": "7e50bbf4-a37c-4378-9e63-7891f6493178",
   "metadata": {},
   "source": [
    "## Training the Model\n",
    "\n",
    "Steps I followed:\n",
    "1. Split dataset into **train** and **test** (80/20)  \n",
    "2. Trained a Linear Regression model on the training set  \n",
    "3. Made predictions on the test set  \n",
    "4. Plotted results for both training and test"
   ]
  },
  {
   "cell_type": "markdown",
   "id": "cadfc555-468c-4778-8b91-6ab7907c8e92",
   "metadata": {},
   "source": [
    "## Split tha Dataset into Training and Testing "
   ]
  },
  {
   "cell_type": "code",
   "execution_count": 8,
   "id": "ef0460a1-c1f7-4e1a-9f75-c3cb77e58034",
   "metadata": {},
   "outputs": [],
   "source": [
    "x_train, x_test, y_train, y_test = train_test_split(x,y, test_size=0.20, random_state=0)"
   ]
  },
  {
   "cell_type": "markdown",
   "id": "364c7fd5-eabe-4649-bef9-654385f1556b",
   "metadata": {},
   "source": [
    "## Train the model"
   ]
  },
  {
   "cell_type": "code",
   "execution_count": 9,
   "id": "7229c315-32f5-45ef-b58c-bccd2cb30f13",
   "metadata": {},
   "outputs": [
    {
     "data": {
      "text/html": [
       "<style>#sk-container-id-1 {\n",
       "  /* Definition of color scheme common for light and dark mode */\n",
       "  --sklearn-color-text: #000;\n",
       "  --sklearn-color-text-muted: #666;\n",
       "  --sklearn-color-line: gray;\n",
       "  /* Definition of color scheme for unfitted estimators */\n",
       "  --sklearn-color-unfitted-level-0: #fff5e6;\n",
       "  --sklearn-color-unfitted-level-1: #f6e4d2;\n",
       "  --sklearn-color-unfitted-level-2: #ffe0b3;\n",
       "  --sklearn-color-unfitted-level-3: chocolate;\n",
       "  /* Definition of color scheme for fitted estimators */\n",
       "  --sklearn-color-fitted-level-0: #f0f8ff;\n",
       "  --sklearn-color-fitted-level-1: #d4ebff;\n",
       "  --sklearn-color-fitted-level-2: #b3dbfd;\n",
       "  --sklearn-color-fitted-level-3: cornflowerblue;\n",
       "\n",
       "  /* Specific color for light theme */\n",
       "  --sklearn-color-text-on-default-background: var(--sg-text-color, var(--theme-code-foreground, var(--jp-content-font-color1, black)));\n",
       "  --sklearn-color-background: var(--sg-background-color, var(--theme-background, var(--jp-layout-color0, white)));\n",
       "  --sklearn-color-border-box: var(--sg-text-color, var(--theme-code-foreground, var(--jp-content-font-color1, black)));\n",
       "  --sklearn-color-icon: #696969;\n",
       "\n",
       "  @media (prefers-color-scheme: dark) {\n",
       "    /* Redefinition of color scheme for dark theme */\n",
       "    --sklearn-color-text-on-default-background: var(--sg-text-color, var(--theme-code-foreground, var(--jp-content-font-color1, white)));\n",
       "    --sklearn-color-background: var(--sg-background-color, var(--theme-background, var(--jp-layout-color0, #111)));\n",
       "    --sklearn-color-border-box: var(--sg-text-color, var(--theme-code-foreground, var(--jp-content-font-color1, white)));\n",
       "    --sklearn-color-icon: #878787;\n",
       "  }\n",
       "}\n",
       "\n",
       "#sk-container-id-1 {\n",
       "  color: var(--sklearn-color-text);\n",
       "}\n",
       "\n",
       "#sk-container-id-1 pre {\n",
       "  padding: 0;\n",
       "}\n",
       "\n",
       "#sk-container-id-1 input.sk-hidden--visually {\n",
       "  border: 0;\n",
       "  clip: rect(1px 1px 1px 1px);\n",
       "  clip: rect(1px, 1px, 1px, 1px);\n",
       "  height: 1px;\n",
       "  margin: -1px;\n",
       "  overflow: hidden;\n",
       "  padding: 0;\n",
       "  position: absolute;\n",
       "  width: 1px;\n",
       "}\n",
       "\n",
       "#sk-container-id-1 div.sk-dashed-wrapped {\n",
       "  border: 1px dashed var(--sklearn-color-line);\n",
       "  margin: 0 0.4em 0.5em 0.4em;\n",
       "  box-sizing: border-box;\n",
       "  padding-bottom: 0.4em;\n",
       "  background-color: var(--sklearn-color-background);\n",
       "}\n",
       "\n",
       "#sk-container-id-1 div.sk-container {\n",
       "  /* jupyter's `normalize.less` sets `[hidden] { display: none; }`\n",
       "     but bootstrap.min.css set `[hidden] { display: none !important; }`\n",
       "     so we also need the `!important` here to be able to override the\n",
       "     default hidden behavior on the sphinx rendered scikit-learn.org.\n",
       "     See: https://github.com/scikit-learn/scikit-learn/issues/21755 */\n",
       "  display: inline-block !important;\n",
       "  position: relative;\n",
       "}\n",
       "\n",
       "#sk-container-id-1 div.sk-text-repr-fallback {\n",
       "  display: none;\n",
       "}\n",
       "\n",
       "div.sk-parallel-item,\n",
       "div.sk-serial,\n",
       "div.sk-item {\n",
       "  /* draw centered vertical line to link estimators */\n",
       "  background-image: linear-gradient(var(--sklearn-color-text-on-default-background), var(--sklearn-color-text-on-default-background));\n",
       "  background-size: 2px 100%;\n",
       "  background-repeat: no-repeat;\n",
       "  background-position: center center;\n",
       "}\n",
       "\n",
       "/* Parallel-specific style estimator block */\n",
       "\n",
       "#sk-container-id-1 div.sk-parallel-item::after {\n",
       "  content: \"\";\n",
       "  width: 100%;\n",
       "  border-bottom: 2px solid var(--sklearn-color-text-on-default-background);\n",
       "  flex-grow: 1;\n",
       "}\n",
       "\n",
       "#sk-container-id-1 div.sk-parallel {\n",
       "  display: flex;\n",
       "  align-items: stretch;\n",
       "  justify-content: center;\n",
       "  background-color: var(--sklearn-color-background);\n",
       "  position: relative;\n",
       "}\n",
       "\n",
       "#sk-container-id-1 div.sk-parallel-item {\n",
       "  display: flex;\n",
       "  flex-direction: column;\n",
       "}\n",
       "\n",
       "#sk-container-id-1 div.sk-parallel-item:first-child::after {\n",
       "  align-self: flex-end;\n",
       "  width: 50%;\n",
       "}\n",
       "\n",
       "#sk-container-id-1 div.sk-parallel-item:last-child::after {\n",
       "  align-self: flex-start;\n",
       "  width: 50%;\n",
       "}\n",
       "\n",
       "#sk-container-id-1 div.sk-parallel-item:only-child::after {\n",
       "  width: 0;\n",
       "}\n",
       "\n",
       "/* Serial-specific style estimator block */\n",
       "\n",
       "#sk-container-id-1 div.sk-serial {\n",
       "  display: flex;\n",
       "  flex-direction: column;\n",
       "  align-items: center;\n",
       "  background-color: var(--sklearn-color-background);\n",
       "  padding-right: 1em;\n",
       "  padding-left: 1em;\n",
       "}\n",
       "\n",
       "\n",
       "/* Toggleable style: style used for estimator/Pipeline/ColumnTransformer box that is\n",
       "clickable and can be expanded/collapsed.\n",
       "- Pipeline and ColumnTransformer use this feature and define the default style\n",
       "- Estimators will overwrite some part of the style using the `sk-estimator` class\n",
       "*/\n",
       "\n",
       "/* Pipeline and ColumnTransformer style (default) */\n",
       "\n",
       "#sk-container-id-1 div.sk-toggleable {\n",
       "  /* Default theme specific background. It is overwritten whether we have a\n",
       "  specific estimator or a Pipeline/ColumnTransformer */\n",
       "  background-color: var(--sklearn-color-background);\n",
       "}\n",
       "\n",
       "/* Toggleable label */\n",
       "#sk-container-id-1 label.sk-toggleable__label {\n",
       "  cursor: pointer;\n",
       "  display: flex;\n",
       "  width: 100%;\n",
       "  margin-bottom: 0;\n",
       "  padding: 0.5em;\n",
       "  box-sizing: border-box;\n",
       "  text-align: center;\n",
       "  align-items: start;\n",
       "  justify-content: space-between;\n",
       "  gap: 0.5em;\n",
       "}\n",
       "\n",
       "#sk-container-id-1 label.sk-toggleable__label .caption {\n",
       "  font-size: 0.6rem;\n",
       "  font-weight: lighter;\n",
       "  color: var(--sklearn-color-text-muted);\n",
       "}\n",
       "\n",
       "#sk-container-id-1 label.sk-toggleable__label-arrow:before {\n",
       "  /* Arrow on the left of the label */\n",
       "  content: \"▸\";\n",
       "  float: left;\n",
       "  margin-right: 0.25em;\n",
       "  color: var(--sklearn-color-icon);\n",
       "}\n",
       "\n",
       "#sk-container-id-1 label.sk-toggleable__label-arrow:hover:before {\n",
       "  color: var(--sklearn-color-text);\n",
       "}\n",
       "\n",
       "/* Toggleable content - dropdown */\n",
       "\n",
       "#sk-container-id-1 div.sk-toggleable__content {\n",
       "  max-height: 0;\n",
       "  max-width: 0;\n",
       "  overflow: hidden;\n",
       "  text-align: left;\n",
       "  /* unfitted */\n",
       "  background-color: var(--sklearn-color-unfitted-level-0);\n",
       "}\n",
       "\n",
       "#sk-container-id-1 div.sk-toggleable__content.fitted {\n",
       "  /* fitted */\n",
       "  background-color: var(--sklearn-color-fitted-level-0);\n",
       "}\n",
       "\n",
       "#sk-container-id-1 div.sk-toggleable__content pre {\n",
       "  margin: 0.2em;\n",
       "  border-radius: 0.25em;\n",
       "  color: var(--sklearn-color-text);\n",
       "  /* unfitted */\n",
       "  background-color: var(--sklearn-color-unfitted-level-0);\n",
       "}\n",
       "\n",
       "#sk-container-id-1 div.sk-toggleable__content.fitted pre {\n",
       "  /* unfitted */\n",
       "  background-color: var(--sklearn-color-fitted-level-0);\n",
       "}\n",
       "\n",
       "#sk-container-id-1 input.sk-toggleable__control:checked~div.sk-toggleable__content {\n",
       "  /* Expand drop-down */\n",
       "  max-height: 200px;\n",
       "  max-width: 100%;\n",
       "  overflow: auto;\n",
       "}\n",
       "\n",
       "#sk-container-id-1 input.sk-toggleable__control:checked~label.sk-toggleable__label-arrow:before {\n",
       "  content: \"▾\";\n",
       "}\n",
       "\n",
       "/* Pipeline/ColumnTransformer-specific style */\n",
       "\n",
       "#sk-container-id-1 div.sk-label input.sk-toggleable__control:checked~label.sk-toggleable__label {\n",
       "  color: var(--sklearn-color-text);\n",
       "  background-color: var(--sklearn-color-unfitted-level-2);\n",
       "}\n",
       "\n",
       "#sk-container-id-1 div.sk-label.fitted input.sk-toggleable__control:checked~label.sk-toggleable__label {\n",
       "  background-color: var(--sklearn-color-fitted-level-2);\n",
       "}\n",
       "\n",
       "/* Estimator-specific style */\n",
       "\n",
       "/* Colorize estimator box */\n",
       "#sk-container-id-1 div.sk-estimator input.sk-toggleable__control:checked~label.sk-toggleable__label {\n",
       "  /* unfitted */\n",
       "  background-color: var(--sklearn-color-unfitted-level-2);\n",
       "}\n",
       "\n",
       "#sk-container-id-1 div.sk-estimator.fitted input.sk-toggleable__control:checked~label.sk-toggleable__label {\n",
       "  /* fitted */\n",
       "  background-color: var(--sklearn-color-fitted-level-2);\n",
       "}\n",
       "\n",
       "#sk-container-id-1 div.sk-label label.sk-toggleable__label,\n",
       "#sk-container-id-1 div.sk-label label {\n",
       "  /* The background is the default theme color */\n",
       "  color: var(--sklearn-color-text-on-default-background);\n",
       "}\n",
       "\n",
       "/* On hover, darken the color of the background */\n",
       "#sk-container-id-1 div.sk-label:hover label.sk-toggleable__label {\n",
       "  color: var(--sklearn-color-text);\n",
       "  background-color: var(--sklearn-color-unfitted-level-2);\n",
       "}\n",
       "\n",
       "/* Label box, darken color on hover, fitted */\n",
       "#sk-container-id-1 div.sk-label.fitted:hover label.sk-toggleable__label.fitted {\n",
       "  color: var(--sklearn-color-text);\n",
       "  background-color: var(--sklearn-color-fitted-level-2);\n",
       "}\n",
       "\n",
       "/* Estimator label */\n",
       "\n",
       "#sk-container-id-1 div.sk-label label {\n",
       "  font-family: monospace;\n",
       "  font-weight: bold;\n",
       "  display: inline-block;\n",
       "  line-height: 1.2em;\n",
       "}\n",
       "\n",
       "#sk-container-id-1 div.sk-label-container {\n",
       "  text-align: center;\n",
       "}\n",
       "\n",
       "/* Estimator-specific */\n",
       "#sk-container-id-1 div.sk-estimator {\n",
       "  font-family: monospace;\n",
       "  border: 1px dotted var(--sklearn-color-border-box);\n",
       "  border-radius: 0.25em;\n",
       "  box-sizing: border-box;\n",
       "  margin-bottom: 0.5em;\n",
       "  /* unfitted */\n",
       "  background-color: var(--sklearn-color-unfitted-level-0);\n",
       "}\n",
       "\n",
       "#sk-container-id-1 div.sk-estimator.fitted {\n",
       "  /* fitted */\n",
       "  background-color: var(--sklearn-color-fitted-level-0);\n",
       "}\n",
       "\n",
       "/* on hover */\n",
       "#sk-container-id-1 div.sk-estimator:hover {\n",
       "  /* unfitted */\n",
       "  background-color: var(--sklearn-color-unfitted-level-2);\n",
       "}\n",
       "\n",
       "#sk-container-id-1 div.sk-estimator.fitted:hover {\n",
       "  /* fitted */\n",
       "  background-color: var(--sklearn-color-fitted-level-2);\n",
       "}\n",
       "\n",
       "/* Specification for estimator info (e.g. \"i\" and \"?\") */\n",
       "\n",
       "/* Common style for \"i\" and \"?\" */\n",
       "\n",
       ".sk-estimator-doc-link,\n",
       "a:link.sk-estimator-doc-link,\n",
       "a:visited.sk-estimator-doc-link {\n",
       "  float: right;\n",
       "  font-size: smaller;\n",
       "  line-height: 1em;\n",
       "  font-family: monospace;\n",
       "  background-color: var(--sklearn-color-background);\n",
       "  border-radius: 1em;\n",
       "  height: 1em;\n",
       "  width: 1em;\n",
       "  text-decoration: none !important;\n",
       "  margin-left: 0.5em;\n",
       "  text-align: center;\n",
       "  /* unfitted */\n",
       "  border: var(--sklearn-color-unfitted-level-1) 1pt solid;\n",
       "  color: var(--sklearn-color-unfitted-level-1);\n",
       "}\n",
       "\n",
       ".sk-estimator-doc-link.fitted,\n",
       "a:link.sk-estimator-doc-link.fitted,\n",
       "a:visited.sk-estimator-doc-link.fitted {\n",
       "  /* fitted */\n",
       "  border: var(--sklearn-color-fitted-level-1) 1pt solid;\n",
       "  color: var(--sklearn-color-fitted-level-1);\n",
       "}\n",
       "\n",
       "/* On hover */\n",
       "div.sk-estimator:hover .sk-estimator-doc-link:hover,\n",
       ".sk-estimator-doc-link:hover,\n",
       "div.sk-label-container:hover .sk-estimator-doc-link:hover,\n",
       ".sk-estimator-doc-link:hover {\n",
       "  /* unfitted */\n",
       "  background-color: var(--sklearn-color-unfitted-level-3);\n",
       "  color: var(--sklearn-color-background);\n",
       "  text-decoration: none;\n",
       "}\n",
       "\n",
       "div.sk-estimator.fitted:hover .sk-estimator-doc-link.fitted:hover,\n",
       ".sk-estimator-doc-link.fitted:hover,\n",
       "div.sk-label-container:hover .sk-estimator-doc-link.fitted:hover,\n",
       ".sk-estimator-doc-link.fitted:hover {\n",
       "  /* fitted */\n",
       "  background-color: var(--sklearn-color-fitted-level-3);\n",
       "  color: var(--sklearn-color-background);\n",
       "  text-decoration: none;\n",
       "}\n",
       "\n",
       "/* Span, style for the box shown on hovering the info icon */\n",
       ".sk-estimator-doc-link span {\n",
       "  display: none;\n",
       "  z-index: 9999;\n",
       "  position: relative;\n",
       "  font-weight: normal;\n",
       "  right: .2ex;\n",
       "  padding: .5ex;\n",
       "  margin: .5ex;\n",
       "  width: min-content;\n",
       "  min-width: 20ex;\n",
       "  max-width: 50ex;\n",
       "  color: var(--sklearn-color-text);\n",
       "  box-shadow: 2pt 2pt 4pt #999;\n",
       "  /* unfitted */\n",
       "  background: var(--sklearn-color-unfitted-level-0);\n",
       "  border: .5pt solid var(--sklearn-color-unfitted-level-3);\n",
       "}\n",
       "\n",
       ".sk-estimator-doc-link.fitted span {\n",
       "  /* fitted */\n",
       "  background: var(--sklearn-color-fitted-level-0);\n",
       "  border: var(--sklearn-color-fitted-level-3);\n",
       "}\n",
       "\n",
       ".sk-estimator-doc-link:hover span {\n",
       "  display: block;\n",
       "}\n",
       "\n",
       "/* \"?\"-specific style due to the `<a>` HTML tag */\n",
       "\n",
       "#sk-container-id-1 a.estimator_doc_link {\n",
       "  float: right;\n",
       "  font-size: 1rem;\n",
       "  line-height: 1em;\n",
       "  font-family: monospace;\n",
       "  background-color: var(--sklearn-color-background);\n",
       "  border-radius: 1rem;\n",
       "  height: 1rem;\n",
       "  width: 1rem;\n",
       "  text-decoration: none;\n",
       "  /* unfitted */\n",
       "  color: var(--sklearn-color-unfitted-level-1);\n",
       "  border: var(--sklearn-color-unfitted-level-1) 1pt solid;\n",
       "}\n",
       "\n",
       "#sk-container-id-1 a.estimator_doc_link.fitted {\n",
       "  /* fitted */\n",
       "  border: var(--sklearn-color-fitted-level-1) 1pt solid;\n",
       "  color: var(--sklearn-color-fitted-level-1);\n",
       "}\n",
       "\n",
       "/* On hover */\n",
       "#sk-container-id-1 a.estimator_doc_link:hover {\n",
       "  /* unfitted */\n",
       "  background-color: var(--sklearn-color-unfitted-level-3);\n",
       "  color: var(--sklearn-color-background);\n",
       "  text-decoration: none;\n",
       "}\n",
       "\n",
       "#sk-container-id-1 a.estimator_doc_link.fitted:hover {\n",
       "  /* fitted */\n",
       "  background-color: var(--sklearn-color-fitted-level-3);\n",
       "}\n",
       "</style><div id=\"sk-container-id-1\" class=\"sk-top-container\"><div class=\"sk-text-repr-fallback\"><pre>LinearRegression()</pre><b>In a Jupyter environment, please rerun this cell to show the HTML representation or trust the notebook. <br />On GitHub, the HTML representation is unable to render, please try loading this page with nbviewer.org.</b></div><div class=\"sk-container\" hidden><div class=\"sk-item\"><div class=\"sk-estimator fitted sk-toggleable\"><input class=\"sk-toggleable__control sk-hidden--visually\" id=\"sk-estimator-id-1\" type=\"checkbox\" checked><label for=\"sk-estimator-id-1\" class=\"sk-toggleable__label fitted sk-toggleable__label-arrow\"><div><div>LinearRegression</div></div><div><a class=\"sk-estimator-doc-link fitted\" rel=\"noreferrer\" target=\"_blank\" href=\"https://scikit-learn.org/1.6/modules/generated/sklearn.linear_model.LinearRegression.html\">?<span>Documentation for LinearRegression</span></a><span class=\"sk-estimator-doc-link fitted\">i<span>Fitted</span></span></div></label><div class=\"sk-toggleable__content fitted\"><pre>LinearRegression()</pre></div> </div></div></div></div>"
      ],
      "text/plain": [
       "LinearRegression()"
      ]
     },
     "execution_count": 9,
     "metadata": {},
     "output_type": "execute_result"
    }
   ],
   "source": [
    "regressor = LinearRegression()\n",
    "regressor.fit(x_train, y_train)"
   ]
  },
  {
   "cell_type": "markdown",
   "id": "6accac8f-1026-4262-a102-51c62fede858",
   "metadata": {},
   "source": [
    "##  Predict the test set"
   ]
  },
  {
   "cell_type": "code",
   "execution_count": 10,
   "id": "58f5a877-f89b-429d-a0a3-9f597d5a4b6e",
   "metadata": {},
   "outputs": [],
   "source": [
    "y_pred = regressor.predict(x_test)"
   ]
  },
  {
   "cell_type": "code",
   "execution_count": 11,
   "id": "bbcd9302-2722-4abf-a48d-56cf8f20ebd7",
   "metadata": {},
   "outputs": [
    {
     "data": {
      "text/plain": [
       "array([ 40748.96184072, 122699.62295594,  64961.65717022,  63099.14214487,\n",
       "       115249.56285456, 107799.50275317])"
      ]
     },
     "execution_count": 11,
     "metadata": {},
     "output_type": "execute_result"
    }
   ],
   "source": [
    "y_pred"
   ]
  },
  {
   "cell_type": "markdown",
   "id": "2399a742-db0e-44b6-ad81-32d8396328eb",
   "metadata": {},
   "source": [
    "## Compare Predicted and Actual salaries from the test set"
   ]
  },
  {
   "cell_type": "code",
   "execution_count": 12,
   "id": "ee636588-20b5-4bc9-8eea-74a4fa895e58",
   "metadata": {},
   "outputs": [
    {
     "name": "stdout",
     "output_type": "stream",
     "text": [
      "    Actual      Predicted\n",
      "2    37731   40748.961841\n",
      "28  122391  122699.622956\n",
      "13   57081   64961.657170\n",
      "10   63218   63099.142145\n",
      "26  116969  115249.562855\n",
      "24  109431  107799.502753\n"
     ]
    }
   ],
   "source": [
    "comparison = pd.DataFrame({'Actual': y_test, 'Predicted': y_pred})\n",
    "print(comparison)"
   ]
  },
  {
   "cell_type": "markdown",
   "id": "dece7b5e-f8ed-4730-8b7c-0cd2e3f6face",
   "metadata": {},
   "source": [
    "## Visualize the Results"
   ]
  },
  {
   "cell_type": "markdown",
   "id": "c9f54a0f-a389-42e1-9623-3e0c23c356e5",
   "metadata": {},
   "source": [
    "### Visualizing the Training set results\n",
    "- Red dots: Actcual salary data from training set\n",
    "- Blue line: Predicted Regression line"
   ]
  },
  {
   "cell_type": "code",
   "execution_count": 13,
   "id": "0e389494-f121-4f24-ac60-9875f048515b",
   "metadata": {},
   "outputs": [
    {
     "data": {
      "image/png": "[encoded data removed]",
      "text/plain": [
       "<Figure size 640x480 with 1 Axes>"
      ]
     },
     "metadata": {},
     "output_type": "display_data"
    }
   ],
   "source": [
    "plt.scatter(x_train, y_train, color = 'red')  \n",
    "plt.plot(x_train, regressor.predict(x_train), color = 'blue')  \n",
    "plt.title('Salary vs Experience (Training set)')\n",
    "plt.xlabel('Years of Experience')\n",
    "plt.ylabel('Salary')\n",
    "plt.show()"
   ]
  },
  {
   "cell_type": "markdown",
   "id": "c60715bd-b34e-4941-9899-24dd59e09634",
   "metadata": {},
   "source": [
    "### Visualizing the Test set results\n",
    "- Red dots: Actucal salary data from testing set\n",
    "- Blue line: Regression line from training set"
   ]
  },
  {
   "cell_type": "code",
   "execution_count": 14,
   "id": "8e28bd0c-5b76-43a6-867a-d81814c77c6f",
   "metadata": {},
   "outputs": [
    {
     "data": {
      "image/png": "[encoded data removed]",
      "text/plain": [
       "<Figure size 640x480 with 1 Axes>"
      ]
     },
     "metadata": {},
     "output_type": "display_data"
    }
   ],
   "source": [
    "plt.scatter(x_test, y_test, color = 'red')  # Real salary data (testing)\n",
    "plt.plot(x_train, regressor.predict(x_train), color = 'blue')  # Regression line from training set\n",
    "plt.title('Salary vs Experience (Test set)')\n",
    "plt.xlabel('Years of Experience')\n",
    "plt.ylabel('Salary')\n",
    "plt.show()"
   ]
  },
  {
   "cell_type": "markdown",
   "id": "4080b715-3a7a-4a75-ab51-c8012c3aaa97",
   "metadata": {},
   "source": [
    "## Interpreting Results\n",
    "\n",
    "- **Slope (m):** tells how much salary increases with each year of experience  \n",
    "- **Intercept (c):** base salary when years = 0 (may not always be meaningful)  "
   ]
  },
  {
   "cell_type": "markdown",
   "id": "0505cd6e-cef5-4837-99b0-2528f7648fac",
   "metadata": {},
   "source": [
    "Predict salary for someone with 15 and 20 years of experience using the regression equation"
   ]
  },
  {
   "cell_type": "code",
   "execution_count": 15,
   "id": "4cb468b6-3f3e-4492-a7e1-4b726806423a",
   "metadata": {},
   "outputs": [
    {
     "name": "stdout",
     "output_type": "stream",
     "text": [
      "Slope(m): [9312.57512673]\n"
     ]
    }
   ],
   "source": [
    "m = regressor.coef_ \n",
    "print(\"Slope(m):\", m)"
   ]
  },
  {
   "cell_type": "code",
   "execution_count": 16,
   "id": "b15e652b-c379-4e65-b7a1-3b1dd7716944",
   "metadata": {},
   "outputs": [
    {
     "name": "stdout",
     "output_type": "stream",
     "text": [
      "Intercept(c): 26780.099150628186\n"
     ]
    }
   ],
   "source": [
    "c = regressor.intercept_\n",
    "print(\"Intercept(c):\",c)"
   ]
  },
  {
   "cell_type": "code",
   "execution_count": 17,
   "id": "51c9f8f9-42a3-44e9-ae81-14e2b4c9db11",
   "metadata": {},
   "outputs": [
    {
     "name": "stdout",
     "output_type": "stream",
     "text": [
      "Predicted Salary for 15 Years of Experience: [166468.72605157]\n"
     ]
    }
   ],
   "source": [
    "y_15 = (m * 15) + c\n",
    "print(\"Predicted Salary for 15 Years of Experience:\", y_15)"
   ]
  },
  {
   "cell_type": "code",
   "execution_count": 18,
   "id": "6000a475-b8c2-4366-84f2-0c7fa5f1c551",
   "metadata": {},
   "outputs": [
    {
     "name": "stdout",
     "output_type": "stream",
     "text": [
      "Predicted Salary for 20 Years of Experience: [213031.60168521]\n"
     ]
    }
   ],
   "source": [
    "y_20 = (m*20) + c\n",
    "print(\"Predicted Salary for 20 Years of Experience:\", y_20)"
   ]
  },
  {
   "cell_type": "markdown",
   "id": "47f34870-4f52-464f-8d0d-1a7bee609c40",
   "metadata": {},
   "source": [
    "---\n",
    "\n",
    "## Data Exploration & Statistics\n",
    "\n",
    "After training the model, I also explored the dataset with some statistical tools to understand it better\n",
    "\n",
    "These checks gave me confidence that the data is clean, normally distributed enough, and suitable for applying Linear Regression.\n",
    "\n",
    " \n",
    "### Descriptive Statistics\n",
    "\n",
    "- **dataset.describe():** Gives summary statistics (mean, std, min, max, quartiles).  \n",
    "  → Helps to understand the scale of YearsExperience and Salary.\n"
   ]
  },
  {
   "cell_type": "code",
   "execution_count": 19,
   "id": "fd804607-4e7a-4015-b715-1b9f0786d10c",
   "metadata": {},
   "outputs": [
    {
     "data": {
      "text/html": [
       "<div>\n",
       "<style scoped>\n",
       "    .dataframe tbody tr th:only-of-type {\n",
       "        vertical-align: middle;\n",
       "    }\n",
       "\n",
       "    .dataframe tbody tr th {\n",
       "        vertical-align: top;\n",
       "    }\n",
       "\n",
       "    .dataframe thead th {\n",
       "        text-align: right;\n",
       "    }\n",
       "</style>\n",
       "<table border=\"1\" class=\"dataframe\">\n",
       "  <thead>\n",
       "    <tr style=\"text-align: right;\">\n",
       "      <th></th>\n",
       "      <th>YearsExperience</th>\n",
       "      <th>Salary</th>\n",
       "    </tr>\n",
       "  </thead>\n",
       "  <tbody>\n",
       "    <tr>\n",
       "      <th>count</th>\n",
       "      <td>30.000000</td>\n",
       "      <td>30.000000</td>\n",
       "    </tr>\n",
       "    <tr>\n",
       "      <th>mean</th>\n",
       "      <td>5.313333</td>\n",
       "      <td>76003.000000</td>\n",
       "    </tr>\n",
       "    <tr>\n",
       "      <th>std</th>\n",
       "      <td>2.837888</td>\n",
       "      <td>27414.429785</td>\n",
       "    </tr>\n",
       "    <tr>\n",
       "      <th>min</th>\n",
       "      <td>1.100000</td>\n",
       "      <td>37731.000000</td>\n",
       "    </tr>\n",
       "    <tr>\n",
       "      <th>25%</th>\n",
       "      <td>3.200000</td>\n",
       "      <td>56720.750000</td>\n",
       "    </tr>\n",
       "    <tr>\n",
       "      <th>50%</th>\n",
       "      <td>4.700000</td>\n",
       "      <td>65237.000000</td>\n",
       "    </tr>\n",
       "    <tr>\n",
       "      <th>75%</th>\n",
       "      <td>7.700000</td>\n",
       "      <td>100544.750000</td>\n",
       "    </tr>\n",
       "    <tr>\n",
       "      <th>max</th>\n",
       "      <td>10.500000</td>\n",
       "      <td>122391.000000</td>\n",
       "    </tr>\n",
       "  </tbody>\n",
       "</table>\n",
       "</div>"
      ],
      "text/plain": [
       "       YearsExperience         Salary\n",
       "count        30.000000      30.000000\n",
       "mean          5.313333   76003.000000\n",
       "std           2.837888   27414.429785\n",
       "min           1.100000   37731.000000\n",
       "25%           3.200000   56720.750000\n",
       "50%           4.700000   65237.000000\n",
       "75%           7.700000  100544.750000\n",
       "max          10.500000  122391.000000"
      ]
     },
     "execution_count": 19,
     "metadata": {},
     "output_type": "execute_result"
    }
   ],
   "source": [
    "dataset.describe()"
   ]
  },
  {
   "cell_type": "code",
   "execution_count": 20,
   "id": "11e85e0d-728a-4388-8094-1a78aa15ce05",
   "metadata": {},
   "outputs": [
    {
     "data": {
      "text/plain": [
       "YearsExperience        5.313333\n",
       "Salary             76003.000000\n",
       "dtype: float64"
      ]
     },
     "execution_count": 20,
     "metadata": {},
     "output_type": "execute_result"
    }
   ],
   "source": [
    "dataset.mean()"
   ]
  },
  {
   "cell_type": "code",
   "execution_count": 21,
   "id": "a6a0fa1b-4bf1-44e4-a7d1-85514701607b",
   "metadata": {},
   "outputs": [
    {
     "data": {
      "text/plain": [
       "YearsExperience        4.7\n",
       "Salary             65237.0\n",
       "dtype: float64"
      ]
     },
     "execution_count": 21,
     "metadata": {},
     "output_type": "execute_result"
    }
   ],
   "source": [
    "dataset.median()"
   ]
  },
  {
   "cell_type": "code",
   "execution_count": 22,
   "id": "d62a254b-49db-4d38-af30-74207848c0b2",
   "metadata": {},
   "outputs": [
    {
     "data": {
      "text/html": [
       "<div>\n",
       "<style scoped>\n",
       "    .dataframe tbody tr th:only-of-type {\n",
       "        vertical-align: middle;\n",
       "    }\n",
       "\n",
       "    .dataframe tbody tr th {\n",
       "        vertical-align: top;\n",
       "    }\n",
       "\n",
       "    .dataframe thead th {\n",
       "        text-align: right;\n",
       "    }\n",
       "</style>\n",
       "<table border=\"1\" class=\"dataframe\">\n",
       "  <thead>\n",
       "    <tr style=\"text-align: right;\">\n",
       "      <th></th>\n",
       "      <th>YearsExperience</th>\n",
       "      <th>Salary</th>\n",
       "    </tr>\n",
       "  </thead>\n",
       "  <tbody>\n",
       "    <tr>\n",
       "      <th>0</th>\n",
       "      <td>3.2</td>\n",
       "      <td>37731</td>\n",
       "    </tr>\n",
       "    <tr>\n",
       "      <th>1</th>\n",
       "      <td>4.0</td>\n",
       "      <td>39343</td>\n",
       "    </tr>\n",
       "    <tr>\n",
       "      <th>2</th>\n",
       "      <td>NaN</td>\n",
       "      <td>39891</td>\n",
       "    </tr>\n",
       "    <tr>\n",
       "      <th>3</th>\n",
       "      <td>NaN</td>\n",
       "      <td>43525</td>\n",
       "    </tr>\n",
       "    <tr>\n",
       "      <th>4</th>\n",
       "      <td>NaN</td>\n",
       "      <td>46205</td>\n",
       "    </tr>\n",
       "    <tr>\n",
       "      <th>5</th>\n",
       "      <td>NaN</td>\n",
       "      <td>54445</td>\n",
       "    </tr>\n",
       "    <tr>\n",
       "      <th>6</th>\n",
       "      <td>NaN</td>\n",
       "      <td>55794</td>\n",
       "    </tr>\n",
       "    <tr>\n",
       "      <th>7</th>\n",
       "      <td>NaN</td>\n",
       "      <td>56642</td>\n",
       "    </tr>\n",
       "    <tr>\n",
       "      <th>8</th>\n",
       "      <td>NaN</td>\n",
       "      <td>56957</td>\n",
       "    </tr>\n",
       "    <tr>\n",
       "      <th>9</th>\n",
       "      <td>NaN</td>\n",
       "      <td>57081</td>\n",
       "    </tr>\n",
       "    <tr>\n",
       "      <th>10</th>\n",
       "      <td>NaN</td>\n",
       "      <td>57189</td>\n",
       "    </tr>\n",
       "    <tr>\n",
       "      <th>11</th>\n",
       "      <td>NaN</td>\n",
       "      <td>60150</td>\n",
       "    </tr>\n",
       "    <tr>\n",
       "      <th>12</th>\n",
       "      <td>NaN</td>\n",
       "      <td>61111</td>\n",
       "    </tr>\n",
       "    <tr>\n",
       "      <th>13</th>\n",
       "      <td>NaN</td>\n",
       "      <td>63218</td>\n",
       "    </tr>\n",
       "    <tr>\n",
       "      <th>14</th>\n",
       "      <td>NaN</td>\n",
       "      <td>64445</td>\n",
       "    </tr>\n",
       "    <tr>\n",
       "      <th>15</th>\n",
       "      <td>NaN</td>\n",
       "      <td>66029</td>\n",
       "    </tr>\n",
       "    <tr>\n",
       "      <th>16</th>\n",
       "      <td>NaN</td>\n",
       "      <td>67938</td>\n",
       "    </tr>\n",
       "    <tr>\n",
       "      <th>17</th>\n",
       "      <td>NaN</td>\n",
       "      <td>81363</td>\n",
       "    </tr>\n",
       "    <tr>\n",
       "      <th>18</th>\n",
       "      <td>NaN</td>\n",
       "      <td>83088</td>\n",
       "    </tr>\n",
       "    <tr>\n",
       "      <th>19</th>\n",
       "      <td>NaN</td>\n",
       "      <td>91738</td>\n",
       "    </tr>\n",
       "    <tr>\n",
       "      <th>20</th>\n",
       "      <td>NaN</td>\n",
       "      <td>93940</td>\n",
       "    </tr>\n",
       "    <tr>\n",
       "      <th>21</th>\n",
       "      <td>NaN</td>\n",
       "      <td>98273</td>\n",
       "    </tr>\n",
       "    <tr>\n",
       "      <th>22</th>\n",
       "      <td>NaN</td>\n",
       "      <td>101302</td>\n",
       "    </tr>\n",
       "    <tr>\n",
       "      <th>23</th>\n",
       "      <td>NaN</td>\n",
       "      <td>105582</td>\n",
       "    </tr>\n",
       "    <tr>\n",
       "      <th>24</th>\n",
       "      <td>NaN</td>\n",
       "      <td>109431</td>\n",
       "    </tr>\n",
       "    <tr>\n",
       "      <th>25</th>\n",
       "      <td>NaN</td>\n",
       "      <td>112635</td>\n",
       "    </tr>\n",
       "    <tr>\n",
       "      <th>26</th>\n",
       "      <td>NaN</td>\n",
       "      <td>113812</td>\n",
       "    </tr>\n",
       "    <tr>\n",
       "      <th>27</th>\n",
       "      <td>NaN</td>\n",
       "      <td>116969</td>\n",
       "    </tr>\n",
       "    <tr>\n",
       "      <th>28</th>\n",
       "      <td>NaN</td>\n",
       "      <td>121872</td>\n",
       "    </tr>\n",
       "    <tr>\n",
       "      <th>29</th>\n",
       "      <td>NaN</td>\n",
       "      <td>122391</td>\n",
       "    </tr>\n",
       "  </tbody>\n",
       "</table>\n",
       "</div>"
      ],
      "text/plain": [
       "    YearsExperience  Salary\n",
       "0               3.2   37731\n",
       "1               4.0   39343\n",
       "2               NaN   39891\n",
       "3               NaN   43525\n",
       "4               NaN   46205\n",
       "5               NaN   54445\n",
       "6               NaN   55794\n",
       "7               NaN   56642\n",
       "8               NaN   56957\n",
       "9               NaN   57081\n",
       "10              NaN   57189\n",
       "11              NaN   60150\n",
       "12              NaN   61111\n",
       "13              NaN   63218\n",
       "14              NaN   64445\n",
       "15              NaN   66029\n",
       "16              NaN   67938\n",
       "17              NaN   81363\n",
       "18              NaN   83088\n",
       "19              NaN   91738\n",
       "20              NaN   93940\n",
       "21              NaN   98273\n",
       "22              NaN  101302\n",
       "23              NaN  105582\n",
       "24              NaN  109431\n",
       "25              NaN  112635\n",
       "26              NaN  113812\n",
       "27              NaN  116969\n",
       "28              NaN  121872\n",
       "29              NaN  122391"
      ]
     },
     "execution_count": 22,
     "metadata": {},
     "output_type": "execute_result"
    }
   ],
   "source": [
    "dataset.mode()"
   ]
  },
  {
   "cell_type": "markdown",
   "id": "797dbca7-7686-424c-8d62-f1467a5ba983",
   "metadata": {},
   "source": [
    "### Variance and Standard Deviation"
   ]
  },
  {
   "cell_type": "code",
   "execution_count": 23,
   "id": "b7385900-ed10-4cec-8b71-f263db646f2f",
   "metadata": {},
   "outputs": [
    {
     "data": {
      "text/plain": [
       "YearsExperience    8.053609e+00\n",
       "Salary             7.515510e+08\n",
       "dtype: float64"
      ]
     },
     "execution_count": 23,
     "metadata": {},
     "output_type": "execute_result"
    }
   ],
   "source": [
    "dataset.var()"
   ]
  },
  {
   "cell_type": "code",
   "execution_count": 24,
   "id": "1fc2c3f6-36ae-4e53-bd52-2a68d26c61de",
   "metadata": {},
   "outputs": [
    {
     "data": {
      "text/plain": [
       "YearsExperience        2.837888\n",
       "Salary             27414.429785\n",
       "dtype: float64"
      ]
     },
     "execution_count": 24,
     "metadata": {},
     "output_type": "execute_result"
    }
   ],
   "source": [
    "dataset.std()"
   ]
  },
  {
   "cell_type": "markdown",
   "id": "8e109dc8-c56a-4e34-b411-a29bec4a8544",
   "metadata": {},
   "source": [
    "### Coefficient of Variation (CV)\n",
    "\n",
    "- **variation():** Coefficient of Variation (std ÷ mean).  \n",
    "  → Shows how spread out data is relative to its average.  "
   ]
  },
  {
   "cell_type": "code",
   "execution_count": 25,
   "id": "4a812f3d-55a4-46ca-b988-d3274dbc1f9d",
   "metadata": {},
   "outputs": [
    {
     "name": "stdout",
     "output_type": "stream",
     "text": [
      "[0.5251297  0.35463929]\n"
     ]
    }
   ],
   "source": [
    "print(variation(dataset.values))"
   ]
  },
  {
   "cell_type": "code",
   "execution_count": 26,
   "id": "7d31ecd4-8868-43ee-a5df-0ed3fc20cf4e",
   "metadata": {},
   "outputs": [
    {
     "name": "stdout",
     "output_type": "stream",
     "text": [
      "0.3546392938275572\n"
     ]
    }
   ],
   "source": [
    "print(variation(dataset['Salary']))"
   ]
  },
  {
   "cell_type": "markdown",
   "id": "7f624fe6-2b6b-4d21-be85-8cb43d279318",
   "metadata": {},
   "source": [
    "### Correlation\n",
    "\n",
    "- **dataset.corr():** Calculates correlation between features.  \n",
    "  → Salary and YearsExperience show a strong positive correlation (more experience = higher salary).  "
   ]
  },
  {
   "cell_type": "code",
   "execution_count": 27,
   "id": "39cf65d5-9e9a-492d-860f-2d0686c75a68",
   "metadata": {},
   "outputs": [
    {
     "data": {
      "text/html": [
       "<div>\n",
       "<style scoped>\n",
       "    .dataframe tbody tr th:only-of-type {\n",
       "        vertical-align: middle;\n",
       "    }\n",
       "\n",
       "    .dataframe tbody tr th {\n",
       "        vertical-align: top;\n",
       "    }\n",
       "\n",
       "    .dataframe thead th {\n",
       "        text-align: right;\n",
       "    }\n",
       "</style>\n",
       "<table border=\"1\" class=\"dataframe\">\n",
       "  <thead>\n",
       "    <tr style=\"text-align: right;\">\n",
       "      <th></th>\n",
       "      <th>YearsExperience</th>\n",
       "      <th>Salary</th>\n",
       "    </tr>\n",
       "  </thead>\n",
       "  <tbody>\n",
       "    <tr>\n",
       "      <th>YearsExperience</th>\n",
       "      <td>1.000000</td>\n",
       "      <td>0.978242</td>\n",
       "    </tr>\n",
       "    <tr>\n",
       "      <th>Salary</th>\n",
       "      <td>0.978242</td>\n",
       "      <td>1.000000</td>\n",
       "    </tr>\n",
       "  </tbody>\n",
       "</table>\n",
       "</div>"
      ],
      "text/plain": [
       "                 YearsExperience    Salary\n",
       "YearsExperience         1.000000  0.978242\n",
       "Salary                  0.978242  1.000000"
      ]
     },
     "execution_count": 27,
     "metadata": {},
     "output_type": "execute_result"
    }
   ],
   "source": [
    "dataset.corr()"
   ]
  },
  {
   "cell_type": "code",
   "execution_count": 28,
   "id": "c686021d-e68a-4648-ad60-4cc8461003c7",
   "metadata": {},
   "outputs": [
    {
     "name": "stdout",
     "output_type": "stream",
     "text": [
      "Salary vs Experience Correlation: 0.9782416184887598\n"
     ]
    }
   ],
   "source": [
    "print(\"Salary vs Experience Correlation:\",dataset['Salary'].corr(dataset['YearsExperience']))"
   ]
  },
  {
   "cell_type": "markdown",
   "id": "efd3974b-5ed2-4ecf-9f48-9b597470a713",
   "metadata": {},
   "source": [
    "### Skewness\n",
    "\n",
    "- **dataset.skew():** Checks skewness (symmetry of data distribution).  \n",
    "  → If skewness ≈ 0 → symmetric, >0 → right-skewed, <0 → left-skewed.  "
   ]
  },
  {
   "cell_type": "code",
   "execution_count": 29,
   "id": "fe01b481-7b8f-4899-8ee7-6d9c120d99e0",
   "metadata": {},
   "outputs": [
    {
     "data": {
      "text/plain": [
       "YearsExperience    0.37956\n",
       "Salary             0.35412\n",
       "dtype: float64"
      ]
     },
     "execution_count": 29,
     "metadata": {},
     "output_type": "execute_result"
    }
   ],
   "source": [
    "dataset.skew()"
   ]
  },
  {
   "cell_type": "markdown",
   "id": "d22d0b5b-faac-416e-b49b-9ca14094e4a6",
   "metadata": {},
   "source": [
    "### Standard Error of Mean (SEM)\n",
    "\n",
    "- **dataset.sem():** Standard Error of Mean, tells how reliable the mean is.  \n",
    "  → A smaller SEM means the sample mean is a good estimate of the population mean.  "
   ]
  },
  {
   "cell_type": "code",
   "execution_count": 30,
   "id": "f798892e-3df3-41ea-b507-a64784f91f56",
   "metadata": {},
   "outputs": [
    {
     "data": {
      "text/plain": [
       "YearsExperience       0.518125\n",
       "Salary             5005.167198\n",
       "dtype: float64"
      ]
     },
     "execution_count": 30,
     "metadata": {},
     "output_type": "execute_result"
    }
   ],
   "source": [
    "dataset.sem()"
   ]
  },
  {
   "cell_type": "code",
   "execution_count": 31,
   "id": "3a724df3-6f8d-4276-9179-e07e60ad8c85",
   "metadata": {},
   "outputs": [
    {
     "name": "stdout",
     "output_type": "stream",
     "text": [
      "Standard Error Mean of Salary 5005.167198052405\n"
     ]
    }
   ],
   "source": [
    "print(\"Standard Error Mean of Salary\", dataset['Salary'].sem())"
   ]
  },
  {
   "cell_type": "markdown",
   "id": "14fa3f32-0d11-4024-a31a-487657f505e5",
   "metadata": {},
   "source": [
    "### Z-Score\n",
    "\n",
    "- **zscore():** Standardizes values to check how far each point is from the mean (in standard deviations).  \n",
    "  → Useful for detecting possible outliers. (|z| > 3 usually indicates an outlier)"
   ]
  },
  {
   "cell_type": "code",
   "execution_count": 32,
   "id": "225e43e3-22aa-463c-aaff-cff896f7e649",
   "metadata": {},
   "outputs": [
    {
     "data": {
      "text/html": [
       "<div>\n",
       "<style scoped>\n",
       "    .dataframe tbody tr th:only-of-type {\n",
       "        vertical-align: middle;\n",
       "    }\n",
       "\n",
       "    .dataframe tbody tr th {\n",
       "        vertical-align: top;\n",
       "    }\n",
       "\n",
       "    .dataframe thead th {\n",
       "        text-align: right;\n",
       "    }\n",
       "</style>\n",
       "<table border=\"1\" class=\"dataframe\">\n",
       "  <thead>\n",
       "    <tr style=\"text-align: right;\">\n",
       "      <th></th>\n",
       "      <th>YearsExperience</th>\n",
       "      <th>Salary</th>\n",
       "    </tr>\n",
       "  </thead>\n",
       "  <tbody>\n",
       "    <tr>\n",
       "      <th>0</th>\n",
       "      <td>-1.510053</td>\n",
       "      <td>-1.360113</td>\n",
       "    </tr>\n",
       "    <tr>\n",
       "      <th>1</th>\n",
       "      <td>-1.438373</td>\n",
       "      <td>-1.105527</td>\n",
       "    </tr>\n",
       "    <tr>\n",
       "      <th>2</th>\n",
       "      <td>-1.366693</td>\n",
       "      <td>-1.419919</td>\n",
       "    </tr>\n",
       "    <tr>\n",
       "      <th>3</th>\n",
       "      <td>-1.187494</td>\n",
       "      <td>-1.204957</td>\n",
       "    </tr>\n",
       "    <tr>\n",
       "      <th>4</th>\n",
       "      <td>-1.115814</td>\n",
       "      <td>-1.339781</td>\n",
       "    </tr>\n",
       "    <tr>\n",
       "      <th>5</th>\n",
       "      <td>-0.864935</td>\n",
       "      <td>-0.718307</td>\n",
       "    </tr>\n",
       "    <tr>\n",
       "      <th>6</th>\n",
       "      <td>-0.829096</td>\n",
       "      <td>-0.588158</td>\n",
       "    </tr>\n",
       "    <tr>\n",
       "      <th>7</th>\n",
       "      <td>-0.757416</td>\n",
       "      <td>-0.799817</td>\n",
       "    </tr>\n",
       "    <tr>\n",
       "      <th>8</th>\n",
       "      <td>-0.757416</td>\n",
       "      <td>-0.428810</td>\n",
       "    </tr>\n",
       "    <tr>\n",
       "      <th>9</th>\n",
       "      <td>-0.578216</td>\n",
       "      <td>-0.698013</td>\n",
       "    </tr>\n",
       "    <tr>\n",
       "      <th>10</th>\n",
       "      <td>-0.506537</td>\n",
       "      <td>-0.474333</td>\n",
       "    </tr>\n",
       "    <tr>\n",
       "      <th>11</th>\n",
       "      <td>-0.470697</td>\n",
       "      <td>-0.749769</td>\n",
       "    </tr>\n",
       "    <tr>\n",
       "      <th>12</th>\n",
       "      <td>-0.470697</td>\n",
       "      <td>-0.706620</td>\n",
       "    </tr>\n",
       "    <tr>\n",
       "      <th>13</th>\n",
       "      <td>-0.434857</td>\n",
       "      <td>-0.702020</td>\n",
       "    </tr>\n",
       "    <tr>\n",
       "      <th>14</th>\n",
       "      <td>-0.291498</td>\n",
       "      <td>-0.552504</td>\n",
       "    </tr>\n",
       "    <tr>\n",
       "      <th>15</th>\n",
       "      <td>-0.148138</td>\n",
       "      <td>-0.299217</td>\n",
       "    </tr>\n",
       "    <tr>\n",
       "      <th>16</th>\n",
       "      <td>-0.076458</td>\n",
       "      <td>-0.370043</td>\n",
       "    </tr>\n",
       "    <tr>\n",
       "      <th>17</th>\n",
       "      <td>-0.004779</td>\n",
       "      <td>0.262859</td>\n",
       "    </tr>\n",
       "    <tr>\n",
       "      <th>18</th>\n",
       "      <td>0.210261</td>\n",
       "      <td>0.198860</td>\n",
       "    </tr>\n",
       "    <tr>\n",
       "      <th>19</th>\n",
       "      <td>0.246100</td>\n",
       "      <td>0.665476</td>\n",
       "    </tr>\n",
       "    <tr>\n",
       "      <th>20</th>\n",
       "      <td>0.532819</td>\n",
       "      <td>0.583780</td>\n",
       "    </tr>\n",
       "    <tr>\n",
       "      <th>21</th>\n",
       "      <td>0.640339</td>\n",
       "      <td>0.826233</td>\n",
       "    </tr>\n",
       "    <tr>\n",
       "      <th>22</th>\n",
       "      <td>0.927058</td>\n",
       "      <td>0.938611</td>\n",
       "    </tr>\n",
       "    <tr>\n",
       "      <th>23</th>\n",
       "      <td>1.034577</td>\n",
       "      <td>1.402741</td>\n",
       "    </tr>\n",
       "    <tr>\n",
       "      <th>24</th>\n",
       "      <td>1.213777</td>\n",
       "      <td>1.240203</td>\n",
       "    </tr>\n",
       "    <tr>\n",
       "      <th>25</th>\n",
       "      <td>1.321296</td>\n",
       "      <td>1.097402</td>\n",
       "    </tr>\n",
       "    <tr>\n",
       "      <th>26</th>\n",
       "      <td>1.500496</td>\n",
       "      <td>1.519868</td>\n",
       "    </tr>\n",
       "    <tr>\n",
       "      <th>27</th>\n",
       "      <td>1.536336</td>\n",
       "      <td>1.359074</td>\n",
       "    </tr>\n",
       "    <tr>\n",
       "      <th>28</th>\n",
       "      <td>1.787215</td>\n",
       "      <td>1.721028</td>\n",
       "    </tr>\n",
       "    <tr>\n",
       "      <th>29</th>\n",
       "      <td>1.858894</td>\n",
       "      <td>1.701773</td>\n",
       "    </tr>\n",
       "  </tbody>\n",
       "</table>\n",
       "</div>"
      ],
      "text/plain": [
       "    YearsExperience    Salary\n",
       "0         -1.510053 -1.360113\n",
       "1         -1.438373 -1.105527\n",
       "2         -1.366693 -1.419919\n",
       "3         -1.187494 -1.204957\n",
       "4         -1.115814 -1.339781\n",
       "5         -0.864935 -0.718307\n",
       "6         -0.829096 -0.588158\n",
       "7         -0.757416 -0.799817\n",
       "8         -0.757416 -0.428810\n",
       "9         -0.578216 -0.698013\n",
       "10        -0.506537 -0.474333\n",
       "11        -0.470697 -0.749769\n",
       "12        -0.470697 -0.706620\n",
       "13        -0.434857 -0.702020\n",
       "14        -0.291498 -0.552504\n",
       "15        -0.148138 -0.299217\n",
       "16        -0.076458 -0.370043\n",
       "17        -0.004779  0.262859\n",
       "18         0.210261  0.198860\n",
       "19         0.246100  0.665476\n",
       "20         0.532819  0.583780\n",
       "21         0.640339  0.826233\n",
       "22         0.927058  0.938611\n",
       "23         1.034577  1.402741\n",
       "24         1.213777  1.240203\n",
       "25         1.321296  1.097402\n",
       "26         1.500496  1.519868\n",
       "27         1.536336  1.359074\n",
       "28         1.787215  1.721028\n",
       "29         1.858894  1.701773"
      ]
     },
     "execution_count": 32,
     "metadata": {},
     "output_type": "execute_result"
    }
   ],
   "source": [
    "dataset.apply(stats.zscore)"
   ]
  },
  {
   "cell_type": "code",
   "execution_count": 33,
   "id": "ca8b8b45-6cc9-4e40-ba8a-976265cca295",
   "metadata": {},
   "outputs": [
    {
     "name": "stdout",
     "output_type": "stream",
     "text": [
      "Z-Score of Salary:\n",
      " [-1.36011263 -1.10552744 -1.419919   -1.20495739 -1.33978143 -0.71830716\n",
      " -0.58815781 -0.79981746 -0.42881019 -0.69801306 -0.47433279 -0.74976858\n",
      " -0.70662043 -0.70201994 -0.55250402 -0.29921736 -0.37004264  0.26285865\n",
      "  0.19885989  0.66547573  0.58377993  0.82623317  0.93861127  1.40274136\n",
      "  1.24020308  1.09740238  1.51986835  1.3590738   1.72102849  1.70177321]\n"
     ]
    }
   ],
   "source": [
    "print(\"Z-Score of Salary:\\n\", stats.zscore(dataset['Salary']))"
   ]
  },
  {
   "cell_type": "markdown",
   "id": "17d20ce8-b518-4ea4-b0f9-65dacddf57b7",
   "metadata": {},
   "source": [
    "### Degree of Freedom"
   ]
  },
  {
   "cell_type": "code",
   "execution_count": 34,
   "id": "1568bd05-4a7e-4a61-9a9d-3cb7fda497fe",
   "metadata": {},
   "outputs": [
    {
     "name": "stdout",
     "output_type": "stream",
     "text": [
      "Degrees of Freedom: 28\n"
     ]
    }
   ],
   "source": [
    "a = dataset.shape[0]  # number of rows\n",
    "b = dataset.shape[1]  # number of columns\n",
    "\n",
    "degree_of_freedom = a - b\n",
    "print(\"Degrees of Freedom:\", degree_of_freedom)"
   ]
  },
  {
   "cell_type": "markdown",
   "id": "826971c0-17cb-418d-ba45-53601bb57731",
   "metadata": {},
   "source": [
    "### Sum of Squares Regression (SSR)"
   ]
  },
  {
   "cell_type": "code",
   "execution_count": 35,
   "id": "70245ad9-7b5a-4a5f-a141-ab671cb204f4",
   "metadata": {},
   "outputs": [
    {
     "name": "stdout",
     "output_type": "stream",
     "text": [
      "6263152884.284127\n"
     ]
    }
   ],
   "source": [
    "y_mean = np.mean(y)\n",
    "SSR = np.sum((y_pred-y_mean)**2)\n",
    "print(SSR)"
   ]
  },
  {
   "cell_type": "markdown",
   "id": "eac2c75d-ec94-4cc1-9618-57d330afdba4",
   "metadata": {},
   "source": [
    "### Sum of Squares Error (SSE)"
   ]
  },
  {
   "cell_type": "code",
   "execution_count": 36,
   "id": "de1b6653-9449-4165-a02a-8f7af12a2c06",
   "metadata": {},
   "outputs": [
    {
     "name": "stdout",
     "output_type": "stream",
     "text": [
      "15274062883.9432\n"
     ]
    }
   ],
   "source": [
    "y = y[0:6]\n",
    "SSE = np.sum((y-y_pred)**2)\n",
    "print(SSE)"
   ]
  },
  {
   "cell_type": "markdown",
   "id": "3e9cf7da-4506-4dd3-b935-025576850409",
   "metadata": {},
   "source": [
    "### Sum of Squares Total (SST)"
   ]
  },
  {
   "cell_type": "code",
   "execution_count": 37,
   "id": "ec2c1318-db7d-4956-9814-382497e88574",
   "metadata": {},
   "outputs": [
    {
     "name": "stdout",
     "output_type": "stream",
     "text": [
      "108429703765.82735\n"
     ]
    }
   ],
   "source": [
    "mean_total = np.mean(dataset.values) # here df.to_numpy()will convert pandas Dataframe to Nump\n",
    "SST = np.sum((dataset.values-mean_total)**2)\n",
    "print(SST)"
   ]
  },
  {
   "cell_type": "markdown",
   "id": "b01756c9-db03-4dbd-bafe-0ed3f4b6e91d",
   "metadata": {},
   "source": [
    "---\n",
    "\n",
    "## Check model performance\n",
    "\n",
    "After training the Simple Linear Regression model, I evaluated it with the following:\n",
    "\n",
    "- **R² Score (score method):**  \n",
    "  - On training data → how well the model explains variance in salary.  \n",
    "  - On test data → how well the model generalizes to unseen data.  \n",
    "  (Note: In my code I had named them `bias` and `variance`, but actually they are **R² scores**.)\n",
    "\n",
    "- **Mean Squared Error (MSE):**  \n",
    "  - Calculated separately for training and test sets.  \n",
    "  - Measures average squared difference between predicted and actual values.  \n",
    "  - Smaller MSE = better performance.\n",
    "\n",
    "Together, R² and MSE give a good idea of how well the regression line fits the data.  \n",
    "In this dataset, the model performs well because the relationship between experience and salary is almost perfectly linear.\n"
   ]
  },
  {
   "cell_type": "markdown",
   "id": "c2049349-ccf3-474b-82cb-0ac792241d22",
   "metadata": {},
   "source": [
    "### R-Square"
   ]
  },
  {
   "cell_type": "code",
   "execution_count": 38,
   "id": "408071f5-5b14-4b3f-ae4f-86b7836ea85c",
   "metadata": {},
   "outputs": [
    {
     "name": "stdout",
     "output_type": "stream",
     "text": [
      "0.9422376648947554\n"
     ]
    }
   ],
   "source": [
    "r_square = 1 - SSR/SST\n",
    "print(r_square)"
   ]
  },
  {
   "cell_type": "markdown",
   "id": "00ca1820-9d6a-4ea6-ac0d-02a26e01552e",
   "metadata": {},
   "source": [
    "### Training Score"
   ]
  },
  {
   "cell_type": "code",
   "execution_count": 39,
   "id": "159e8a00-6674-4710-9f9a-b5c72b3858ad",
   "metadata": {},
   "outputs": [
    {
     "name": "stdout",
     "output_type": "stream",
     "text": [
      "0.9411949620562126\n"
     ]
    }
   ],
   "source": [
    "bias = regressor.score(x_train, y_train)\n",
    "print(bias)"
   ]
  },
  {
   "cell_type": "markdown",
   "id": "2390baa8-d782-4346-b263-c45dd1a44506",
   "metadata": {},
   "source": [
    "### Testing Score"
   ]
  },
  {
   "cell_type": "code",
   "execution_count": 40,
   "id": "0a182d49-b7ac-4099-833e-6eea35d3d35c",
   "metadata": {},
   "outputs": [
    {
     "name": "stdout",
     "output_type": "stream",
     "text": [
      "0.988169515729126\n"
     ]
    }
   ],
   "source": [
    "variance = regressor.score(x_test, y_test)\n",
    "print(variance)"
   ]
  },
  {
   "cell_type": "markdown",
   "id": "540dcd93-eab3-490f-ba88-2bac0b58821c",
   "metadata": {},
   "source": [
    "### Training MSE"
   ]
  },
  {
   "cell_type": "code",
   "execution_count": 41,
   "id": "15fb09e7-d32e-4042-b497-6d60ab2238b3",
   "metadata": {},
   "outputs": [
    {
     "name": "stdout",
     "output_type": "stream",
     "text": [
      "36149670.11816131\n"
     ]
    }
   ],
   "source": [
    "train_mse = mean_squared_error(y_train, regressor.predict(x_train))\n",
    "print(train_mse)"
   ]
  },
  {
   "cell_type": "markdown",
   "id": "fe49c49c-db71-4dff-a570-3dcaebe7831b",
   "metadata": {},
   "source": [
    "### Test MSE"
   ]
  },
  {
   "cell_type": "code",
   "execution_count": 42,
   "id": "69b2f930-8c75-40ec-91e8-68189e6ab4d9",
   "metadata": {},
   "outputs": [
    {
     "name": "stdout",
     "output_type": "stream",
     "text": [
      "12823412.298126562\n"
     ]
    }
   ],
   "source": [
    "test_mse = mean_squared_error(y_test, y_pred)\n",
    "print(test_mse)"
   ]
  },
  {
   "cell_type": "markdown",
   "id": "57f88f8a-3eaa-4681-a648-b62e178aa65c",
   "metadata": {},
   "source": [
    "---\n",
    "## Save the model using Pickle\n",
    "\n",
    "Finally, I saved the trained model using **pickle** so I can load it later and use it without retraining."
   ]
  },
  {
   "cell_type": "code",
   "execution_count": 43,
   "id": "98ceb7fe-195c-45ce-98b2-7925fdd82de6",
   "metadata": {},
   "outputs": [
    {
     "name": "stdout",
     "output_type": "stream",
     "text": [
      "Model has been pickled and saved as linear_regression_model.pkl\n"
     ]
    }
   ],
   "source": [
    "# Save the trained model to disk\n",
    "filename = 'linear_regression_model.pkl'\n",
    "with open(filename, 'wb') as file:\n",
    "    pickle.dump(regressor, file)\n",
    "print(\"Model has been pickled and saved as linear_regression_model.pkl\")"
   ]
  },
  {
   "cell_type": "markdown",
   "id": "04cd983f-59fa-4893-af72-580643e0a79b",
   "metadata": {},
   "source": [
    "### Confirm Save location"
   ]
  },
  {
   "cell_type": "raw",
   "id": "6745c1bc-70e4-4ecc-920c-baa0994a8a17",
   "metadata": {},
   "source": [
    "import os \n",
    "print(os.getcwd())"
   ]
  },
  {
   "cell_type": "markdown",
   "id": "c073cc8f-28f1-4244-8e6f-41aa2b6149f9",
   "metadata": {},
   "source": [
    "---\n",
    "\n",
    "## Summary — Day 41: Simple Linear Regression\n",
    "\n",
    "In this notebook, I:\n",
    "- Learned the concept and intuition of **Simple Linear Regression (SLR)**\n",
    "- Worked with the **Salary_Data** dataset (YearsExperience → Salary)\n",
    "- Split the dataset into **training** and **test** sets (80/20)\n",
    "- Trained the model in **Spyder** and documented the process here in Jupyter\n",
    "- Visualized training and test results with regression line\n",
    "- Interpreted **slope** (salary increase per year of experience) and **intercept**\n",
    "- Made predictions for given years of experience (including extrapolated cases like 15 & 20 years)\n",
    "- Explored **extra statistics** (describe, correlation, skewness, z-score, SEM, coefficient of variation)\n",
    "- Evaluated model performance with **R² scores** and **Mean Squared Error (MSE)**\n",
    "- Saved the model using **pickle** for future use\n",
    "\n",
    "---\n",
    "\n",
    "## Key Takeaways\n",
    "\n",
    "- **SLR equation:** \\( y = mx + c \\)  \n",
    "- **Slope (m):** tells how much salary changes with each year of experience  \n",
    "- **Intercept (c):** base level salary when experience = 0  \n",
    "- A strong **positive correlation** confirmed linearity between experience and salary  \n",
    "- **R² close to 1** → excellent fit for this dataset  \n",
    "- **MSE low** → predictions are close to actual values  \n",
    "- Extra statistical checks (skew, z-score, SEM, CV) gave better insight into data quality  \n",
    "- Saving the trained model makes it easy to reuse without retraining\n"
   ]
  }
 ],
 "metadata": {
  "kernelspec": {
   "display_name": "Python 3 (ipykernel)",
   "language": "python",
   "name": "python3"
  },
  "language_info": {
   "codemirror_mode": {
    "name": "ipython",
    "version": 3
   },
   "file_extension": ".py",
   "mimetype": "text/x-python",
   "name": "python",
   "nbconvert_exporter": "python",
   "pygments_lexer": "ipython3",
   "version": "3.13.5"
  }
 },
 "nbformat": 4,
 "nbformat_minor": 5
}
