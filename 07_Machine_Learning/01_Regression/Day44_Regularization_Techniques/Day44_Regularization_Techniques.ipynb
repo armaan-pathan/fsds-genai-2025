{
 "cells": [
  {
   "cell_type": "markdown",
   "id": "a9685fc5-4172-44bf-88c0-8938debc281e",
   "metadata": {},
   "source": [
    "# Day44 – Regularization Techniques (L1 & L2)\n",
    "\n",
    "Today, I'm diving into regularization techniques, which are crucial for building robust machine learning models. I'll explore how these methods help us combat overfitting and underfitting, ensuring our models generalize well to new, unseen data. \n",
    "\n",
    "---\n",
    "\n",
    "## 1. Introduction\n",
    "In the previous days, I learned about regression (simple & multiple).  \n",
    "One of the challenges with regression is **overfitting** (model learns too much noise from training data) and **underfitting** (model is too simple to capture patterns).  \n",
    "\n",
    "To handle these issues, we use **Regularization Techniques** such as:\n",
    "- **Ridge Regression (L2)**\n",
    "- **Lasso Regression (L1)**\n",
    "- **Elastic Net (L1 + L2)**\n",
    "\n",
    "This notebook covers:\n",
    "1. Bias–Variance tradeoff (overfitting vs underfitting)  \n",
    "2. Regularization techniques and their intuition  \n",
    "3. Practical implementation using the **Car MPG dataset**  \n",
    "4. Comparing models (Linear Regression vs Ridge vs Lasso)\n",
    "\n",
    "---\n",
    "## 2. Understanding Overfitting and Underfitting\n",
    "\n",
    "When training a machine learning model, our goal is to create a model that not only performs well on the data it was trained on but also makes accurate predictions on new, unseen data. Two common problems can prevent this: overfitting and underfitting.\n",
    "\n",
    "### 2.1 Overfitting \n",
    "\n",
    "**Overfitting** occurs when a model learns the training data too well, including its noise and random fluctuations. It becomes overly complex and essentially \"memorizes\" the training examples rather than learning the underlying patterns.\n",
    "\n",
    "  * **Characteristics**:\n",
    "      * **Low Bias**: The model fits the training data very closely.\n",
    "      * **High Variance**: The model performs poorly on new, unseen data because it's too sensitive to the specific details of the training set.\n",
    "  * **How to Identify**: The model performs exceptionally well on the **training data** but poorly on the **test data**.\n",
    "  * **Causes**:\n",
    "      * Too many features (attributes) in the dataset.\n",
    "      * Model is too complex for the amount of data.\n",
    "      * Insufficient training data.\n",
    "  * **Techniques to Reduce**: Cross-validation, regularization (L1, L2), dimensionality reduction (like PCA), and ensemble learning.\n",
    "\n",
    "### 2.2 Underfitting\n",
    "\n",
    "**Underfitting** occurs when a model is too simple to capture the underlying patterns in the training data. It fails to learn the relationships between features and the target variable.\n",
    "\n",
    "  * **Characteristics**:\n",
    "      * **High Bias**: The model doesn't fit the training data well, indicating a fundamental flaw in its assumptions or structure.\n",
    "      * **Low Variance**: The model performs similarly poorly on both training and test data because it's too simplistic.\n",
    "  * **How to Identify**: The model performs poorly on **both training and test data**.\n",
    "  * **Causes**:\n",
    "      * Too few features (attributes).\n",
    "      * Model is too simple (e.g., using a linear model for non-linear data).\n",
    "      * Insufficient training time or an overly aggressive regularization.\n",
    "  * **Techniques to Reduce**: Add more relevant features, increase model complexity, reduce regularization.\n",
    "\n",
    "### 2.3 The Bias-Variance Trade-off\n",
    "\n",
    "Overfitting and underfitting are two sides of the **bias-variance trade-off**.\n",
    "\n",
    "  * **Bias**: Error from erroneous assumptions in the learning algorithm. High bias means the model is too simple.\n",
    "  * **Variance**: Error from sensitivity to small fluctuations in the training set. High variance means the model is too complex.\n",
    "\n",
    "The goal is to find a \"sweet spot\" – a **best-fit model** with **low bias and low variance** that generalizes well to new data.\n",
    "\n",
    "-----\n",
    "\n",
    "\n",
    "### 3. Practical Example: Car MPG Dataset\n",
    "\n",
    "Let's apply these regularization techniques to a dataset to predict car fuel efficiency (MPG). We'll start with a standard Linear Regression model as a baseline and then compare its performance with Ridge and Lasso Regression."
   ]
  },
  {
   "cell_type": "markdown",
   "id": "60d7e8ea-7852-4dc5-8d6e-e6e14a96b05f",
   "metadata": {},
   "source": [
    "## Import Required Libraries"
   ]
  },
  {
   "cell_type": "code",
   "execution_count": 1,
   "id": "79685007-1514-4f20-8b77-28a52a26499b",
   "metadata": {},
   "outputs": [],
   "source": [
    "import pandas as pd\n",
    "import numpy as np\n",
    "import seaborn as sns\n",
    "import matplotlib.pyplot as plt\n",
    "%matplotlib inline\n",
    "\n",
    "from sklearn import preprocessing\n",
    "from sklearn.model_selection import train_test_split\n",
    "from sklearn.linear_model import LinearRegression, Ridge, Lasso, ElasticNet\n",
    "from sklearn.metrics import r2_score"
   ]
  },
  {
   "cell_type": "markdown",
   "id": "d5bddded-3915-421c-968f-bae410c35f81",
   "metadata": {},
   "source": [
    "## Load the Dataset"
   ]
  },
  {
   "cell_type": "code",
   "execution_count": 2,
   "id": "68a458b7-c469-4681-b6d8-66f4eeae47ae",
   "metadata": {},
   "outputs": [],
   "source": [
    "data = pd.read_csv(r\"C:\\Users\\Arman\\Downloads\\dataset\\car-mpg.csv\")"
   ]
  },
  {
   "cell_type": "code",
   "execution_count": 3,
   "id": "a1feb21b-8a8f-4895-abbe-163c72bead2f",
   "metadata": {},
   "outputs": [
    {
     "data": {
      "text/html": [
       "<div>\n",
       "<style scoped>\n",
       "    .dataframe tbody tr th:only-of-type {\n",
       "        vertical-align: middle;\n",
       "    }\n",
       "\n",
       "    .dataframe tbody tr th {\n",
       "        vertical-align: top;\n",
       "    }\n",
       "\n",
       "    .dataframe thead th {\n",
       "        text-align: right;\n",
       "    }\n",
       "</style>\n",
       "<table border=\"1\" class=\"dataframe\">\n",
       "  <thead>\n",
       "    <tr style=\"text-align: right;\">\n",
       "      <th></th>\n",
       "      <th>mpg</th>\n",
       "      <th>cyl</th>\n",
       "      <th>disp</th>\n",
       "      <th>hp</th>\n",
       "      <th>wt</th>\n",
       "      <th>acc</th>\n",
       "      <th>yr</th>\n",
       "      <th>origin</th>\n",
       "      <th>car_type</th>\n",
       "      <th>car_name</th>\n",
       "    </tr>\n",
       "  </thead>\n",
       "  <tbody>\n",
       "    <tr>\n",
       "      <th>0</th>\n",
       "      <td>18.0</td>\n",
       "      <td>8</td>\n",
       "      <td>307.0</td>\n",
       "      <td>130</td>\n",
       "      <td>3504</td>\n",
       "      <td>12.0</td>\n",
       "      <td>70</td>\n",
       "      <td>1</td>\n",
       "      <td>0</td>\n",
       "      <td>chevrolet chevelle malibu</td>\n",
       "    </tr>\n",
       "    <tr>\n",
       "      <th>1</th>\n",
       "      <td>15.0</td>\n",
       "      <td>8</td>\n",
       "      <td>350.0</td>\n",
       "      <td>165</td>\n",
       "      <td>3693</td>\n",
       "      <td>11.5</td>\n",
       "      <td>70</td>\n",
       "      <td>1</td>\n",
       "      <td>0</td>\n",
       "      <td>buick skylark 320</td>\n",
       "    </tr>\n",
       "    <tr>\n",
       "      <th>2</th>\n",
       "      <td>18.0</td>\n",
       "      <td>8</td>\n",
       "      <td>318.0</td>\n",
       "      <td>150</td>\n",
       "      <td>3436</td>\n",
       "      <td>11.0</td>\n",
       "      <td>70</td>\n",
       "      <td>1</td>\n",
       "      <td>0</td>\n",
       "      <td>plymouth satellite</td>\n",
       "    </tr>\n",
       "    <tr>\n",
       "      <th>3</th>\n",
       "      <td>16.0</td>\n",
       "      <td>8</td>\n",
       "      <td>304.0</td>\n",
       "      <td>150</td>\n",
       "      <td>3433</td>\n",
       "      <td>12.0</td>\n",
       "      <td>70</td>\n",
       "      <td>1</td>\n",
       "      <td>0</td>\n",
       "      <td>amc rebel sst</td>\n",
       "    </tr>\n",
       "    <tr>\n",
       "      <th>4</th>\n",
       "      <td>17.0</td>\n",
       "      <td>8</td>\n",
       "      <td>302.0</td>\n",
       "      <td>140</td>\n",
       "      <td>3449</td>\n",
       "      <td>10.5</td>\n",
       "      <td>70</td>\n",
       "      <td>1</td>\n",
       "      <td>0</td>\n",
       "      <td>ford torino</td>\n",
       "    </tr>\n",
       "  </tbody>\n",
       "</table>\n",
       "</div>"
      ],
      "text/plain": [
       "    mpg  cyl   disp   hp    wt   acc  yr  origin  car_type  \\\n",
       "0  18.0    8  307.0  130  3504  12.0  70       1         0   \n",
       "1  15.0    8  350.0  165  3693  11.5  70       1         0   \n",
       "2  18.0    8  318.0  150  3436  11.0  70       1         0   \n",
       "3  16.0    8  304.0  150  3433  12.0  70       1         0   \n",
       "4  17.0    8  302.0  140  3449  10.5  70       1         0   \n",
       "\n",
       "                    car_name  \n",
       "0  chevrolet chevelle malibu  \n",
       "1          buick skylark 320  \n",
       "2         plymouth satellite  \n",
       "3              amc rebel sst  \n",
       "4                ford torino  "
      ]
     },
     "execution_count": 3,
     "metadata": {},
     "output_type": "execute_result"
    }
   ],
   "source": [
    "data.head()"
   ]
  },
  {
   "cell_type": "markdown",
   "id": "308521b2-8d14-4e9d-b17f-b81e0d3c8769",
   "metadata": {},
   "source": [
    "## 4. Data Preprocessing\n",
    "Steps followed:\n",
    "1. Loaded the dataset  \n",
    "2. Handled missing values (if any)  \n",
    "3. Encoded categorical features (if present)  \n",
    "4. Split into **train & test sets**  \n",
    "5. Applied **feature scaling** (important for regularization models)  \n",
    "\n",
    "\n",
    "### 4.1 Data Cleaning & Encoding"
   ]
  },
  {
   "cell_type": "code",
   "execution_count": 4,
   "id": "334f9b61-32b2-4f08-a70a-58a441fb775f",
   "metadata": {},
   "outputs": [],
   "source": [
    "# Drop car_name as it's not a useful feature\n",
    "data = data.drop(['car_name'], axis=1)"
   ]
  },
  {
   "cell_type": "code",
   "execution_count": 5,
   "id": "7dc25816-b7e5-48b9-8b3d-7c61102cb584",
   "metadata": {},
   "outputs": [],
   "source": [
    "# Convert 'origin' to categorical labels\n",
    "data['origin'] = data['origin'].replace({1: 'america', 2: 'europe', 3: 'asia'})"
   ]
  },
  {
   "cell_type": "code",
   "execution_count": 6,
   "id": "3e698330-ee3a-4c45-8b6a-93a47a201e7b",
   "metadata": {},
   "outputs": [],
   "source": [
    "# One-hot encode the 'origin' column\n",
    "data = pd.get_dummies(data, columns=['origin'],dtype=int)"
   ]
  },
  {
   "cell_type": "markdown",
   "id": "85a9404f-f362-4318-a663-d9bebf5408fc",
   "metadata": {},
   "source": [
    "### 4.2 Replace '?' with NaN"
   ]
  },
  {
   "cell_type": "code",
   "execution_count": 7,
   "id": "c988ce78-f913-4992-8375-20f1a82a15b9",
   "metadata": {},
   "outputs": [],
   "source": [
    "data = data.replace('?', np.nan)"
   ]
  },
  {
   "cell_type": "markdown",
   "id": "832465a4-0fa5-4371-8df5-e74a5287afd1",
   "metadata": {},
   "source": [
    "### 4.3 Fill missing values with median"
   ]
  },
  {
   "cell_type": "code",
   "execution_count": 8,
   "id": "823a6a87-bce7-4b5b-a895-a6fcd51623b5",
   "metadata": {},
   "outputs": [],
   "source": [
    "data = data.apply(pd.to_numeric, errors='coerce')"
   ]
  },
  {
   "cell_type": "code",
   "execution_count": 9,
   "id": "9ffd32eb-7a7d-4fe9-bc5f-a8cb8f4a20f0",
   "metadata": {},
   "outputs": [],
   "source": [
    "numeric_cols = data.select_dtypes(include=[np.number]).columns"
   ]
  },
  {
   "cell_type": "code",
   "execution_count": 10,
   "id": "77a0c8f1-50d0-4ece-a8c6-227612c45a1c",
   "metadata": {},
   "outputs": [],
   "source": [
    "data[numeric_cols] = data[numeric_cols].apply(lambda x: x.fillna(x.median()))"
   ]
  },
  {
   "cell_type": "code",
   "execution_count": 11,
   "id": "5063ced5-9c6a-4219-9989-0a6725dcb625",
   "metadata": {},
   "outputs": [
    {
     "data": {
      "text/html": [
       "<div>\n",
       "<style scoped>\n",
       "    .dataframe tbody tr th:only-of-type {\n",
       "        vertical-align: middle;\n",
       "    }\n",
       "\n",
       "    .dataframe tbody tr th {\n",
       "        vertical-align: top;\n",
       "    }\n",
       "\n",
       "    .dataframe thead th {\n",
       "        text-align: right;\n",
       "    }\n",
       "</style>\n",
       "<table border=\"1\" class=\"dataframe\">\n",
       "  <thead>\n",
       "    <tr style=\"text-align: right;\">\n",
       "      <th></th>\n",
       "      <th>mpg</th>\n",
       "      <th>cyl</th>\n",
       "      <th>disp</th>\n",
       "      <th>hp</th>\n",
       "      <th>wt</th>\n",
       "      <th>acc</th>\n",
       "      <th>yr</th>\n",
       "      <th>car_type</th>\n",
       "      <th>origin_america</th>\n",
       "      <th>origin_asia</th>\n",
       "      <th>origin_europe</th>\n",
       "    </tr>\n",
       "  </thead>\n",
       "  <tbody>\n",
       "    <tr>\n",
       "      <th>0</th>\n",
       "      <td>18.0</td>\n",
       "      <td>8</td>\n",
       "      <td>307.0</td>\n",
       "      <td>130.0</td>\n",
       "      <td>3504</td>\n",
       "      <td>12.0</td>\n",
       "      <td>70</td>\n",
       "      <td>0</td>\n",
       "      <td>1</td>\n",
       "      <td>0</td>\n",
       "      <td>0</td>\n",
       "    </tr>\n",
       "    <tr>\n",
       "      <th>1</th>\n",
       "      <td>15.0</td>\n",
       "      <td>8</td>\n",
       "      <td>350.0</td>\n",
       "      <td>165.0</td>\n",
       "      <td>3693</td>\n",
       "      <td>11.5</td>\n",
       "      <td>70</td>\n",
       "      <td>0</td>\n",
       "      <td>1</td>\n",
       "      <td>0</td>\n",
       "      <td>0</td>\n",
       "    </tr>\n",
       "    <tr>\n",
       "      <th>2</th>\n",
       "      <td>18.0</td>\n",
       "      <td>8</td>\n",
       "      <td>318.0</td>\n",
       "      <td>150.0</td>\n",
       "      <td>3436</td>\n",
       "      <td>11.0</td>\n",
       "      <td>70</td>\n",
       "      <td>0</td>\n",
       "      <td>1</td>\n",
       "      <td>0</td>\n",
       "      <td>0</td>\n",
       "    </tr>\n",
       "    <tr>\n",
       "      <th>3</th>\n",
       "      <td>16.0</td>\n",
       "      <td>8</td>\n",
       "      <td>304.0</td>\n",
       "      <td>150.0</td>\n",
       "      <td>3433</td>\n",
       "      <td>12.0</td>\n",
       "      <td>70</td>\n",
       "      <td>0</td>\n",
       "      <td>1</td>\n",
       "      <td>0</td>\n",
       "      <td>0</td>\n",
       "    </tr>\n",
       "    <tr>\n",
       "      <th>4</th>\n",
       "      <td>17.0</td>\n",
       "      <td>8</td>\n",
       "      <td>302.0</td>\n",
       "      <td>140.0</td>\n",
       "      <td>3449</td>\n",
       "      <td>10.5</td>\n",
       "      <td>70</td>\n",
       "      <td>0</td>\n",
       "      <td>1</td>\n",
       "      <td>0</td>\n",
       "      <td>0</td>\n",
       "    </tr>\n",
       "  </tbody>\n",
       "</table>\n",
       "</div>"
      ],
      "text/plain": [
       "    mpg  cyl   disp     hp    wt   acc  yr  car_type  origin_america  \\\n",
       "0  18.0    8  307.0  130.0  3504  12.0  70         0               1   \n",
       "1  15.0    8  350.0  165.0  3693  11.5  70         0               1   \n",
       "2  18.0    8  318.0  150.0  3436  11.0  70         0               1   \n",
       "3  16.0    8  304.0  150.0  3433  12.0  70         0               1   \n",
       "4  17.0    8  302.0  140.0  3449  10.5  70         0               1   \n",
       "\n",
       "   origin_asia  origin_europe  \n",
       "0            0              0  \n",
       "1            0              0  \n",
       "2            0              0  \n",
       "3            0              0  \n",
       "4            0              0  "
      ]
     },
     "execution_count": 11,
     "metadata": {},
     "output_type": "execute_result"
    }
   ],
   "source": [
    "data.head()"
   ]
  },
  {
   "cell_type": "markdown",
   "id": "4409c94e-e7f6-4fab-8b6b-ee73580f2589",
   "metadata": {},
   "source": [
    "## Model Building\n",
    "\n",
    "\n",
    "\n",
    "\n",
    "#### Tip!: #### \n"
   ]
  },
  {
   "cell_type": "markdown",
   "id": "3fee89d4-1d7b-47d0-a5cc-6535d8037885",
   "metadata": {},
   "source": [
    "## 4.4 Feature and Target\n",
    "\n",
    "First we divide the data into independent (X) and dependent data (y) then we scale it. "
   ]
  },
  {
   "cell_type": "code",
   "execution_count": 12,
   "id": "190cf973-ec34-43f2-aa1b-e5523273f386",
   "metadata": {},
   "outputs": [],
   "source": [
    "X = data.drop(['mpg'], axis=1) # independent Variables\n",
    "y = data[['mpg']] # dependent Variable"
   ]
  },
  {
   "cell_type": "markdown",
   "id": "a6359d04-823c-4896-9784-8e0b6f06cbdc",
   "metadata": {},
   "source": [
    "## 4.5 Scaling\n",
    "\n",
    "Here we would like to scale the data as the columns are varied which would result in 1 column dominating the others.\n",
    "\n",
    "**Note: The reason we don't scale the entire data before and then divide it into train(X) & test(y) is because once you scale the data, the type(data_s) would be numpy.ndarray. It's impossible to divide this data when it's an array.**\n",
    "\n",
    "Hence we divide type(data) pandas.DataFrame, then proceed to scaling it."
   ]
  },
  {
   "cell_type": "code",
   "execution_count": 13,
   "id": "21e15541-bda0-4332-8e37-ea879bca7a14",
   "metadata": {},
   "outputs": [],
   "source": [
    "X_s = preprocessing.scale(X)\n",
    "X_s = pd.DataFrame(X_s, columns=X.columns)\n",
    "\n",
    "y_s = preprocessing.scale(y)\n",
    "y_s = pd.DataFrame(y_s, columns=y.columns)"
   ]
  },
  {
   "cell_type": "code",
   "execution_count": 14,
   "id": "ea559000-f142-439c-a92f-d1b2977eac0f",
   "metadata": {},
   "outputs": [
    {
     "data": {
      "text/html": [
       "<div>\n",
       "<style scoped>\n",
       "    .dataframe tbody tr th:only-of-type {\n",
       "        vertical-align: middle;\n",
       "    }\n",
       "\n",
       "    .dataframe tbody tr th {\n",
       "        vertical-align: top;\n",
       "    }\n",
       "\n",
       "    .dataframe thead th {\n",
       "        text-align: right;\n",
       "    }\n",
       "</style>\n",
       "<table border=\"1\" class=\"dataframe\">\n",
       "  <thead>\n",
       "    <tr style=\"text-align: right;\">\n",
       "      <th></th>\n",
       "      <th>cyl</th>\n",
       "      <th>disp</th>\n",
       "      <th>hp</th>\n",
       "      <th>wt</th>\n",
       "      <th>acc</th>\n",
       "      <th>yr</th>\n",
       "      <th>car_type</th>\n",
       "      <th>origin_america</th>\n",
       "      <th>origin_asia</th>\n",
       "      <th>origin_europe</th>\n",
       "    </tr>\n",
       "  </thead>\n",
       "  <tbody>\n",
       "    <tr>\n",
       "      <th>0</th>\n",
       "      <td>1.498191</td>\n",
       "      <td>1.090604</td>\n",
       "      <td>0.673118</td>\n",
       "      <td>0.630870</td>\n",
       "      <td>-1.295498</td>\n",
       "      <td>-1.627426</td>\n",
       "      <td>-1.062235</td>\n",
       "      <td>0.773559</td>\n",
       "      <td>-0.497643</td>\n",
       "      <td>-0.461968</td>\n",
       "    </tr>\n",
       "    <tr>\n",
       "      <th>1</th>\n",
       "      <td>1.498191</td>\n",
       "      <td>1.503514</td>\n",
       "      <td>1.589958</td>\n",
       "      <td>0.854333</td>\n",
       "      <td>-1.477038</td>\n",
       "      <td>-1.627426</td>\n",
       "      <td>-1.062235</td>\n",
       "      <td>0.773559</td>\n",
       "      <td>-0.497643</td>\n",
       "      <td>-0.461968</td>\n",
       "    </tr>\n",
       "    <tr>\n",
       "      <th>2</th>\n",
       "      <td>1.498191</td>\n",
       "      <td>1.196232</td>\n",
       "      <td>1.197027</td>\n",
       "      <td>0.550470</td>\n",
       "      <td>-1.658577</td>\n",
       "      <td>-1.627426</td>\n",
       "      <td>-1.062235</td>\n",
       "      <td>0.773559</td>\n",
       "      <td>-0.497643</td>\n",
       "      <td>-0.461968</td>\n",
       "    </tr>\n",
       "    <tr>\n",
       "      <th>3</th>\n",
       "      <td>1.498191</td>\n",
       "      <td>1.061796</td>\n",
       "      <td>1.197027</td>\n",
       "      <td>0.546923</td>\n",
       "      <td>-1.295498</td>\n",
       "      <td>-1.627426</td>\n",
       "      <td>-1.062235</td>\n",
       "      <td>0.773559</td>\n",
       "      <td>-0.497643</td>\n",
       "      <td>-0.461968</td>\n",
       "    </tr>\n",
       "    <tr>\n",
       "      <th>4</th>\n",
       "      <td>1.498191</td>\n",
       "      <td>1.042591</td>\n",
       "      <td>0.935072</td>\n",
       "      <td>0.565841</td>\n",
       "      <td>-1.840117</td>\n",
       "      <td>-1.627426</td>\n",
       "      <td>-1.062235</td>\n",
       "      <td>0.773559</td>\n",
       "      <td>-0.497643</td>\n",
       "      <td>-0.461968</td>\n",
       "    </tr>\n",
       "    <tr>\n",
       "      <th>...</th>\n",
       "      <td>...</td>\n",
       "      <td>...</td>\n",
       "      <td>...</td>\n",
       "      <td>...</td>\n",
       "      <td>...</td>\n",
       "      <td>...</td>\n",
       "      <td>...</td>\n",
       "      <td>...</td>\n",
       "      <td>...</td>\n",
       "      <td>...</td>\n",
       "    </tr>\n",
       "    <tr>\n",
       "      <th>393</th>\n",
       "      <td>-0.856321</td>\n",
       "      <td>-0.513026</td>\n",
       "      <td>-0.479482</td>\n",
       "      <td>-0.213324</td>\n",
       "      <td>0.011586</td>\n",
       "      <td>1.621983</td>\n",
       "      <td>0.941412</td>\n",
       "      <td>0.773559</td>\n",
       "      <td>-0.497643</td>\n",
       "      <td>-0.461968</td>\n",
       "    </tr>\n",
       "    <tr>\n",
       "      <th>394</th>\n",
       "      <td>-0.856321</td>\n",
       "      <td>-0.925936</td>\n",
       "      <td>-1.370127</td>\n",
       "      <td>-0.993671</td>\n",
       "      <td>3.279296</td>\n",
       "      <td>1.621983</td>\n",
       "      <td>0.941412</td>\n",
       "      <td>-1.292726</td>\n",
       "      <td>-0.497643</td>\n",
       "      <td>2.164651</td>\n",
       "    </tr>\n",
       "    <tr>\n",
       "      <th>395</th>\n",
       "      <td>-0.856321</td>\n",
       "      <td>-0.561039</td>\n",
       "      <td>-0.531873</td>\n",
       "      <td>-0.798585</td>\n",
       "      <td>-1.440730</td>\n",
       "      <td>1.621983</td>\n",
       "      <td>0.941412</td>\n",
       "      <td>0.773559</td>\n",
       "      <td>-0.497643</td>\n",
       "      <td>-0.461968</td>\n",
       "    </tr>\n",
       "    <tr>\n",
       "      <th>396</th>\n",
       "      <td>-0.856321</td>\n",
       "      <td>-0.705077</td>\n",
       "      <td>-0.662850</td>\n",
       "      <td>-0.408411</td>\n",
       "      <td>1.100822</td>\n",
       "      <td>1.621983</td>\n",
       "      <td>0.941412</td>\n",
       "      <td>0.773559</td>\n",
       "      <td>-0.497643</td>\n",
       "      <td>-0.461968</td>\n",
       "    </tr>\n",
       "    <tr>\n",
       "      <th>397</th>\n",
       "      <td>-0.856321</td>\n",
       "      <td>-0.714680</td>\n",
       "      <td>-0.584264</td>\n",
       "      <td>-0.296088</td>\n",
       "      <td>1.391285</td>\n",
       "      <td>1.621983</td>\n",
       "      <td>0.941412</td>\n",
       "      <td>0.773559</td>\n",
       "      <td>-0.497643</td>\n",
       "      <td>-0.461968</td>\n",
       "    </tr>\n",
       "  </tbody>\n",
       "</table>\n",
       "<p>398 rows × 10 columns</p>\n",
       "</div>"
      ],
      "text/plain": [
       "          cyl      disp        hp        wt       acc        yr  car_type  \\\n",
       "0    1.498191  1.090604  0.673118  0.630870 -1.295498 -1.627426 -1.062235   \n",
       "1    1.498191  1.503514  1.589958  0.854333 -1.477038 -1.627426 -1.062235   \n",
       "2    1.498191  1.196232  1.197027  0.550470 -1.658577 -1.627426 -1.062235   \n",
       "3    1.498191  1.061796  1.197027  0.546923 -1.295498 -1.627426 -1.062235   \n",
       "4    1.498191  1.042591  0.935072  0.565841 -1.840117 -1.627426 -1.062235   \n",
       "..        ...       ...       ...       ...       ...       ...       ...   \n",
       "393 -0.856321 -0.513026 -0.479482 -0.213324  0.011586  1.621983  0.941412   \n",
       "394 -0.856321 -0.925936 -1.370127 -0.993671  3.279296  1.621983  0.941412   \n",
       "395 -0.856321 -0.561039 -0.531873 -0.798585 -1.440730  1.621983  0.941412   \n",
       "396 -0.856321 -0.705077 -0.662850 -0.408411  1.100822  1.621983  0.941412   \n",
       "397 -0.856321 -0.714680 -0.584264 -0.296088  1.391285  1.621983  0.941412   \n",
       "\n",
       "     origin_america  origin_asia  origin_europe  \n",
       "0          0.773559    -0.497643      -0.461968  \n",
       "1          0.773559    -0.497643      -0.461968  \n",
       "2          0.773559    -0.497643      -0.461968  \n",
       "3          0.773559    -0.497643      -0.461968  \n",
       "4          0.773559    -0.497643      -0.461968  \n",
       "..              ...          ...            ...  \n",
       "393        0.773559    -0.497643      -0.461968  \n",
       "394       -1.292726    -0.497643       2.164651  \n",
       "395        0.773559    -0.497643      -0.461968  \n",
       "396        0.773559    -0.497643      -0.461968  \n",
       "397        0.773559    -0.497643      -0.461968  \n",
       "\n",
       "[398 rows x 10 columns]"
      ]
     },
     "execution_count": 14,
     "metadata": {},
     "output_type": "execute_result"
    }
   ],
   "source": [
    "X_s"
   ]
  },
  {
   "cell_type": "code",
   "execution_count": 15,
   "id": "02c306c8-67e3-45d9-be2b-0b33593b60d7",
   "metadata": {},
   "outputs": [
    {
     "data": {
      "text/html": [
       "<div>\n",
       "<style scoped>\n",
       "    .dataframe tbody tr th:only-of-type {\n",
       "        vertical-align: middle;\n",
       "    }\n",
       "\n",
       "    .dataframe tbody tr th {\n",
       "        vertical-align: top;\n",
       "    }\n",
       "\n",
       "    .dataframe thead th {\n",
       "        text-align: right;\n",
       "    }\n",
       "</style>\n",
       "<table border=\"1\" class=\"dataframe\">\n",
       "  <thead>\n",
       "    <tr style=\"text-align: right;\">\n",
       "      <th></th>\n",
       "      <th>mpg</th>\n",
       "    </tr>\n",
       "  </thead>\n",
       "  <tbody>\n",
       "    <tr>\n",
       "      <th>0</th>\n",
       "      <td>-0.706439</td>\n",
       "    </tr>\n",
       "    <tr>\n",
       "      <th>1</th>\n",
       "      <td>-1.090751</td>\n",
       "    </tr>\n",
       "    <tr>\n",
       "      <th>2</th>\n",
       "      <td>-0.706439</td>\n",
       "    </tr>\n",
       "    <tr>\n",
       "      <th>3</th>\n",
       "      <td>-0.962647</td>\n",
       "    </tr>\n",
       "    <tr>\n",
       "      <th>4</th>\n",
       "      <td>-0.834543</td>\n",
       "    </tr>\n",
       "    <tr>\n",
       "      <th>...</th>\n",
       "      <td>...</td>\n",
       "    </tr>\n",
       "    <tr>\n",
       "      <th>393</th>\n",
       "      <td>0.446497</td>\n",
       "    </tr>\n",
       "    <tr>\n",
       "      <th>394</th>\n",
       "      <td>2.624265</td>\n",
       "    </tr>\n",
       "    <tr>\n",
       "      <th>395</th>\n",
       "      <td>1.087017</td>\n",
       "    </tr>\n",
       "    <tr>\n",
       "      <th>396</th>\n",
       "      <td>0.574601</td>\n",
       "    </tr>\n",
       "    <tr>\n",
       "      <th>397</th>\n",
       "      <td>0.958913</td>\n",
       "    </tr>\n",
       "  </tbody>\n",
       "</table>\n",
       "<p>398 rows × 1 columns</p>\n",
       "</div>"
      ],
      "text/plain": [
       "          mpg\n",
       "0   -0.706439\n",
       "1   -1.090751\n",
       "2   -0.706439\n",
       "3   -0.962647\n",
       "4   -0.834543\n",
       "..        ...\n",
       "393  0.446497\n",
       "394  2.624265\n",
       "395  1.087017\n",
       "396  0.574601\n",
       "397  0.958913\n",
       "\n",
       "[398 rows x 1 columns]"
      ]
     },
     "execution_count": 15,
     "metadata": {},
     "output_type": "execute_result"
    }
   ],
   "source": [
    "y_s"
   ]
  },
  {
   "cell_type": "markdown",
   "id": "1882e83d-3c46-489c-9a30-31d9b88b1ff6",
   "metadata": {},
   "source": [
    "## 4.6 Train test split"
   ]
  },
  {
   "cell_type": "code",
   "execution_count": 16,
   "id": "490f4764-113e-44b9-9803-2be28d06460b",
   "metadata": {},
   "outputs": [],
   "source": [
    "X_train, X_test, y_train, y_test = train_test_split(X_s, y_s, test_size=0.3, random_state=1)"
   ]
  },
  {
   "cell_type": "markdown",
   "id": "0510d492-3f68-45d7-8619-f8f54e8c6d9d",
   "metadata": {},
   "source": [
    "---\n",
    "\n",
    "## 5. Baseline Model: Linear Regression\n",
    "Before applying regularization, I trained a **Linear Regression model**.\n",
    "\n",
    "- This acts as the **reference model**  \n",
    "- Evaluated using R² score and MSE  \n",
    "\n"
   ]
  },
  {
   "cell_type": "code",
   "execution_count": 17,
   "id": "c95491e9-c1ac-4ef1-88a8-153f93c54cc8",
   "metadata": {},
   "outputs": [
    {
     "name": "stdout",
     "output_type": "stream",
     "text": [
      "The coefficient for cyl is 0.321022385691611\n",
      "The coefficient for disp is 0.32483430918483897\n",
      "The coefficient for hp is -0.22916950059437569\n",
      "The coefficient for wt is -0.7112101905072298\n",
      "The coefficient for acc is 0.014713682764191237\n",
      "The coefficient for yr is 0.3755811949510748\n",
      "The coefficient for car_type is 0.3814769484233099\n",
      "The coefficient for origin_america is -0.07472247547584178\n",
      "The coefficient for origin_asia is 0.044515252035677896\n",
      "The coefficient for origin_europe is 0.04834854953945386\n",
      "The intercept is 0.019284116103639764\n"
     ]
    }
   ],
   "source": [
    "regression_model = LinearRegression()\n",
    "regression_model.fit(X_train, y_train)\n",
    "\n",
    "for idx, col_name in enumerate(X_train.columns):\n",
    "    print('The coefficient for {} is {}'.format(col_name, regression_model.coef_[0][idx]))\n",
    "\n",
    "intercept = regression_model.intercept_[0]\n",
    "print('The intercept is {}'.format(intercept))"
   ]
  },
  {
   "cell_type": "markdown",
   "id": "b4108599-5bca-47db-8711-3b775bc783b1",
   "metadata": {},
   "source": [
    "---\n",
    "\n",
    "## 6. Regularization Techniques\n",
    "\n",
    "**Regularization** is a set of techniques used to prevent overfitting in machine learning models, especially when dealing with many features or when coefficients of independent variables become very large. When coefficients are excessively high, it means the model is putting too much emphasis on specific features, making it sensitive to noise in the training data. Regularization helps by \"penalizing\" these large coefficients, effectively shrinking them down.\n",
    "\n",
    "I'll focus on three primary types of regularization for linear models: **Lasso (L1)**, **Ridge (L2)** regression and **Elastic Net** regression.\n",
    "\n",
    "### 6.1 Ridge Regression (L2 Regularization) \n",
    "\n",
    "**Ridge Regression**, also known as **L2 Regularization**, adds a penalty equal to the **square of the magnitude of the coefficients** to the loss function.\n",
    "\n",
    "  * **How it Works**: It shrinks the coefficients towards zero, but **rarely makes them exactly zero**. This means all features are retained in the model, but their impact is reduced.\n",
    "  * **Purpose**: To reduce the magnitude of coefficients, making the model less sensitive to individual data points and thus reducing variance.\n",
    "  * **Benefit**: Effective when you have many features that are all somewhat relevant."
   ]
  },
  {
   "cell_type": "code",
   "execution_count": 18,
   "id": "a38bcaea-5995-4cc4-a29e-128f1ce788e2",
   "metadata": {},
   "outputs": [
    {
     "name": "stdout",
     "output_type": "stream",
     "text": [
      "Ridge model coefficients: [ 0.31495967  0.30948411 -0.22861679 -0.69782283  0.01239531  0.37411266\n",
      "  0.37586629 -0.07408168  0.04437854  0.0476772 ]\n"
     ]
    }
   ],
   "source": [
    "ridge_model = Ridge(alpha = 0.4)\n",
    "ridge_model.fit(X_train, y_train)\n",
    "\n",
    "print('Ridge model coefficients: {}'.format(ridge_model.coef_))"
   ]
  },
  {
   "cell_type": "markdown",
   "id": "a04dd243-e7f8-4d95-9338-e2c5dac6496e",
   "metadata": {},
   "source": [
    "### 6.2 Lasso Regression (L1 Regularization) \n",
    "\n",
    "**Lasso Regression**, also known as **L1 Regularization**, adds a penalty equal to the **absolute value of the magnitude of the coefficients** to the loss function.\n",
    "\n",
    "  * **How it Works**: It shrinks some coefficients **exactly to zero**, effectively performing **feature elimination** or **feature selection**.\n",
    "  * **Purpose**: To simplify the model by excluding less important features, which can be very useful for high-dimensional datasets.\n",
    "  * **Benefit**: Useful when you suspect many features are irrelevant, as it helps in automatic feature selection."
   ]
  },
  {
   "cell_type": "code",
   "execution_count": 19,
   "id": "ea10d81e-1996-450a-8d73-70a7e175e4fb",
   "metadata": {},
   "outputs": [
    {
     "name": "stdout",
     "output_type": "stream",
     "text": [
      "Lasso model coefficients: [-0.         -0.         -0.01690287 -0.51890013  0.          0.28138241\n",
      "  0.1278489  -0.01642647  0.          0.        ]\n"
     ]
    }
   ],
   "source": [
    "lasso_model = Lasso(alpha = 0.1)\n",
    "lasso_model.fit(X_train, y_train)\n",
    "\n",
    "print('Lasso model coefficients: {}'.format(lasso_model.coef_))"
   ]
  },
  {
   "cell_type": "markdown",
   "id": "a1b77fea-820d-444e-8ccd-961deed3d7e4",
   "metadata": {},
   "source": [
    "Here we notice many coefficients are turned to 0 indicating drop of those dimensions from the model"
   ]
  },
  {
   "cell_type": "markdown",
   "id": "37e83f2f-ad3c-43d3-a533-7f5acdd25e35",
   "metadata": {},
   "source": [
    "### 6.3 Elastic Net Regression (L1 + L2) \n",
    "\n",
    "**Elastic Net Regression** combines both L1 and L2 regularization. It includes both the absolute value of coefficients (Lasso) and the squared magnitude of coefficients (Ridge) in its penalty term.\n",
    "\n",
    "  * **How it Works**: It inherits the **feature selection** capabilities of Lasso and the **coefficient shrinkage** of Ridge.\n",
    "  * **Purpose**: It's particularly useful when you have highly correlated features or when Lasso might select only one of a group of correlated features.\n",
    "\n"
   ]
  },
  {
   "cell_type": "code",
   "execution_count": 20,
   "id": "170573bd-9c23-4754-ad0e-5de93ca52de6",
   "metadata": {},
   "outputs": [
    {
     "name": "stdout",
     "output_type": "stream",
     "text": [
      "Elastic Net model coefficients: [-0.01374482 -0.0528263  -0.04186336 -0.12931957  0.          0.\n",
      "  0.04592358 -0.          0.          0.        ]\n"
     ]
    }
   ],
   "source": [
    "elastic_model = ElasticNet(alpha=1.0, l1_ratio=0.5, random_state=42)\n",
    "elastic_model.fit(X_train, y_train)\n",
    "\n",
    "print('Elastic Net model coefficients: {}'.format(elastic_model.coef_))"
   ]
  },
  {
   "cell_type": "markdown",
   "id": "df2030f1-3434-4550-a477-8f6d20422a8c",
   "metadata": {},
   "source": [
    "### 6.4 Regularization in Modern ML\n",
    "\n",
    "It's important to note that regularization techniques are often **internally built** into many advanced machine learning algorithms and deep learning frameworks. For instance, in deep learning, a common form of L2 regularization is referred to as **weight decay**. While we're implementing them manually here for understanding, many libraries handle this automatically.\n",
    "\n",
    "---"
   ]
  },
  {
   "cell_type": "markdown",
   "id": "3fd18900-57e6-4479-b116-f69bf9c80ead",
   "metadata": {},
   "source": [
    "## 7. Model Comparison "
   ]
  },
  {
   "cell_type": "code",
   "execution_count": 21,
   "id": "b7087739-79ea-4925-96cf-5bc42d5c84f8",
   "metadata": {},
   "outputs": [
    {
     "name": "stdout",
     "output_type": "stream",
     "text": [
      "Linear R² Score (Train): 0.8343770256960538\n",
      "Linear R² Score (Test): 0.8513421387780066\n",
      "***********************************\n",
      "Ridge R² Score (Train): 0.8343502868181133\n",
      "Ridge R² Score (Test): 0.8520594956782543\n",
      "***********************************\n",
      "Lasso R² Score (Train): 0.7938010766228453\n",
      "Lasso R² Score (Test): 0.8375229615977083\n",
      "***********************************\n",
      "Elastic Net R² Score (Train): 0.37270418593334975\n",
      "Elastic Net R² Score (Test): 0.4078394212577402\n"
     ]
    }
   ],
   "source": [
    "\n",
    "#simple linear model\n",
    "print(\"Linear R² Score (Train):\", regression_model.score(X_train, y_train))\n",
    "print(\"Linear R² Score (Test):\", regression_model.score(X_test, y_test))\n",
    "\n",
    "print('***********************************')\n",
    "#ridge model\n",
    "print(\"Ridge R² Score (Train):\", ridge_model.score(X_train, y_train))\n",
    "print(\"Ridge R² Score (Test):\", ridge_model.score(X_test, y_test))\n",
    "\n",
    "print('***********************************')\n",
    "#lasso model\n",
    "print(\"Lasso R² Score (Train):\", lasso_model.score(X_train, y_train))\n",
    "print(\"Lasso R² Score (Test):\", lasso_model.score(X_test, y_test))\n",
    "\n",
    "print('***********************************')\n",
    "#elastic net model\n",
    "print(\"Elastic Net R² Score (Train):\", elastic_model.score(X_train, y_train))\n",
    "print(\"Elastic Net R² Score (Test):\", elastic_model.score(X_test, y_test))"
   ]
  },
  {
   "cell_type": "markdown",
   "id": "9ba5d813-c8db-4ba8-931b-37fc66142b90",
   "metadata": {},
   "source": [
    "- Here is the comparison of models based on performance metrics (R²):\n",
    "\n",
    "\n",
    "| Model               | R² Score (Train) | R² Score (Test) | Notes                                   |\n",
    "|---------------------|------------------|-----------------|-----------------------------------------|\n",
    "| Linear Regression   | 0.834            | 0.851           | Baseline model, slight overfitting      |\n",
    "| Ridge Regression    | 0.834            | 0.852           | Shrinks coefficients, reduces variance  |\n",
    "| Lasso Regression    | 0.793            | 0.837           | Some coefficients reduced/eliminated    |\n",
    "| Elastic Net         | 0.372            | 0.407           | Some coefficients reduced/eliminated    |\n",
    "\n",
    "From the comparison table above:\n",
    "- Linear Regression performed well but showed slight signs of overfitting.  \n",
    "- Ridge improved generalization slightly by shrinking large coefficients.  \n",
    "- Lasso reduced some coefficients, acting as feature selection.  \n",
    "- Elastic Net gave balanced results, combining both Ridge and Lasso benefits.  \n"
   ]
  },
  {
   "cell_type": "markdown",
   "id": "1b7c6fda-d7ad-45b7-a554-f82864008971",
   "metadata": {},
   "source": [
    "### 7.1 Model Parameter Building\n",
    "\n",
    "* R² is not a reliable metric as it always increases with addition of more attributes even if the attributes have no influence on the predicted variable. Instead we use adjusted R² which removes the statistical chance that improves R² \n",
    "* Scikit does not provide a facility for adjusted R²... so we use statsmodel, a library that gives results similar to what you obtain in R language\n",
    "* This library expects the X and Y to be given in one single dataframe"
   ]
  },
  {
   "cell_type": "code",
   "execution_count": 22,
   "id": "52d1aa74-0e99-4d24-9cce-7abc3c57cd3b",
   "metadata": {},
   "outputs": [
    {
     "data": {
      "text/html": [
       "<div>\n",
       "<style scoped>\n",
       "    .dataframe tbody tr th:only-of-type {\n",
       "        vertical-align: middle;\n",
       "    }\n",
       "\n",
       "    .dataframe tbody tr th {\n",
       "        vertical-align: top;\n",
       "    }\n",
       "\n",
       "    .dataframe thead th {\n",
       "        text-align: right;\n",
       "    }\n",
       "</style>\n",
       "<table border=\"1\" class=\"dataframe\">\n",
       "  <thead>\n",
       "    <tr style=\"text-align: right;\">\n",
       "      <th></th>\n",
       "      <th>cyl</th>\n",
       "      <th>disp</th>\n",
       "      <th>hp</th>\n",
       "      <th>wt</th>\n",
       "      <th>acc</th>\n",
       "      <th>yr</th>\n",
       "      <th>car_type</th>\n",
       "      <th>origin_america</th>\n",
       "      <th>origin_asia</th>\n",
       "      <th>origin_europe</th>\n",
       "      <th>mpg</th>\n",
       "    </tr>\n",
       "  </thead>\n",
       "  <tbody>\n",
       "    <tr>\n",
       "      <th>350</th>\n",
       "      <td>-0.856321</td>\n",
       "      <td>-0.849116</td>\n",
       "      <td>-1.081977</td>\n",
       "      <td>-0.893172</td>\n",
       "      <td>-0.242570</td>\n",
       "      <td>1.351199</td>\n",
       "      <td>0.941412</td>\n",
       "      <td>0.773559</td>\n",
       "      <td>-0.497643</td>\n",
       "      <td>-0.461968</td>\n",
       "      <td>1.432898</td>\n",
       "    </tr>\n",
       "    <tr>\n",
       "      <th>59</th>\n",
       "      <td>-0.856321</td>\n",
       "      <td>-0.925936</td>\n",
       "      <td>-1.317736</td>\n",
       "      <td>-0.847061</td>\n",
       "      <td>2.879909</td>\n",
       "      <td>-1.085858</td>\n",
       "      <td>0.941412</td>\n",
       "      <td>-1.292726</td>\n",
       "      <td>-0.497643</td>\n",
       "      <td>2.164651</td>\n",
       "      <td>-0.065919</td>\n",
       "    </tr>\n",
       "    <tr>\n",
       "      <th>120</th>\n",
       "      <td>-0.856321</td>\n",
       "      <td>-0.695475</td>\n",
       "      <td>0.201600</td>\n",
       "      <td>-0.121101</td>\n",
       "      <td>-0.024722</td>\n",
       "      <td>-0.815074</td>\n",
       "      <td>0.941412</td>\n",
       "      <td>-1.292726</td>\n",
       "      <td>-0.497643</td>\n",
       "      <td>2.164651</td>\n",
       "      <td>-0.578335</td>\n",
       "    </tr>\n",
       "    <tr>\n",
       "      <th>12</th>\n",
       "      <td>1.498191</td>\n",
       "      <td>1.983643</td>\n",
       "      <td>1.197027</td>\n",
       "      <td>0.934732</td>\n",
       "      <td>-2.203196</td>\n",
       "      <td>-1.627426</td>\n",
       "      <td>-1.062235</td>\n",
       "      <td>0.773559</td>\n",
       "      <td>-0.497643</td>\n",
       "      <td>-0.461968</td>\n",
       "      <td>-1.090751</td>\n",
       "    </tr>\n",
       "    <tr>\n",
       "      <th>349</th>\n",
       "      <td>-0.856321</td>\n",
       "      <td>-0.983552</td>\n",
       "      <td>-0.951000</td>\n",
       "      <td>-1.165111</td>\n",
       "      <td>0.156817</td>\n",
       "      <td>1.351199</td>\n",
       "      <td>0.941412</td>\n",
       "      <td>-1.292726</td>\n",
       "      <td>2.009471</td>\n",
       "      <td>-0.461968</td>\n",
       "      <td>1.356035</td>\n",
       "    </tr>\n",
       "  </tbody>\n",
       "</table>\n",
       "</div>"
      ],
      "text/plain": [
       "          cyl      disp        hp        wt       acc        yr  car_type  \\\n",
       "350 -0.856321 -0.849116 -1.081977 -0.893172 -0.242570  1.351199  0.941412   \n",
       "59  -0.856321 -0.925936 -1.317736 -0.847061  2.879909 -1.085858  0.941412   \n",
       "120 -0.856321 -0.695475  0.201600 -0.121101 -0.024722 -0.815074  0.941412   \n",
       "12   1.498191  1.983643  1.197027  0.934732 -2.203196 -1.627426 -1.062235   \n",
       "349 -0.856321 -0.983552 -0.951000 -1.165111  0.156817  1.351199  0.941412   \n",
       "\n",
       "     origin_america  origin_asia  origin_europe       mpg  \n",
       "350        0.773559    -0.497643      -0.461968  1.432898  \n",
       "59        -1.292726    -0.497643       2.164651 -0.065919  \n",
       "120       -1.292726    -0.497643       2.164651 -0.578335  \n",
       "12         0.773559    -0.497643      -0.461968 -1.090751  \n",
       "349       -1.292726     2.009471      -0.461968  1.356035  "
      ]
     },
     "execution_count": 22,
     "metadata": {},
     "output_type": "execute_result"
    }
   ],
   "source": [
    "# Merge features and target\n",
    "data_train_test = pd.concat([X_train, y_train], axis =1)\n",
    "data_train_test.head()"
   ]
  },
  {
   "cell_type": "code",
   "execution_count": 23,
   "id": "195c2ecf-b6d3-41d1-ac4d-dc6e12fd7e3e",
   "metadata": {},
   "outputs": [
    {
     "data": {
      "text/plain": [
       "Intercept         0.019284\n",
       "cyl               0.321022\n",
       "disp              0.324834\n",
       "hp               -0.229170\n",
       "wt               -0.711210\n",
       "acc               0.014714\n",
       "yr                0.375581\n",
       "car_type          0.381477\n",
       "origin_america   -0.074722\n",
       "origin_europe     0.048349\n",
       "origin_asia       0.044515\n",
       "dtype: float64"
      ]
     },
     "execution_count": 23,
     "metadata": {},
     "output_type": "execute_result"
    }
   ],
   "source": [
    "import statsmodels.formula.api as smf\n",
    "\n",
    "ols1 = smf.ols(formula = 'mpg ~ cyl+disp+hp+wt+acc+yr+car_type+origin_america+origin_europe+origin_asia', data = data_train_test).fit()\n",
    "ols1.params"
   ]
  },
  {
   "cell_type": "code",
   "execution_count": 24,
   "id": "9e34919e-c002-41c9-b0a3-298f2a4d953b",
   "metadata": {},
   "outputs": [
    {
     "name": "stdout",
     "output_type": "stream",
     "text": [
      "                            OLS Regression Results                            \n",
      "==============================================================================\n",
      "Dep. Variable:                    mpg   R-squared:                       0.834\n",
      "Model:                            OLS   Adj. R-squared:                  0.829\n",
      "Method:                 Least Squares   F-statistic:                     150.0\n",
      "Date:                Thu, 28 Aug 2025   Prob (F-statistic):           3.12e-99\n",
      "Time:                        23:35:59   Log-Likelihood:                -146.89\n",
      "No. Observations:                 278   AIC:                             313.8\n",
      "Df Residuals:                     268   BIC:                             350.1\n",
      "Df Model:                           9                                         \n",
      "Covariance Type:            nonrobust                                         \n",
      "==================================================================================\n",
      "                     coef    std err          t      P>|t|      [0.025      0.975]\n",
      "----------------------------------------------------------------------------------\n",
      "Intercept          0.0193      0.025      0.765      0.445      -0.030       0.069\n",
      "cyl                0.3210      0.112      2.856      0.005       0.100       0.542\n",
      "disp               0.3248      0.128      2.544      0.012       0.073       0.576\n",
      "hp                -0.2292      0.079     -2.915      0.004      -0.384      -0.074\n",
      "wt                -0.7112      0.088     -8.118      0.000      -0.884      -0.539\n",
      "acc                0.0147      0.039      0.373      0.709      -0.063       0.092\n",
      "yr                 0.3756      0.029     13.088      0.000       0.319       0.432\n",
      "car_type           0.3815      0.067      5.728      0.000       0.250       0.513\n",
      "origin_america    -0.0747      0.020     -3.723      0.000      -0.114      -0.035\n",
      "origin_europe      0.0483      0.021      2.270      0.024       0.006       0.090\n",
      "origin_asia        0.0445      0.020      2.175      0.031       0.004       0.085\n",
      "==============================================================================\n",
      "Omnibus:                       22.678   Durbin-Watson:                   2.105\n",
      "Prob(Omnibus):                  0.000   Jarque-Bera (JB):               36.139\n",
      "Skew:                           0.513   Prob(JB):                     1.42e-08\n",
      "Kurtosis:                       4.438   Cond. No.                     1.59e+16\n",
      "==============================================================================\n",
      "\n",
      "Notes:\n",
      "[1] Standard Errors assume that the covariance matrix of the errors is correctly specified.\n",
      "[2] The smallest eigenvalue is 6.14e-30. This might indicate that there are\n",
      "strong multicollinearity problems or that the design matrix is singular.\n"
     ]
    }
   ],
   "source": [
    "# View summary\n",
    "print(ols1.summary())"
   ]
  },
  {
   "cell_type": "markdown",
   "id": "635dcdfa-737c-43f1-a9f6-219fa2351d44",
   "metadata": {},
   "source": [
    "### 7.2 Adjusted R² from statsmodels:\n",
    "R-squared:      0.834\n",
    "\n",
    "Adjusted R-squared: 0.829\n",
    "\n",
    "- Close values → most features are useful\n",
    "- If Adjusted R² was much lower than R², it would mean too many unhelpful features"
   ]
  },
  {
   "cell_type": "markdown",
   "id": "7f141d17-12b9-4358-88b8-fc79b520c885",
   "metadata": {},
   "source": [
    "### 7.3 Root Mean Squared Error (RMSE)"
   ]
  },
  {
   "cell_type": "code",
   "execution_count": 25,
   "id": "8e3e5bb1-c359-48c3-8e98-288a376dcf76",
   "metadata": {},
   "outputs": [
    {
     "name": "stdout",
     "output_type": "stream",
     "text": [
      "Root Mean Squared Error: 0.37766934254087847\n"
     ]
    }
   ],
   "source": [
    "#Lets check Sum of Squared Errors (SSE) by predicting value of y for test cases and subtracting from the actual y for the test cases\n",
    "mse  = np.mean((regression_model.predict(X_test)-y_test)**2)\n",
    "\n",
    "# root of mean_sq_error is standard deviation i.e. avg variance between predicted and actual\n",
    "import math\n",
    "rmse = math.sqrt(mse)\n",
    "print('Root Mean Squared Error: {}'.format(rmse))"
   ]
  },
  {
   "cell_type": "markdown",
   "id": "56ac65c1-d617-4237-9819-abb1777bc95b",
   "metadata": {},
   "source": [
    "**So there is an avg. mpg difference of 0.37 from real mpg**"
   ]
  },
  {
   "cell_type": "markdown",
   "id": "f6858fa1-29c7-4d21-8ff2-fe6754a59731",
   "metadata": {},
   "source": [
    "### 7.4 Residual Plot – Check for Patterns"
   ]
  },
  {
   "cell_type": "code",
   "execution_count": 26,
   "id": "fd6099de-aae2-4071-bcd5-9b4c939d318c",
   "metadata": {},
   "outputs": [
    {
     "data": {
      "image/png": "[encoded data removed]",
      "text/plain": [
       "<Figure size 640x480 with 1 Axes>"
      ]
     },
     "metadata": {},
     "output_type": "display_data"
    },
    {
     "data": {
      "image/png": "[encoded data removed]",
      "text/plain": [
       "<Figure size 640x480 with 1 Axes>"
      ]
     },
     "metadata": {},
     "output_type": "display_data"
    }
   ],
   "source": [
    "fig = plt.figure()\n",
    "sns.residplot(x= X_test['hp'], y= y_test['mpg'], color='green', lowess=True )\n",
    "plt.show()\n",
    "\n",
    "fig = plt.figure()\n",
    "sns.residplot(x= X_test['acc'], y= y_test['mpg'], color='green', lowess=True )\n",
    "plt.show()"
   ]
  },
  {
   "cell_type": "markdown",
   "id": "739cfc4b-cfc1-457a-8e37-4550aa50d614",
   "metadata": {},
   "source": [
    "### 7.5 Visualization of Prediction vs Actual "
   ]
  },
  {
   "cell_type": "code",
   "execution_count": 27,
   "id": "b51fac02-47c1-4f5b-a4df-e60a010ecee0",
   "metadata": {},
   "outputs": [
    {
     "data": {
      "image/png": "[encoded data removed]",
      "text/plain": [
       "<Figure size 640x480 with 1 Axes>"
      ]
     },
     "metadata": {},
     "output_type": "display_data"
    }
   ],
   "source": [
    "y_pred = regression_model.predict(X_test)\n",
    "plt.scatter(y_test['mpg'], y_pred)\n",
    "plt.xlabel(\"Actual MPG\")\n",
    "plt.ylabel(\"Predicted MPG\")\n",
    "plt.title(\"Actual vs Predicted MPG\")\n",
    "plt.show()"
   ]
  },
  {
   "cell_type": "markdown",
   "id": "2b9b159d-af51-4b07-bfcb-247456e3a9a2",
   "metadata": {},
   "source": [
    "## 8. Inference \n",
    "\n",
    "**Both Ridge & Lasso regularization performs very well on this data, though Ridge gives a better score. The above scatter plot depicts the correlation between the actual and predicted mpg values.**"
   ]
  },
  {
   "cell_type": "markdown",
   "id": "f65958c9-b72f-4d68-8bed-600b996d28eb",
   "metadata": {},
   "source": [
    "---\n",
    "\n",
    "## Summary — Day44: Regularization Techniques\n",
    "\n",
    "In this notebook, I explored **regularization techniques** to overcome the limitations of Linear Regression models such as **overfitting** and **underfitting**.  \n",
    "The key learnings and implementations are as follows:\n",
    "\n",
    "- **Bias–Variance Tradeoff**\n",
    "  - Understood how high variance → overfitting (low bias, memorization of data)  \n",
    "  - High bias → underfitting (oversimplified model)  \n",
    "  - Best models balance both bias & variance  \n",
    "\n",
    "- **Dataset**\n",
    "  - Used the **Car MPG dataset** with features such as horsepower, weight, and cylinders  \n",
    "  - Target variable: **MPG (fuel efficiency)**  \n",
    "\n",
    "- **Data Preprocessing**\n",
    "  - Handled missing values  \n",
    "  - Encoded categorical features (if present)  \n",
    "  - Scaled numerical features before applying models  \n",
    "\n",
    "- **Baseline: Linear Regression**\n",
    "  - Trained a simple Linear Regression model  \n",
    "  - Achieved good accuracy but showed signs of slight overfitting  \n",
    "\n",
    "- **Ridge Regression (L2 Regularization)**\n",
    "  - Shrinks large coefficients closer to zero (but not zero)  \n",
    "  - Reduced variance and improved generalization  \n",
    "\n",
    "- **Lasso Regression (L1 Regularization)**\n",
    "  - Shrinks some coefficients all the way to **zero**  \n",
    "  - Acted as a **feature selection method** by eliminating less important variables  \n",
    "\n",
    "- **Elastic Net (L1 + L2 Regularization)**\n",
    "  - Combined Ridge and Lasso advantages  \n",
    "  - Balanced coefficient shrinkage and feature elimination  \n",
    "\n",
    "- **Model Comparison**\n",
    "  - Compared Linear, Ridge, Lasso, and Elastic Net  \n",
    "  - Evaluated models using **R² Score (train & test)** and **MSE**  \n",
    "  - Ridge slightly improved generalization  \n",
    "  - Lasso performed feature elimination  \n",
    "  - Elastic Net gave balanced results  \n",
    "\n",
    "---\n",
    "\n",
    "### Key Takeaways\n",
    "- Regularization is essential to handle **overfitting** and **improve generalization**  \n",
    "- **Ridge (L2)** → shrinks coefficients but keeps all features  \n",
    "- **Lasso (L1)** → eliminates irrelevant features (feature selection)  \n",
    "- **Elastic Net (L1+L2)** → combines both techniques  \n",
    "- Most ML algorithms have regularization **built-in by default** (e.g., Logistic Regression, Neural Networks with weight decay)  \n",
    "\n",
    "This day helped me understand **why regularization matters** and how it improves model stability and interpretability.\n"
   ]
  }
 ],
 "metadata": {
  "kernelspec": {
   "display_name": "Python 3 (ipykernel)",
   "language": "python",
   "name": "python3"
  },
  "language_info": {
   "codemirror_mode": {
    "name": "ipython",
    "version": 3
   },
   "file_extension": ".py",
   "mimetype": "text/x-python",
   "name": "python",
   "nbconvert_exporter": "python",
   "pygments_lexer": "ipython3",
   "version": "3.13.5"
  }
 },
 "nbformat": 4,
 "nbformat_minor": 5
}
