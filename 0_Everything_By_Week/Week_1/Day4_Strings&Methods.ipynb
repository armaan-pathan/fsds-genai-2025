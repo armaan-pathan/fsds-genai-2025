{
 "cells": [
  {
   "cell_type": "markdown",
   "id": "fd5fb0a7-28a4-41a1-a278-0ac09ed34473",
   "metadata": {},
   "source": [
    "# Day 04 – Strings and String Methods in Python (Extended)\n",
    "---\n",
    "\n",
    "Practice advanced string manipulations and explore a wide range of Python string methods."
   ]
  },
  {
   "cell_type": "markdown",
   "id": "d941caa5-b2f1-4fe9-8ea2-aaff69620dcc",
   "metadata": {},
   "source": [
    "## String Declaration, Length, and Printing"
   ]
  },
  {
   "cell_type": "code",
   "execution_count": 1,
   "id": "6f5b6454-16bf-4dec-bc21-19459f32076f",
   "metadata": {},
   "outputs": [
    {
     "name": "stdout",
     "output_type": "stream",
     "text": [
      "P\n",
      "1\n",
      "Hello, World!\n",
      "13\n",
      "I hope you are enjoying 30 days of python challenge\n"
     ]
    }
   ],
   "source": [
    "letter = 'P'\n",
    "print(letter)\n",
    "print(len(letter))\n",
    "\n",
    "greeting = 'Hello, World!'\n",
    "print(greeting)\n",
    "print(len(greeting))\n",
    "\n",
    "sentence = \"I hope you are enjoying 30 days of python challenge\"\n",
    "print(sentence)"
   ]
  },
  {
   "cell_type": "markdown",
   "id": "ee176cd2-7b3d-45b4-af8a-b396f8e56b17",
   "metadata": {},
   "source": [
    "## Multiline Strings"
   ]
  },
  {
   "cell_type": "code",
   "execution_count": 7,
   "id": "94cee1c1-9043-464e-8f24-827faddc3b96",
   "metadata": {},
   "outputs": [
    {
     "name": "stdout",
     "output_type": "stream",
     "text": [
      "I am a teacher and enjoy teaching.\n",
      "I didn't find anything as rewarding as empowering people.\n",
      "That is why I created 30 days of python.\n",
      "I am a teacher and enjoy teaching.\n",
      "I didn't find anything as rewarding as empowering people.\n",
      "That is why I created 30 days of python.\n"
     ]
    }
   ],
   "source": [
    "multiline_string = '''I am a teacher and enjoy teaching.\n",
    "I didn't find anything as rewarding as empowering people.\n",
    "That is why I created 30 days of python.'''\n",
    "print(multiline_string)\n",
    "\n",
    "multiline_string =  \"\"\"I am a teacher and enjoy teaching.\n",
    "I didn't find anything as rewarding as empowering people.\n",
    "That is why I created 30 days of python.\"\"\"\n",
    "print(multiline_string)"
   ]
  },
  {
   "cell_type": "markdown",
   "id": "6b36f43b-1b77-450a-9d16-0eb609d9f713",
   "metadata": {},
   "source": [
    "## String Concatenation and Length"
   ]
  },
  {
   "cell_type": "code",
   "execution_count": 8,
   "id": "26f3a32a-7cf4-4c63-a4c0-99fff08697fd",
   "metadata": {},
   "outputs": [
    {
     "name": "stdout",
     "output_type": "stream",
     "text": [
      "Arman Pathan\n",
      "5\n",
      "6\n",
      "12\n"
     ]
    }
   ],
   "source": [
    "first_name = 'Arman'\n",
    "last_name = 'Pathan'\n",
    "space = ' '\n",
    "full_name = first_name + space + last_name\n",
    "print(full_name)\n",
    "print(len(first_name))\n",
    "print(len(last_name))\n",
    "print(len(full_name))"
   ]
  },
  {
   "cell_type": "markdown",
   "id": "5b847f94-35c5-43fb-8e42-57c03ac11697",
   "metadata": {},
   "source": [
    "## Unpacking and Indexing"
   ]
  },
  {
   "cell_type": "code",
   "execution_count": 9,
   "id": "c3490ded-8c37-44a9-95a3-d23e9b36c252",
   "metadata": {},
   "outputs": [
    {
     "name": "stdout",
     "output_type": "stream",
     "text": [
      "P y t h o n\n"
     ]
    }
   ],
   "source": [
    "language = 'Python'\n",
    "a, b, c, d, e, f = language\n",
    "print(a, b, c, d, e, f)"
   ]
  },
  {
   "cell_type": "code",
   "execution_count": 10,
   "id": "a625cdf4-28b4-4f51-bab6-240d687d7635",
   "metadata": {},
   "outputs": [
    {
     "name": "stdout",
     "output_type": "stream",
     "text": [
      "P n o\n"
     ]
    }
   ],
   "source": [
    "first_letter = language[0]\n",
    "last_letter = language[-1]\n",
    "second_last = language[-2]\n",
    "print(first_letter, last_letter, second_last)"
   ]
  },
  {
   "cell_type": "markdown",
   "id": "00fd2142-d7d4-4660-893c-219e3c223dc9",
   "metadata": {},
   "source": [
    "## Slicing and Skipping"
   ]
  },
  {
   "cell_type": "code",
   "execution_count": 11,
   "id": "c3f010da-d359-44ca-8599-10e578a49490",
   "metadata": {},
   "outputs": [
    {
     "name": "stdout",
     "output_type": "stream",
     "text": [
      "Pyt\n",
      "hon\n",
      "hon\n",
      "Pto\n"
     ]
    }
   ],
   "source": [
    "print(language[0:3])\n",
    "print(language[3:6])\n",
    "print(language[-3:])\n",
    "print(language[::2])"
   ]
  },
  {
   "cell_type": "markdown",
   "id": "f37a687f-54e9-41cb-8c6f-ef743bd0fbd3",
   "metadata": {},
   "source": [
    "## Escape Sequences"
   ]
  },
  {
   "cell_type": "code",
   "execution_count": 13,
   "id": "e49990ab-98c1-4f98-b0d2-a77ef2256b5d",
   "metadata": {},
   "outputs": [
    {
     "name": "stdout",
     "output_type": "stream",
     "text": [
      "I hope every one enjoying the python challenge.\n",
      "Do you ?\n",
      "Days\tTopics\tExercises\n",
      "Day 1\t3\t5\n",
      "Day 2\t3\t5\n",
      "Day 3\t3\t5\n",
      "Day 4\t3\t5\n",
      "This is a back slash symbol (\\)\n",
      "In every programming language it starts with \"Hello, World!\"\n"
     ]
    }
   ],
   "source": [
    " # Escape sequence\n",
    "print('I hope every one enjoying the python challenge.\\nDo you ?') # line break\n",
    "print('Days\\tTopics\\tExercises')\n",
    "print('Day 1\\t3\\t5')\n",
    "print('Day 2\\t3\\t5')\n",
    "print('Day 3\\t3\\t5')\n",
    "print('Day 4\\t3\\t5')\n",
    "print('This is a back slash symbol (\\\\)') # To write a back slash\n",
    "print('In every programming language it starts with \\\"Hello, World!\\\"')"
   ]
  },
  {
   "cell_type": "markdown",
   "id": "35dca328-ea92-4682-85ba-915573412e81",
   "metadata": {},
   "source": [
    "## String Methods "
   ]
  },
  {
   "cell_type": "markdown",
   "id": "8b4819c3-b26a-478d-b1af-13abac9e41e6",
   "metadata": {},
   "source": [
    "###  capitalize(): Converts the first character in the string to Capital Letter"
   ]
  },
  {
   "cell_type": "code",
   "execution_count": 28,
   "id": "58cc3541-0e97-44d4-94cb-fdc4da62b335",
   "metadata": {},
   "outputs": [
    {
     "name": "stdout",
     "output_type": "stream",
     "text": [
      "Thirty days of python\n"
     ]
    }
   ],
   "source": [
    "challenge = 'thirty days of python'\n",
    "print(challenge.capitalize()) # 'Thirty days of python'"
   ]
  },
  {
   "cell_type": "markdown",
   "id": "21336273-f430-499a-8fe7-3afca47900f2",
   "metadata": {},
   "source": [
    "### count(): returns occurrences of substring in string, count(substring, start=.., end=..)"
   ]
  },
  {
   "cell_type": "code",
   "execution_count": 29,
   "id": "10331cb7-20ef-48bb-8928-8ef99ca7446d",
   "metadata": {},
   "outputs": [
    {
     "name": "stdout",
     "output_type": "stream",
     "text": [
      "3\n",
      "1\n",
      "2\n"
     ]
    }
   ],
   "source": [
    "challenge = 'thirty days of python'\n",
    "print(challenge.count('y')) # 3\n",
    "print(challenge.count('y', 7, 14)) # 1\n",
    "print(challenge.count('th')) # 2`"
   ]
  },
  {
   "cell_type": "markdown",
   "id": "15c811e1-38b5-42fa-ab83-dfe7eb3791c2",
   "metadata": {},
   "source": [
    "### endswith(): Checks if a string ends with a specified ending"
   ]
  },
  {
   "cell_type": "code",
   "execution_count": 30,
   "id": "8472c9f6-fa01-4785-86af-dff4425a6762",
   "metadata": {},
   "outputs": [
    {
     "name": "stdout",
     "output_type": "stream",
     "text": [
      "True\n",
      "False\n"
     ]
    }
   ],
   "source": [
    "challenge = 'thirty days of python'\n",
    "print(challenge.endswith('on'))   # True\n",
    "print(challenge.endswith('tion')) # False"
   ]
  },
  {
   "cell_type": "markdown",
   "id": "ccc81335-02f3-4c83-80ee-3e31eb10d477",
   "metadata": {},
   "source": [
    "### expandtabs(): Replaces tab character with spaces, default tab size is 8. It takes tab size argument"
   ]
  },
  {
   "cell_type": "code",
   "execution_count": 31,
   "id": "ab64cff9-d60f-4cf4-a905-1e91bd233d84",
   "metadata": {},
   "outputs": [
    {
     "name": "stdout",
     "output_type": "stream",
     "text": [
      "thirty  days    of      python\n",
      "thirty    days      of        python\n"
     ]
    }
   ],
   "source": [
    "challenge = 'thirty\\tdays\\tof\\tpython'\n",
    "print(challenge.expandtabs())   # 'thirty  days    of      python'\n",
    "print(challenge.expandtabs(10)) # 'thirty    days      of        python'"
   ]
  },
  {
   "cell_type": "markdown",
   "id": "0f18d34b-39a5-4ae4-9f1c-0b78d085e52d",
   "metadata": {},
   "source": [
    "### find(): Returns the index of first occurrence of substring"
   ]
  },
  {
   "cell_type": "code",
   "execution_count": 32,
   "id": "a52e33d7-0a91-404a-950a-6f3c488dc68b",
   "metadata": {},
   "outputs": [
    {
     "name": "stdout",
     "output_type": "stream",
     "text": [
      "5\n",
      "0\n"
     ]
    }
   ],
   "source": [
    "challenge = 'thirty days of python'\n",
    "print(challenge.find('y'))  # 5\n",
    "print(challenge.find('th')) # 0"
   ]
  },
  {
   "cell_type": "markdown",
   "id": "cf166d64-4301-44a8-aedb-892d80ea3698",
   "metadata": {},
   "source": [
    "### format()\tformats string into nicer output    "
   ]
  },
  {
   "cell_type": "code",
   "execution_count": 33,
   "id": "a9e4cbae-fd67-4e76-8a7f-b693e3282b5f",
   "metadata": {},
   "outputs": [
    {
     "name": "stdout",
     "output_type": "stream",
     "text": [
      "I am Arman Pathan. I am an Ai Engineer. I live in India.\n"
     ]
    }
   ],
   "source": [
    "first_name = 'Arman'\n",
    "last_name = 'Pathan'\n",
    "job = 'Ai Engineer'\n",
    "country = 'India'\n",
    "sentence = 'I am {} {}. I am an {}. I live in {}.'.format(first_name, last_name, job, country)\n",
    "print(sentence)"
   ]
  },
  {
   "cell_type": "code",
   "execution_count": 34,
   "id": "45981aad-5ddf-494a-bc0f-b526ba5b1520",
   "metadata": {},
   "outputs": [
    {
     "name": "stdout",
     "output_type": "stream",
     "text": [
      "The area of circle with 10 is 3.14\n"
     ]
    }
   ],
   "source": [
    "radius = 10\n",
    "pi = 3.14\n",
    "area = pi # radius ## 2\n",
    "result = 'The area of circle with {} is {}'.format(str(radius), str(area))\n",
    "print(result) # The area of circle with 10 is 314.0"
   ]
  },
  {
   "cell_type": "markdown",
   "id": "5646c2ad-1b62-4335-a03a-0c48f810f1bd",
   "metadata": {},
   "source": [
    "### index(): Returns the index of substring"
   ]
  },
  {
   "cell_type": "code",
   "execution_count": 35,
   "id": "83779aa6-4feb-4ccd-85e9-5ffdd123464b",
   "metadata": {},
   "outputs": [
    {
     "name": "stdout",
     "output_type": "stream",
     "text": [
      "5\n",
      "0\n"
     ]
    }
   ],
   "source": [
    "challenge = 'thirty days of python'\n",
    "print(challenge.find('y'))  # 5\n",
    "print(challenge.find('th')) # 0"
   ]
  },
  {
   "cell_type": "markdown",
   "id": "e0014d60-eadd-492d-a2fa-06c05fda40dc",
   "metadata": {},
   "source": [
    "### isalnum(): Checks alphanumeric character"
   ]
  },
  {
   "cell_type": "code",
   "execution_count": 36,
   "id": "8d3216c2-c58a-49ac-a8e9-1cdd124053db",
   "metadata": {},
   "outputs": [
    {
     "name": "stdout",
     "output_type": "stream",
     "text": [
      "True\n",
      "True\n",
      "False\n",
      "False\n"
     ]
    }
   ],
   "source": [
    "challenge = 'ThirtyDaysPython'\n",
    "print(challenge.isalnum()) # True\n",
    "\n",
    "challenge = '30DaysPython'\n",
    "print(challenge.isalnum()) # True\n",
    "\n",
    "challenge = 'thirty days of python'\n",
    "print(challenge.isalnum()) # False\n",
    "\n",
    "challenge = 'thirty days of python 2019'\n",
    "print(challenge.isalnum()) # False"
   ]
  },
  {
   "cell_type": "markdown",
   "id": "d29b7d8e-d83d-4ca6-b18e-f0a917e5fe13",
   "metadata": {},
   "source": [
    "### isalpha(): Checks if all characters are alphabets"
   ]
  },
  {
   "cell_type": "code",
   "execution_count": 37,
   "id": "10d94b54-91cb-45cc-a985-996d8a3be317",
   "metadata": {},
   "outputs": [
    {
     "name": "stdout",
     "output_type": "stream",
     "text": [
      "False\n",
      "False\n"
     ]
    }
   ],
   "source": [
    "challenge = 'thirty days of python'\n",
    "print(challenge.isalpha()) # True\n",
    "num = '123'\n",
    "print(num.isalpha())      # False"
   ]
  },
  {
   "cell_type": "markdown",
   "id": "d174285f-e431-4791-838e-9359e6c28d0f",
   "metadata": {},
   "source": [
    "### isdecimal(): Checks Decimal Characters"
   ]
  },
  {
   "cell_type": "code",
   "execution_count": 38,
   "id": "30be24fa-cd9a-419a-86b7-202c57d064e2",
   "metadata": {},
   "outputs": [
    {
     "name": "stdout",
     "output_type": "stream",
     "text": [
      "5\n",
      "0\n"
     ]
    }
   ],
   "source": [
    "challenge = 'thirty days of python'\n",
    "print(challenge.find('y'))  # 5\n",
    "print(challenge.find('th')) # 0"
   ]
  },
  {
   "cell_type": "markdown",
   "id": "816db58a-cbb9-459a-bb30-df38a9dbf6fd",
   "metadata": {},
   "source": [
    "### isdigit(): Checks Digit Characters"
   ]
  },
  {
   "cell_type": "code",
   "execution_count": 41,
   "id": "cccccb6e-d31c-45f2-8b04-834b73750132",
   "metadata": {},
   "outputs": [
    {
     "name": "stdout",
     "output_type": "stream",
     "text": [
      "False\n",
      "True\n"
     ]
    }
   ],
   "source": [
    "challenge = 'Thirty'\n",
    "print(challenge.isdigit()) # False\n",
    "challenge = '30'\n",
    "print(challenge.isdigit())   # True"
   ]
  },
  {
   "cell_type": "markdown",
   "id": "6ba0c118-3860-4f78-9526-71f9a9fb40b5",
   "metadata": {},
   "source": [
    "### isdecimal():Checks decimal characters"
   ]
  },
  {
   "cell_type": "code",
   "execution_count": 42,
   "id": "d440b05f-3a25-48bb-8972-e395cd1a1e6d",
   "metadata": {},
   "outputs": [
    {
     "name": "stdout",
     "output_type": "stream",
     "text": [
      "True\n",
      "False\n"
     ]
    }
   ],
   "source": [
    "num = '10'\n",
    "print(num.isdecimal()) # True\n",
    "num = '10.5'\n",
    "print(num.isdecimal()) # False"
   ]
  },
  {
   "cell_type": "markdown",
   "id": "18ccc96a-fbe3-4bcb-9146-a08ba06cba0d",
   "metadata": {},
   "source": [
    "### isidentifier():Checks for valid identifier means it check if a string is a valid variable name"
   ]
  },
  {
   "cell_type": "code",
   "execution_count": 43,
   "id": "4f0d79ab-77ea-4259-87a4-370c4fe9889f",
   "metadata": {},
   "outputs": [
    {
     "name": "stdout",
     "output_type": "stream",
     "text": [
      "False\n",
      "True\n"
     ]
    }
   ],
   "source": [
    "challenge = '30DaysOfPython'\n",
    "print(challenge.isidentifier()) # False, because it starts with a number\n",
    "challenge = 'thirty_days_of_python'\n",
    "print(challenge.isidentifier()) # True"
   ]
  },
  {
   "cell_type": "markdown",
   "id": "1198b44c-5e18-428f-947e-e98b89768e62",
   "metadata": {},
   "source": [
    "### islower():Checks if all alphabets in a string are lowercase"
   ]
  },
  {
   "cell_type": "code",
   "execution_count": 44,
   "id": "3a8f6e2c-ed90-4aa8-89dd-c2504701623c",
   "metadata": {},
   "outputs": [
    {
     "name": "stdout",
     "output_type": "stream",
     "text": [
      "True\n",
      "False\n"
     ]
    }
   ],
   "source": [
    "challenge = 'thirty days of python'\n",
    "print(challenge.islower()) # True\n",
    "challenge = 'Thirty days of python'\n",
    "print(challenge.islower()) # False"
   ]
  },
  {
   "cell_type": "markdown",
   "id": "aff0a61e-05fd-4fc9-a648-f85bf5af2044",
   "metadata": {},
   "source": [
    "### isupper(): returns if all characters are uppercase characters"
   ]
  },
  {
   "cell_type": "code",
   "execution_count": 45,
   "id": "d20f3fc7-5b14-4ab3-ac23-910e478f15ab",
   "metadata": {},
   "outputs": [
    {
     "name": "stdout",
     "output_type": "stream",
     "text": [
      "False\n",
      "True\n"
     ]
    }
   ],
   "source": [
    "challenge = 'thirty days of python'\n",
    "print(challenge.isupper()) #  False\n",
    "challenge = 'THIRTY DAYS OF PYTHON'\n",
    "print(challenge.isupper()) # True"
   ]
  },
  {
   "cell_type": "markdown",
   "id": "da64d11c-b136-4ab1-a622-c212733d9f3e",
   "metadata": {},
   "source": [
    "### isnumeric():Checks numeric characters"
   ]
  },
  {
   "cell_type": "code",
   "execution_count": 46,
   "id": "a6157acb-c489-4cca-a0e6-ba0aa54cb0b7",
   "metadata": {},
   "outputs": [
    {
     "name": "stdout",
     "output_type": "stream",
     "text": [
      "True\n",
      "False\n"
     ]
    }
   ],
   "source": [
    "num = '10'\n",
    "print(num.isnumeric())      # True\n",
    "print('ten'.isnumeric())    # False"
   ]
  },
  {
   "cell_type": "markdown",
   "id": "c48e9ca4-f0e9-479d-b15d-1627313247f2",
   "metadata": {},
   "source": [
    "### join(): Returns a concatenated string"
   ]
  },
  {
   "cell_type": "code",
   "execution_count": 47,
   "id": "701351fc-06f7-4cb0-8a5f-82c044f0d243",
   "metadata": {},
   "outputs": [
    {
     "name": "stdout",
     "output_type": "stream",
     "text": [
      "HTML#, CSS#, JavaScript#, React\n"
     ]
    }
   ],
   "source": [
    "web_tech = ['HTML', 'CSS', 'JavaScript', 'React']\n",
    "result = '#, '.join(web_tech)\n",
    "print(result) # 'HTML# CSS# JavaScript# React'"
   ]
  },
  {
   "cell_type": "markdown",
   "id": "a0a8235d-3d0a-4bc9-9000-21df590ee1ba",
   "metadata": {},
   "source": [
    "### strip(): Removes both leading and trailing characters"
   ]
  },
  {
   "cell_type": "code",
   "execution_count": 48,
   "id": "46b686a4-b533-4a53-8ed7-a8e9fe9b101d",
   "metadata": {},
   "outputs": [
    {
     "name": "stdout",
     "output_type": "stream",
     "text": [
      " thirty days of python \n"
     ]
    }
   ],
   "source": [
    "challenge = ' thirty days of python '\n",
    "print(challenge.strip('y')) # 5"
   ]
  },
  {
   "cell_type": "markdown",
   "id": "7884b398-dd73-4774-82de-52d6f6934f58",
   "metadata": {},
   "source": [
    "### replace(): Replaces substring inside"
   ]
  },
  {
   "cell_type": "code",
   "execution_count": 49,
   "id": "c2a6061d-eaee-453a-b5ba-b653819a5a5d",
   "metadata": {},
   "outputs": [
    {
     "name": "stdout",
     "output_type": "stream",
     "text": [
      "thirty days of coding\n"
     ]
    }
   ],
   "source": [
    "challenge = 'thirty days of python'\n",
    "print(challenge.replace('python', 'coding')) # 'thirty days of coding'"
   ]
  },
  {
   "cell_type": "markdown",
   "id": "06244e1b-31d4-4fc2-ad02-12683f705582",
   "metadata": {},
   "source": [
    "### split():Splits String from Left"
   ]
  },
  {
   "cell_type": "code",
   "execution_count": 50,
   "id": "c494a865-d596-436d-babe-7ef96f1be582",
   "metadata": {},
   "outputs": [
    {
     "name": "stdout",
     "output_type": "stream",
     "text": [
      "['thirty', 'days', 'of', 'python']\n"
     ]
    }
   ],
   "source": [
    "challenge = 'thirty days of python'\n",
    "print(challenge.split()) # ['thirty', 'days', 'of', 'python']"
   ]
  },
  {
   "cell_type": "markdown",
   "id": "ae27cbb7-de70-48be-b905-f0d88d660f0c",
   "metadata": {},
   "source": [
    "### title(): Returns a Title Cased String"
   ]
  },
  {
   "cell_type": "code",
   "execution_count": 51,
   "id": "eab61455-8d58-4d4d-8fbe-0a8b34085967",
   "metadata": {},
   "outputs": [
    {
     "name": "stdout",
     "output_type": "stream",
     "text": [
      "Thirty Days Of Python\n"
     ]
    }
   ],
   "source": [
    "challenge = 'thirty days of python'\n",
    "print(challenge.title()) # Thirty Days Of Python"
   ]
  },
  {
   "cell_type": "markdown",
   "id": "0f92befa-d35a-41bf-b612-9566a2d64840",
   "metadata": {},
   "source": [
    "### swapcase(): Checks if String Starts with the Specified String"
   ]
  },
  {
   "cell_type": "code",
   "execution_count": 52,
   "id": "6fd768f5-51a0-4e74-9bea-8d85808c0265",
   "metadata": {},
   "outputs": [
    {
     "name": "stdout",
     "output_type": "stream",
     "text": [
      "THIRTY DAYS OF PYTHON\n",
      "tHIRTY dAYS oF pYTHON\n"
     ]
    }
   ],
   "source": [
    "challenge = 'thirty days of python'\n",
    "print(challenge.swapcase())   # THIRTY DAYS OF PYTHON\n",
    "challenge = 'Thirty Days Of Python'\n",
    "print(challenge.swapcase())  # tHIRTY dAYS oF pYTHON"
   ]
  },
  {
   "cell_type": "markdown",
   "id": "0eba8cfd-58ac-4325-8f12-62eec2c9e038",
   "metadata": {},
   "source": [
    "### startswith(): Checks if String Starts with the Specified String"
   ]
  },
  {
   "cell_type": "code",
   "execution_count": 53,
   "id": "a145f278-e50a-4b50-b98b-915a054d0708",
   "metadata": {},
   "outputs": [
    {
     "name": "stdout",
     "output_type": "stream",
     "text": [
      "True\n",
      "False\n"
     ]
    }
   ],
   "source": [
    "challenge = 'thirty days of python'\n",
    "print(challenge.startswith('thirty')) # True\n",
    "challenge = '30 days of python'\n",
    "print(challenge.startswith('thirty')) # False"
   ]
  }
 ],
 "metadata": {
  "kernelspec": {
   "display_name": "Python 3 (ipykernel)",
   "language": "python",
   "name": "python3"
  },
  "language_info": {
   "codemirror_mode": {
    "name": "ipython",
    "version": 3
   },
   "file_extension": ".py",
   "mimetype": "text/x-python",
   "name": "python",
   "nbconvert_exporter": "python",
   "pygments_lexer": "ipython3",
   "version": "3.13.5"
  }
 },
 "nbformat": 4,
 "nbformat_minor": 5
}
