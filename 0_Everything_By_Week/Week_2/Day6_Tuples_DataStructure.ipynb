{
 "cells": [
  {
   "cell_type": "markdown",
   "id": "bf7c78ed",
   "metadata": {},
   "source": [
    "# Day 06 – Tuples in Python\n",
    "---\n",
    "Learn about tuple data structure in Python: creation, indexing, slicing, membership, and built-in functions.\n"
   ]
  },
  {
   "cell_type": "markdown",
   "id": "eea7fa96",
   "metadata": {},
   "source": [
    "## What is a Tuple?\n",
    "A **tuple** is an immutable, ordered collection of items. It is similar to a list but cannot be modified after creation.\n",
    "- Defined using parentheses `()`\n",
    "- Can contain mixed data types\n",
    "- Supports indexing, slicing, and iteration\n",
    "- Tuples are useful when you want to ensure data remains constant"
   ]
  },
  {
   "cell_type": "markdown",
   "id": "bae6e328",
   "metadata": {},
   "source": [
    "## Tuple Creation"
   ]
  },
  {
   "cell_type": "code",
   "execution_count": 2,
   "id": "7c59b8aa",
   "metadata": {},
   "outputs": [
    {
     "data": {
      "text/plain": [
       "7"
      ]
     },
     "execution_count": 2,
     "metadata": {},
     "output_type": "execute_result"
    }
   ],
   "source": [
    "tup1 = () # Empty tuple\n",
    "tup2 = (10,30,60) # tuple of integers number\n",
    "tup3 = (10.77,30.66,60.89) # tuple of float numbers\n",
    "tup4 = ('one', 'two', \"three\") # tuple of string\n",
    "tup5 = ('Asif', 25, (50,100),(150,90)) # Nested tuples\n",
    "tup6 = (100, 'Asif', 25, [50,100],[150,90], {'John', 'David'}, (99,22,33))\n",
    "len(tup6)"
   ]
  },
  {
   "cell_type": "code",
   "execution_count": 4,
   "id": "c3d15a1e-0963-4cab-b8a5-361c1a523d01",
   "metadata": {},
   "outputs": [
    {
     "name": "stdout",
     "output_type": "stream",
     "text": [
      "tup1 : ()\n",
      "tup2 : (10, 30, 60)\n",
      "tup3 : (10.77, 30.66, 60.89)\n",
      "tup4 : ('one', 'two', 'three')\n",
      "tup5 : ('Asif', 25, (50, 100), (150, 90))\n",
      "tup6 : (100, 'Asif', 25, [50, 100], [150, 90], {'David', 'John'}, (99, 22, 33))\n"
     ]
    }
   ],
   "source": [
    "print('tup1 :',tup1)\n",
    "print('tup2 :',tup2)\n",
    "print('tup3 :',tup3)\n",
    "print('tup4 :',tup4)\n",
    "print('tup5 :',tup5)\n",
    "print('tup6 :',tup6)"
   ]
  },
  {
   "cell_type": "markdown",
   "id": "0f152cd7",
   "metadata": {},
   "source": [
    "## Tuple Indexing"
   ]
  },
  {
   "cell_type": "code",
   "execution_count": 5,
   "id": "3a16af9a",
   "metadata": {},
   "outputs": [
    {
     "name": "stdout",
     "output_type": "stream",
     "text": [
      "10\n",
      "one\n",
      "o\n",
      "three\n",
      "(150, 90)\n"
     ]
    }
   ],
   "source": [
    "print(tup2[0])\n",
    "print(tup4[0])\n",
    "print(tup4[0][0])\n",
    "print(tup4[-1])\n",
    "print(tup5[-1])"
   ]
  },
  {
   "cell_type": "markdown",
   "id": "1068b83f",
   "metadata": {},
   "source": [
    "## Tuple Slicing"
   ]
  },
  {
   "cell_type": "code",
   "execution_count": 6,
   "id": "51b37a12",
   "metadata": {},
   "outputs": [],
   "source": [
    "mytuple = ('one', 'two', 'three', 'four', 'five', 'six', 'seven', 'eight')"
   ]
  },
  {
   "cell_type": "code",
   "execution_count": 7,
   "id": "18896826-6451-4d6f-a02c-e879defc5d57",
   "metadata": {},
   "outputs": [
    {
     "name": "stdout",
     "output_type": "stream",
     "text": [
      "('one', 'two', 'three')\n"
     ]
    }
   ],
   "source": [
    "print(mytuple[0:3])"
   ]
  },
  {
   "cell_type": "code",
   "execution_count": 8,
   "id": "6874c39e-d997-4cde-b392-b56ebf8a455e",
   "metadata": {},
   "outputs": [
    {
     "name": "stdout",
     "output_type": "stream",
     "text": [
      "('three', 'four', 'five')\n"
     ]
    }
   ],
   "source": [
    "print(mytuple[2:5])"
   ]
  },
  {
   "cell_type": "code",
   "execution_count": 9,
   "id": "0787b9a3-9740-42c9-bf53-0cac8d9163a4",
   "metadata": {},
   "outputs": [
    {
     "name": "stdout",
     "output_type": "stream",
     "text": [
      "('one', 'two', 'three')\n"
     ]
    }
   ],
   "source": [
    "print(mytuple[:3])"
   ]
  },
  {
   "cell_type": "code",
   "execution_count": 10,
   "id": "dc7e9fdb-2427-42a3-b58c-04bd7d5a7776",
   "metadata": {},
   "outputs": [
    {
     "name": "stdout",
     "output_type": "stream",
     "text": [
      "('one', 'two')\n"
     ]
    }
   ],
   "source": [
    "print(mytuple[:2])"
   ]
  },
  {
   "cell_type": "code",
   "execution_count": 11,
   "id": "b8db4a13-edbd-4536-a7a6-52ef015b72b3",
   "metadata": {},
   "outputs": [
    {
     "name": "stdout",
     "output_type": "stream",
     "text": [
      "('six', 'seven', 'eight')\n"
     ]
    }
   ],
   "source": [
    "print(mytuple[-3:])"
   ]
  },
  {
   "cell_type": "code",
   "execution_count": 12,
   "id": "cab37b10-1f3b-4473-89ce-2d608f4014d4",
   "metadata": {},
   "outputs": [
    {
     "name": "stdout",
     "output_type": "stream",
     "text": [
      "('seven', 'eight')\n"
     ]
    }
   ],
   "source": [
    "print(mytuple[-2:])"
   ]
  },
  {
   "cell_type": "code",
   "execution_count": 13,
   "id": "92b804ed-bf5b-4e7e-b90a-366a56113177",
   "metadata": {},
   "outputs": [
    {
     "name": "stdout",
     "output_type": "stream",
     "text": [
      "('eight',)\n"
     ]
    }
   ],
   "source": [
    "print(mytuple[-1:])"
   ]
  },
  {
   "cell_type": "code",
   "execution_count": 14,
   "id": "54e1a2c3-eeb4-4804-b447-56eb53bb26dc",
   "metadata": {},
   "outputs": [
    {
     "name": "stdout",
     "output_type": "stream",
     "text": [
      "('one', 'two', 'three', 'four', 'five', 'six', 'seven', 'eight')\n"
     ]
    }
   ],
   "source": [
    "print(mytuple[:])"
   ]
  },
  {
   "cell_type": "markdown",
   "id": "0e17f327",
   "metadata": {},
   "source": [
    "## Remove & Change Items"
   ]
  },
  {
   "cell_type": "code",
   "execution_count": 15,
   "id": "73a7460a",
   "metadata": {},
   "outputs": [
    {
     "data": {
      "text/plain": [
       "('one', 'two', 'three', 'four', 'five', 'six', 'seven', 'eight')"
      ]
     },
     "execution_count": 15,
     "metadata": {},
     "output_type": "execute_result"
    }
   ],
   "source": [
    "mytuple"
   ]
  },
  {
   "cell_type": "code",
   "execution_count": 16,
   "id": "3924406c-dd05-46e7-827e-1cc339678195",
   "metadata": {},
   "outputs": [
    {
     "ename": "TypeError",
     "evalue": "'tuple' object doesn't support item deletion",
     "output_type": "error",
     "traceback": [
      "\u001b[1;31m---------------------------------------------------------------------------\u001b[0m",
      "\u001b[1;31mTypeError\u001b[0m                                 Traceback (most recent call last)",
      "Cell \u001b[1;32mIn[16], line 1\u001b[0m\n\u001b[1;32m----> 1\u001b[0m \u001b[38;5;28;01mdel\u001b[39;00m mytuple[\u001b[38;5;241m0\u001b[39m]\n",
      "\u001b[1;31mTypeError\u001b[0m: 'tuple' object doesn't support item deletion"
     ]
    }
   ],
   "source": [
    "del mytuple[0]"
   ]
  },
  {
   "cell_type": "code",
   "execution_count": 17,
   "id": "15fa771d-c889-4b65-ab84-5ccd87e246ce",
   "metadata": {},
   "outputs": [
    {
     "data": {
      "text/plain": [
       "'one'"
      ]
     },
     "execution_count": 17,
     "metadata": {},
     "output_type": "execute_result"
    }
   ],
   "source": [
    "mytuple[0]"
   ]
  },
  {
   "cell_type": "code",
   "execution_count": 19,
   "id": "14a1ff60-8a87-4526-a743-284fe0f3ffde",
   "metadata": {},
   "outputs": [
    {
     "ename": "NameError",
     "evalue": "name 'mytuple' is not defined",
     "output_type": "error",
     "traceback": [
      "\u001b[1;31m---------------------------------------------------------------------------\u001b[0m",
      "\u001b[1;31mNameError\u001b[0m                                 Traceback (most recent call last)",
      "Cell \u001b[1;32mIn[19], line 1\u001b[0m\n\u001b[1;32m----> 1\u001b[0m \u001b[38;5;28;01mdel\u001b[39;00m mytuple\n",
      "\u001b[1;31mNameError\u001b[0m: name 'mytuple' is not defined"
     ]
    }
   ],
   "source": [
    "del mytuple"
   ]
  },
  {
   "cell_type": "markdown",
   "id": "7f00c055",
   "metadata": {},
   "source": [
    "## Looping Through a Tuple"
   ]
  },
  {
   "cell_type": "code",
   "execution_count": 21,
   "id": "f65b13c6-cbef-4893-bc91-4f0bf6a9d6dd",
   "metadata": {},
   "outputs": [],
   "source": [
    "mytuple = ('one', 'two', 'three', 'four', 'five', 'six', 'seven', 'eight')"
   ]
  },
  {
   "cell_type": "code",
   "execution_count": 22,
   "id": "6f0827de",
   "metadata": {},
   "outputs": [
    {
     "name": "stdout",
     "output_type": "stream",
     "text": [
      "one\n",
      "two\n",
      "three\n",
      "four\n",
      "five\n",
      "six\n",
      "seven\n",
      "eight\n"
     ]
    }
   ],
   "source": [
    "for i in mytuple:\n",
    "    print(i)"
   ]
  },
  {
   "cell_type": "code",
   "execution_count": 23,
   "id": "c6111a56-64e9-4867-a635-450180b23540",
   "metadata": {},
   "outputs": [
    {
     "name": "stdout",
     "output_type": "stream",
     "text": [
      "(0, 'one')\n",
      "(1, 'two')\n",
      "(2, 'three')\n",
      "(3, 'four')\n",
      "(4, 'five')\n",
      "(5, 'six')\n",
      "(6, 'seven')\n",
      "(7, 'eight')\n"
     ]
    }
   ],
   "source": [
    "for i in enumerate(mytuple):\n",
    "    print(i)"
   ]
  },
  {
   "cell_type": "markdown",
   "id": "6497ed0b",
   "metadata": {},
   "source": [
    "## Tuple Membership"
   ]
  },
  {
   "cell_type": "code",
   "execution_count": null,
   "id": "b225d872",
   "metadata": {},
   "outputs": [],
   "source": [
    "print('one' in mytuple)\n",
    "print('ten' in mytuple)\n",
    "\n",
    "if 'three' in mytuple:\n",
    "    print('Three is present in the tuple')\n",
    "else:\n",
    "    print('Three is not present')\n",
    "\n",
    "if 'eleven' in mytuple:\n",
    "    print('Eleven is present in the tuple')\n",
    "else:\n",
    "    print('Eleven is not present')"
   ]
  },
  {
   "cell_type": "code",
   "execution_count": null,
   "id": "c675bcc6-7c6d-4801-9342-9b11826159e6",
   "metadata": {},
   "outputs": [],
   "source": []
  },
  {
   "cell_type": "code",
   "execution_count": null,
   "id": "9283132b-eb4b-4ffa-9b5e-14e42005298a",
   "metadata": {},
   "outputs": [],
   "source": []
  },
  {
   "cell_type": "code",
   "execution_count": null,
   "id": "43ad05ca-51b1-499f-89c1-f3efb122f742",
   "metadata": {},
   "outputs": [],
   "source": []
  },
  {
   "cell_type": "markdown",
   "id": "4c1fc8b6",
   "metadata": {},
   "source": [
    "## 🔢 Index Position"
   ]
  },
  {
   "cell_type": "code",
   "execution_count": null,
   "id": "7de3220c",
   "metadata": {},
   "outputs": [],
   "source": [
    "print(mytuple.index('one'))\n",
    "print(mytuple.index('five'))"
   ]
  },
  {
   "cell_type": "markdown",
   "id": "0c2b4522",
   "metadata": {},
   "source": [
    "## 📊 Sorting Tuples"
   ]
  },
  {
   "cell_type": "code",
   "execution_count": null,
   "id": "6f6861c6",
   "metadata": {},
   "outputs": [],
   "source": [
    "mytuple2 = (43, 67, 99, 12, 6, 90, 67)\n",
    "print(sorted(mytuple2))\n",
    "print(sorted(mytuple2, reverse=True))"
   ]
  }
 ],
 "metadata": {
  "kernelspec": {
   "display_name": "Python 3 (ipykernel)",
   "language": "python",
   "name": "python3"
  },
  "language_info": {
   "codemirror_mode": {
    "name": "ipython",
    "version": 3
   },
   "file_extension": ".py",
   "mimetype": "text/x-python",
   "name": "python",
   "nbconvert_exporter": "python",
   "pygments_lexer": "ipython3",
   "version": "3.13.5"
  }
 },
 "nbformat": 4,
 "nbformat_minor": 5
}
